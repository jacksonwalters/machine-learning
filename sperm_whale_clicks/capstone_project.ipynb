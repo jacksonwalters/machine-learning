{
 "cells": [
  {
   "cell_type": "code",
   "execution_count": 34,
   "id": "ec59f83d-31f3-490b-b614-42937529ec0e",
   "metadata": {},
   "outputs": [
    {
     "name": "stdout",
     "output_type": "stream",
     "text": [
      "Annotations_Dominica.mat SW_1_filtered.wav        capstone_project.ipynb\n"
     ]
    }
   ],
   "source": [
    "!ls"
   ]
  },
  {
   "cell_type": "code",
   "execution_count": 52,
   "id": "af04a29e-71ed-4c0b-81a7-269d5faf7b8f",
   "metadata": {},
   "outputs": [],
   "source": [
    "click_data_filename = 'SW_1_filtered.wav'"
   ]
  },
  {
   "cell_type": "code",
   "execution_count": 28,
   "id": "2707e622-3fd8-4a5f-a9c9-0234b1292d87",
   "metadata": {},
   "outputs": [],
   "source": [
    "from scipy.io import loadmat\n",
    "annots = loadmat('Annotations_Dominica.mat')\n",
    "SW_1_annotations = annots['Annotations_Dominica'][11][1][0]"
   ]
  },
  {
   "cell_type": "code",
   "execution_count": 30,
   "id": "8e3164d4-91a4-4952-ba42-9cf1e567fdee",
   "metadata": {},
   "outputs": [
    {
     "data": {
      "text/plain": [
       "431"
      ]
     },
     "execution_count": 30,
     "metadata": {},
     "output_type": "execute_result"
    }
   ],
   "source": [
    "len(SW_1_annotations)"
   ]
  },
  {
   "cell_type": "code",
   "execution_count": 39,
   "id": "cbe26ef9-8b82-44d3-98ae-8b34093c6473",
   "metadata": {},
   "outputs": [
    {
     "name": "stdout",
     "output_type": "stream",
     "text": [
      "Defaulting to user installation because normal site-packages is not writeable\n",
      "Requirement already satisfied: adtk in /Users/jacksonwalters/Library/Python/3.9/lib/python/site-packages (0.6.2)\n",
      "Requirement already satisfied: numpy>=1.15 in /Users/jacksonwalters/Library/Python/3.9/lib/python/site-packages (from adtk) (1.26.2)\n",
      "Requirement already satisfied: pandas>=0.23 in /Users/jacksonwalters/Library/Python/3.9/lib/python/site-packages (from adtk) (2.2.2)\n",
      "Requirement already satisfied: matplotlib>=3.0 in /Users/jacksonwalters/Library/Python/3.9/lib/python/site-packages (from adtk) (3.8.2)\n",
      "Requirement already satisfied: scikit-learn>=0.20 in /Users/jacksonwalters/Library/Python/3.9/lib/python/site-packages (from adtk) (1.4.1.post1)\n",
      "Requirement already satisfied: statsmodels>=0.9 in /Users/jacksonwalters/Library/Python/3.9/lib/python/site-packages (from adtk) (0.14.2)\n",
      "Requirement already satisfied: packaging>=17.0 in /Users/jacksonwalters/Library/Python/3.9/lib/python/site-packages (from adtk) (23.2)\n",
      "Requirement already satisfied: tabulate>=0.8 in /Users/jacksonwalters/Library/Python/3.9/lib/python/site-packages (from adtk) (0.9.0)\n",
      "Requirement already satisfied: contourpy>=1.0.1 in /Users/jacksonwalters/Library/Python/3.9/lib/python/site-packages (from matplotlib>=3.0->adtk) (1.2.0)\n",
      "Requirement already satisfied: cycler>=0.10 in /Users/jacksonwalters/Library/Python/3.9/lib/python/site-packages (from matplotlib>=3.0->adtk) (0.12.1)\n",
      "Requirement already satisfied: fonttools>=4.22.0 in /Users/jacksonwalters/Library/Python/3.9/lib/python/site-packages (from matplotlib>=3.0->adtk) (4.46.0)\n",
      "Requirement already satisfied: kiwisolver>=1.3.1 in /Users/jacksonwalters/Library/Python/3.9/lib/python/site-packages (from matplotlib>=3.0->adtk) (1.4.5)\n",
      "Requirement already satisfied: pillow>=8 in /Users/jacksonwalters/Library/Python/3.9/lib/python/site-packages (from matplotlib>=3.0->adtk) (9.5.0)\n",
      "Requirement already satisfied: pyparsing>=2.3.1 in /Users/jacksonwalters/Library/Python/3.9/lib/python/site-packages (from matplotlib>=3.0->adtk) (3.1.1)\n",
      "Requirement already satisfied: python-dateutil>=2.7 in /Users/jacksonwalters/Library/Python/3.9/lib/python/site-packages (from matplotlib>=3.0->adtk) (2.8.2)\n",
      "Requirement already satisfied: importlib-resources>=3.2.0 in /Users/jacksonwalters/Library/Python/3.9/lib/python/site-packages (from matplotlib>=3.0->adtk) (6.1.1)\n",
      "Requirement already satisfied: pytz>=2020.1 in /Users/jacksonwalters/Library/Python/3.9/lib/python/site-packages (from pandas>=0.23->adtk) (2023.3.post1)\n",
      "Requirement already satisfied: tzdata>=2022.7 in /Users/jacksonwalters/Library/Python/3.9/lib/python/site-packages (from pandas>=0.23->adtk) (2023.3)\n",
      "Requirement already satisfied: scipy>=1.6.0 in /Users/jacksonwalters/Library/Python/3.9/lib/python/site-packages (from scikit-learn>=0.20->adtk) (1.11.4)\n",
      "Requirement already satisfied: joblib>=1.2.0 in /Users/jacksonwalters/Library/Python/3.9/lib/python/site-packages (from scikit-learn>=0.20->adtk) (1.3.2)\n",
      "Requirement already satisfied: threadpoolctl>=2.0.0 in /Users/jacksonwalters/Library/Python/3.9/lib/python/site-packages (from scikit-learn>=0.20->adtk) (3.2.0)\n",
      "Requirement already satisfied: patsy>=0.5.6 in /Users/jacksonwalters/Library/Python/3.9/lib/python/site-packages (from statsmodels>=0.9->adtk) (0.5.6)\n",
      "Requirement already satisfied: zipp>=3.1.0 in /Users/jacksonwalters/Library/Python/3.9/lib/python/site-packages (from importlib-resources>=3.2.0->matplotlib>=3.0->adtk) (3.17.0)\n",
      "Requirement already satisfied: six in /Library/Developer/CommandLineTools/Library/Frameworks/Python3.framework/Versions/3.9/lib/python3.9/site-packages (from patsy>=0.5.6->statsmodels>=0.9->adtk) (1.15.0)\n"
     ]
    }
   ],
   "source": [
    "!pip install adtk"
   ]
  },
  {
   "cell_type": "code",
   "execution_count": 53,
   "id": "90d788d7-5051-4901-9201-c605efa13767",
   "metadata": {},
   "outputs": [],
   "source": [
    "from scipy.io import wavfile\n",
    "samplerate, data = wavfile.read(click_data_filename)"
   ]
  },
  {
   "cell_type": "code",
   "execution_count": 43,
   "id": "2133ddc7-cebe-4d71-b2f5-8dc92009950f",
   "metadata": {},
   "outputs": [
    {
     "data": {
      "text/plain": [
       "[<matplotlib.lines.Line2D at 0x11b8681f0>]"
      ]
     },
     "execution_count": 43,
     "metadata": {},
     "output_type": "execute_result"
    },
    {
     "data": {
      "image/png": "[encoded data removed]",
      "text/plain": [
       "<Figure size 640x480 with 1 Axes>"
      ]
     },
     "metadata": {},
     "output_type": "display_data"
    }
   ],
   "source": [
    "import matplotlib.pyplot as plt\n",
    "plt.plot(data)"
   ]
  },
  {
   "cell_type": "code",
   "execution_count": 60,
   "id": "c5f046c8-5e3c-479f-8082-5252fc9394e6",
   "metadata": {},
   "outputs": [
    {
     "name": "stdout",
     "output_type": "stream",
     "text": [
      "samples = 42187473\n",
      "sample rate = 156250\n",
      "seconds = 269.9998272\n"
     ]
    }
   ],
   "source": [
    "import soundfile as sf\n",
    "f = sf.SoundFile(click_data_filename)\n",
    "num_samples = f.frames\n",
    "sample_rate = f.samplerate\n",
    "seconds = f.frames / f.samplerate\n",
    "print('samples = {}'.format(f.frames))\n",
    "print('sample rate = {}'.format(f.samplerate))\n",
    "print('seconds = {}'.format(f.frames / f.samplerate))"
   ]
  },
  {
   "cell_type": "code",
   "execution_count": 74,
   "id": "34528a88-9d38-40e8-bc0e-ad1c7ea16e73",
   "metadata": {},
   "outputs": [],
   "source": [
    "time_arr = [i / sample_rate for i in range(num_samples)]"
   ]
  },
  {
   "cell_type": "code",
   "execution_count": 76,
   "id": "cc3caee5-47d3-435e-aad3-5e0edc1dae3c",
   "metadata": {},
   "outputs": [
    {
     "data": {
      "text/plain": [
       "269.9998208"
      ]
     },
     "execution_count": 76,
     "metadata": {},
     "output_type": "execute_result"
    }
   ],
   "source": [
    "time_arr[-1]"
   ]
  },
  {
   "cell_type": "code",
   "execution_count": 75,
   "id": "fca891c8-1de7-462e-b50d-ce1fcb707123",
   "metadata": {},
   "outputs": [],
   "source": [
    "datetime_index = pd.DatetimeIndex(data=time_arr)"
   ]
  },
  {
   "cell_type": "code",
   "execution_count": 45,
   "id": "391395cb-ce3e-4d16-af39-5a0b1965933f",
   "metadata": {},
   "outputs": [],
   "source": [
    "from adtk.data import validate_series"
   ]
  },
  {
   "cell_type": "code",
   "execution_count": 77,
   "id": "e6ab9176-5dfe-4a58-88d2-a007678a685a",
   "metadata": {},
   "outputs": [
    {
     "data": {
      "text/plain": [
       "1970-01-01 00:00:00.000000000    237\n",
       "1970-01-01 00:00:00.000000001    -16\n",
       "1970-01-01 00:00:00.000000002    -12\n",
       "1970-01-01 00:00:00.000000003    -31\n",
       "1970-01-01 00:00:00.000000004      3\n",
       "                                ... \n",
       "1970-01-01 00:00:00.000000265     10\n",
       "1970-01-01 00:00:00.000000266    -29\n",
       "1970-01-01 00:00:00.000000267     64\n",
       "1970-01-01 00:00:00.000000268    -22\n",
       "1970-01-01 00:00:00.000000269      3\n",
       "Freq: ns, Length: 270, dtype: int16"
      ]
     },
     "execution_count": 77,
     "metadata": {},
     "output_type": "execute_result"
    }
   ],
   "source": [
    "import pandas as pd\n",
    "time_series_df = pd.Series(data, index = datetime_index)\n",
    "validate_series(time_series_df)"
   ]
  },
  {
   "cell_type": "code",
   "execution_count": null,
   "id": "beb8dc0e-0483-4530-9230-dcdc3570f0b3",
   "metadata": {},
   "outputs": [],
   "source": []
  }
 ],
 "metadata": {
  "kernelspec": {
   "display_name": "Python 3 (ipykernel)",
   "language": "python",
   "name": "python3"
  },
  "language_info": {
   "codemirror_mode": {
    "name": "ipython",
    "version": 3
   },
   "file_extension": ".py",
   "mimetype": "text/x-python",
   "name": "python",
   "nbconvert_exporter": "python",
   "pygments_lexer": "ipython3",
   "version": "3.9.6"
  }
 },
 "nbformat": 4,
 "nbformat_minor": 5
}
