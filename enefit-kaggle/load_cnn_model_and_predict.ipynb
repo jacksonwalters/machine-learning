{
 "cells": [
  {
   "cell_type": "code",
   "execution_count": 63,
   "id": "8e3172cd",
   "metadata": {},
   "outputs": [],
   "source": [
    "import os\n",
    "import numpy as np\n",
    "import pandas as pd\n",
    "import tensorflow as tf\n",
    "import matplotlib.pyplot as plt\n",
    "from load_data import merged_df\n",
    "from window_generator_cnn_predict import WindowGenerator"
   ]
  },
  {
   "cell_type": "code",
   "execution_count": 64,
   "id": "eb8fa3e4",
   "metadata": {},
   "outputs": [],
   "source": [
    "os.chdir(\"/Users/jacksonwalters/Documents/GitHub/enefit-kaggle/predict-energy-behavior-of-prosumers/\")"
   ]
  },
  {
   "cell_type": "code",
   "execution_count": 65,
   "id": "d8152b91",
   "metadata": {},
   "outputs": [],
   "source": [
    "#load the model using the legacy .h5 save method\n",
    "cnn_model = tf.keras.models.load_model('../models/cnn_model.keras')"
   ]
  },
  {
   "cell_type": "code",
   "execution_count": 66,
   "id": "950931e0-af56-43c5-8035-5162f5dfde6e",
   "metadata": {},
   "outputs": [
    {
     "name": "stdout",
     "output_type": "stream",
     "text": [
      "Model: \"sequential_5\"\n",
      "_________________________________________________________________\n",
      " Layer (type)                Output Shape              Param #   \n",
      "=================================================================\n",
      " batch_normalization_5 (Bat  (None, 12, 24)            96        \n",
      " chNormalization)                                                \n",
      "                                                                 \n",
      " conv1d_5 (Conv1D)           (None, 1, 32)             9248      \n",
      "                                                                 \n",
      " dense_10 (Dense)            (None, 1, 32)             1056      \n",
      "                                                                 \n",
      " dense_11 (Dense)            (None, 1, 1)              33        \n",
      "                                                                 \n",
      " reshape_4 (Reshape)         (None,)                   0         \n",
      "                                                                 \n",
      "=================================================================\n",
      "Total params: 10433 (40.75 KB)\n",
      "Trainable params: 10385 (40.57 KB)\n",
      "Non-trainable params: 48 (192.00 Byte)\n",
      "_________________________________________________________________\n"
     ]
    }
   ],
   "source": [
    "cnn_model.summary()"
   ]
  },
  {
   "cell_type": "code",
   "execution_count": 4,
   "id": "dd2eb990",
   "metadata": {},
   "outputs": [
    {
     "name": "stdout",
     "output_type": "stream",
     "text": [
      "loading train data...\n",
      "loading gas_prices...\n",
      "loading electricity_prices...\n",
      "loading forecast_weather...\n",
      "merging train and gas_prices...\n",
      "merging electricity_prices...\n",
      "merging forecast_weather...\n"
     ]
    }
   ],
   "source": [
    "df = merged_df()"
   ]
  },
  {
   "cell_type": "code",
   "execution_count": 67,
   "id": "1d2417b3",
   "metadata": {},
   "outputs": [],
   "source": [
    "#create a prediction df with all target values set to zero\n",
    "predict_df = df[:100_000].copy()"
   ]
  },
  {
   "cell_type": "code",
   "execution_count": 68,
   "id": "ea23a0a3",
   "metadata": {},
   "outputs": [],
   "source": [
    "#set the target to zero. this means we don't have any prior knowledge of the targets\n",
    "predict_df['target'] = 0."
   ]
  },
  {
   "cell_type": "code",
   "execution_count": 69,
   "id": "07d9b6b7",
   "metadata": {},
   "outputs": [],
   "source": [
    "#multi-step dense network\n",
    "CONV_WIDTH = 12\n",
    "conv_window = WindowGenerator(\n",
    "    predict_df = predict_df,\n",
    "    input_width=CONV_WIDTH,\n",
    "    label_width=1,\n",
    "    shift=1,\n",
    "    label_columns=None)"
   ]
  },
  {
   "cell_type": "code",
   "execution_count": 70,
   "id": "d8642f75",
   "metadata": {},
   "outputs": [
    {
     "name": "stdout",
     "output_type": "stream",
     "text": [
      "Input shape: (32, 12, 24)\n",
      "Output shape: (32,)\n"
     ]
    }
   ],
   "source": [
    "print('Input shape:', conv_window.example[0].shape)\n",
    "print('Output shape:', cnn_model(conv_window.example[0]).shape)"
   ]
  },
  {
   "cell_type": "code",
   "execution_count": 71,
   "id": "96e26d90",
   "metadata": {},
   "outputs": [
    {
     "name": "stdout",
     "output_type": "stream",
     "text": [
      "1/1 [==============================] - 0s 124ms/step\n"
     ]
    },
    {
     "data": {
      "text/plain": [
       "array([4.4236937, 3.5083323, 3.614612 , 3.4118683, 4.1260114, 4.6097374,\n",
       "       4.059664 , 4.669627 , 3.836762 , 4.6434197, 3.9667733, 3.7722063,\n",
       "       3.2709942, 3.0424068, 3.924722 , 3.4995837, 3.7406573, 4.0532827,\n",
       "       4.3338447, 4.036341 , 2.7434535, 3.6825666, 3.6922872, 3.3697805,\n",
       "       3.8178082, 2.5590231, 3.7498977, 3.2020311, 3.446014 , 3.3464618,\n",
       "       4.630179 , 3.1024594], dtype=float32)"
      ]
     },
     "execution_count": 71,
     "metadata": {},
     "output_type": "execute_result"
    }
   ],
   "source": [
    "#note that the train, test, validation data all have a second \"label\" representing the target value\n",
    "cnn_model.predict(conv_window.example[0])"
   ]
  },
  {
   "cell_type": "code",
   "execution_count": 72,
   "id": "37d4a6ff-c432-4a74-a2ef-6cf263d16f93",
   "metadata": {},
   "outputs": [
    {
     "name": "stdout",
     "output_type": "stream",
     "text": [
      "3125/3125 [==============================] - 12s 4ms/step\n"
     ]
    }
   ],
   "source": [
    "pred=cnn_model.predict(conv_window.predict)"
   ]
  },
  {
   "cell_type": "code",
   "execution_count": null,
   "id": "1a4a94ec-6190-44f2-8c20-8a7d2945fe09",
   "metadata": {},
   "outputs": [],
   "source": []
  }
 ],
 "metadata": {
  "kernelspec": {
   "display_name": "Python 3 (ipykernel)",
   "language": "python",
   "name": "python3"
  },
  "language_info": {
   "codemirror_mode": {
    "name": "ipython",
    "version": 3
   },
   "file_extension": ".py",
   "mimetype": "text/x-python",
   "name": "python",
   "nbconvert_exporter": "python",
   "pygments_lexer": "ipython3",
   "version": "3.9.6"
  }
 },
 "nbformat": 4,
 "nbformat_minor": 5
}
