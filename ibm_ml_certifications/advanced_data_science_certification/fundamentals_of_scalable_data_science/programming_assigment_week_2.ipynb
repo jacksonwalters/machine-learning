{
 "cells": [
  {
   "cell_type": "code",
   "execution_count": null,
   "id": "60c1d4b5-70c3-4fdc-972e-1f417c7b3c19",
   "metadata": {},
   "outputs": [],
   "source": [
    "#!pip install pyspark==3.1.2\n",
    "#!pip install findspark"
   ]
  },
  {
   "cell_type": "code",
   "execution_count": 1,
   "id": "f2d02ab9-2f19-4ef7-a77f-28c73723cc3f",
   "metadata": {},
   "outputs": [],
   "source": [
    "import findspark\n",
    "findspark.init()"
   ]
  },
  {
   "cell_type": "code",
   "execution_count": 2,
   "id": "517dc274-3d1c-440d-baba-817be62212ec",
   "metadata": {},
   "outputs": [],
   "source": [
    "try:\n",
    "    from pyspark import SparkContext, SparkConf\n",
    "    from pyspark.sql import SparkSession\n",
    "except ImportError as e:\n",
    "    printmd('<<<<<!!!!! Please restart your kernel after installing Apache Spark !!!!!>>>>>')"
   ]
  },
  {
   "cell_type": "code",
   "execution_count": 3,
   "id": "289cef31-8c24-40eb-b2c6-fbccc4782927",
   "metadata": {},
   "outputs": [
    {
     "name": "stderr",
     "output_type": "stream",
     "text": [
      "Setting default log level to \"WARN\".\n",
      "To adjust logging level use sc.setLogLevel(newLevel). For SparkR, use setLogLevel(newLevel).\n",
      "24/04/16 09:08:22 WARN NativeCodeLoader: Unable to load native-hadoop library for your platform... using builtin-java classes where applicable\n"
     ]
    }
   ],
   "source": [
    "sc = SparkContext.getOrCreate(SparkConf().setMaster(\"local[*]\"))\n",
    "\n",
    "spark = SparkSession \\\n",
    "    .builder \\\n",
    "    .getOrCreate()"
   ]
  },
  {
   "cell_type": "code",
   "execution_count": 5,
   "id": "58ad2a8f-136d-4fe7-8ec3-25edc7e7dc0a",
   "metadata": {},
   "outputs": [
    {
     "name": "stdout",
     "output_type": "stream",
     "text": [
      "--2024-04-16 10:36:00--  https://cf-courses-data.s3.us.cloud-object-storage.appdomain.cloud/IBMSkillsNetwork-SN0101EN-SkillsNetwork/labs/Week2_FSDS/washing.parquet\n",
      "Resolving cf-courses-data.s3.us.cloud-object-storage.appdomain.cloud (cf-courses-data.s3.us.cloud-object-storage.appdomain.cloud)... 169.63.118.104\n",
      "Connecting to cf-courses-data.s3.us.cloud-object-storage.appdomain.cloud (cf-courses-data.s3.us.cloud-object-storage.appdomain.cloud)|169.63.118.104|:443... connected.\n",
      "HTTP request sent, awaiting response... 200 OK\n",
      "Length: 112048 (109K) [binary/octet-stream]\n",
      "Saving to: ‘washing.parquet’\n",
      "\n",
      "washing.parquet     100%[===================>] 109.42K  --.-KB/s    in 0.03s   \n",
      "\n",
      "2024-04-16 10:36:01 (3.16 MB/s) - ‘washing.parquet’ saved [112048/112048]\n",
      "\n",
      "zsh:1: no matches found: washing.parquet?raw=true\n"
     ]
    }
   ],
   "source": [
    "!wget https://cf-courses-data.s3.us.cloud-object-storage.appdomain.cloud/IBMSkillsNetwork-SN0101EN-SkillsNetwork/labs/Week2_FSDS/washing.parquet\n",
    "!mv washing.parquet?raw=true washing.parquet"
   ]
  },
  {
   "cell_type": "code",
   "execution_count": 6,
   "id": "9e567571-5267-42ad-a787-392ed0a5a629",
   "metadata": {},
   "outputs": [
    {
     "name": "stderr",
     "output_type": "stream",
     "text": [
      "[Stage 1:>                                                          (0 + 1) / 1]\r"
     ]
    },
    {
     "name": "stdout",
     "output_type": "stream",
     "text": [
      "+--------------------+--------------------+-----+--------+----------+---------+--------+-----+-----------+-------------+-------+\n",
      "|                 _id|                _rev|count|flowrate|fluidlevel|frequency|hardness|speed|temperature|           ts|voltage|\n",
      "+--------------------+--------------------+-----+--------+----------+---------+--------+-----+-----------+-------------+-------+\n",
      "|0d86485d0f88d1f9d...|1-57940679fb8a713...|    4|      11|acceptable|     NULL|      77| NULL|        100|1547808723923|   NULL|\n",
      "|0d86485d0f88d1f9d...|1-15ff3a0b304d789...|    2|    NULL|      NULL|     NULL|    NULL| 1046|       NULL|1547808729917|   NULL|\n",
      "|0d86485d0f88d1f9d...|1-97c2742b68c7b07...|    4|    NULL|      NULL|       71|    NULL| NULL|       NULL|1547808731918|    236|\n",
      "|0d86485d0f88d1f9d...|1-eefb903dbe45746...|   19|      11|acceptable|     NULL|      75| NULL|         86|1547808738999|   NULL|\n",
      "|0d86485d0f88d1f9d...|1-5f68b4c72813c25...|    7|    NULL|      NULL|       75|    NULL| NULL|       NULL|1547808740927|    235|\n",
      "|0d86485d0f88d1f9d...|1-cd4b6c57ddbe77e...|    5|    NULL|      NULL|     NULL|    NULL| 1014|       NULL|1547808744923|   NULL|\n",
      "|0d86485d0f88d1f9d...|1-a35b25b5bf43aaf...|   32|      11|acceptable|     NULL|      73| NULL|         84|1547808752028|   NULL|\n",
      "|0d86485d0f88d1f9d...|1-b717f7289a8476d...|   48|      11|acceptable|     NULL|      79| NULL|         84|1547808768065|   NULL|\n",
      "|0d86485d0f88d1f9d...|1-c2f1f8fcf178b2f...|   18|    NULL|      NULL|       73|    NULL| NULL|       NULL|1547808773944|    228|\n",
      "|0d86485d0f88d1f9d...|1-15033dd9eebb4a8...|   59|      11|acceptable|     NULL|      72| NULL|         96|1547808779093|   NULL|\n",
      "|0d86485d0f88d1f9d...|1-753dae825f9a6c2...|   62|      11|acceptable|     NULL|      73| NULL|         88|1547808782113|   NULL|\n",
      "|0d86485d0f88d1f9d...|1-b168089f44f03f0...|   13|    NULL|      NULL|     NULL|    NULL| 1097|       NULL|1547808784940|   NULL|\n",
      "|0d86485d0f88d1f9d...|1-403b687c6be0dea...|   23|    NULL|      NULL|       80|    NULL| NULL|       NULL|1547808788955|    236|\n",
      "|0d86485d0f88d1f9d...|1-195551e0455a24b...|   72|      11|acceptable|     NULL|      77| NULL|         87|1547808792134|   NULL|\n",
      "|0d86485d0f88d1f9d...|1-060a39fc6c2ddee...|   26|    NULL|      NULL|       62|    NULL| NULL|       NULL|1547808797959|    233|\n",
      "|0d86485d0f88d1f9d...|1-2234514bffee465...|   27|    NULL|      NULL|       61|    NULL| NULL|       NULL|1547808800960|    226|\n",
      "|0d86485d0f88d1f9d...|1-4265898bb401db0...|   82|      11|acceptable|     NULL|      79| NULL|         96|1547808802154|   NULL|\n",
      "|0d86485d0f88d1f9d...|1-2fbf7ca9a0425a0...|   94|      11|acceptable|     NULL|      73| NULL|         90|1547808814186|   NULL|\n",
      "|0d86485d0f88d1f9d...|1-203c0ee6d7fbd21...|   97|      11|acceptable|     NULL|      77| NULL|         88|1547808817190|   NULL|\n",
      "|0d86485d0f88d1f9d...|1-47e1965db94fcab...|  104|      11|acceptable|     NULL|      75| NULL|         80|1547808824198|   NULL|\n",
      "+--------------------+--------------------+-----+--------+----------+---------+--------+-----+-----------+-------------+-------+\n",
      "only showing top 20 rows\n",
      "\n"
     ]
    },
    {
     "name": "stderr",
     "output_type": "stream",
     "text": [
      "                                                                                \r"
     ]
    }
   ],
   "source": [
    "df = spark.read.parquet('washing.parquet')\n",
    "df.createOrReplaceTempView('washing')\n",
    "df.show()"
   ]
  },
  {
   "cell_type": "code",
   "execution_count": 8,
   "id": "598ee060-648a-47ba-960c-2d46b08cdee7",
   "metadata": {},
   "outputs": [
    {
     "data": {
      "text/plain": [
       "[Table(name='washing', catalog=None, namespace=[], description=None, tableType='TEMPORARY', isTemporary=True)]"
      ]
     },
     "execution_count": 8,
     "metadata": {},
     "output_type": "execute_result"
    }
   ],
   "source": [
    "spark.catalog.listTables()"
   ]
  },
  {
   "cell_type": "code",
   "execution_count": 9,
   "id": "8e6e6fef-73be-4554-93ce-8c1d486061f1",
   "metadata": {},
   "outputs": [
    {
     "name": "stdout",
     "output_type": "stream",
     "text": [
      "+---------+\n",
      "|namespace|\n",
      "+---------+\n",
      "|  default|\n",
      "+---------+\n",
      "\n"
     ]
    }
   ],
   "source": [
    "spark.sql('show databases').show()"
   ]
  },
  {
   "cell_type": "code",
   "execution_count": 7,
   "id": "cc2c8abd-b9ce-43f2-9a55-c943cf0fd229",
   "metadata": {},
   "outputs": [],
   "source": [
    "#Please implement a function returning the number of rows in the dataframe\n",
    "def count(df, spark):\n",
    "    #TODO Please enter your code here, you are not required to use the template code below\n",
    "    #some reference: https://spark.apache.org/docs/latest/api/python/getting_started/quickstart_df.html#Working-with-SQL\n",
    "    #some more help: https://www.w3schools.com/sql/sql_count_avg_sum.asp\n",
    "    return spark.sql('select count(*) as cnt from washing').first().cnt"
   ]
  },
  {
   "cell_type": "code",
   "execution_count": 10,
   "id": "749b85e8-c344-40f4-9bcd-762831882728",
   "metadata": {},
   "outputs": [],
   "source": [
    "def getNumberOfFields(df,spark):\n",
    "    #TODO Please enter your code here, you are not required to use the template code below\n",
    "    #some reference: https://spark.apache.org/docs/latest/api/python/getting_started/quickstart_df.html#Working-with-SQL\n",
    "    return len(df.columns)"
   ]
  },
  {
   "cell_type": "code",
   "execution_count": 11,
   "id": "8ab9acb5-a462-49dc-9c8a-e0cd5c234de9",
   "metadata": {},
   "outputs": [],
   "source": [
    "def getFieldNames(df,spark):\n",
    "    #TODO Please enter your code here, you are not required to use the template code below\n",
    "    #some reference: https://spark.apache.org/docs/latest/api/python/getting_started/quickstart_df.html#Working-with-SQL\n",
    "    return df.columns"
   ]
  },
  {
   "cell_type": "code",
   "execution_count": 12,
   "id": "62f12292-dac0-4729-91d3-470915103e56",
   "metadata": {},
   "outputs": [
    {
     "name": "stdout",
     "output_type": "stream",
     "text": [
      "2058\n"
     ]
    }
   ],
   "source": [
    "cnt = None\n",
    "nof = None\n",
    "fn = None\n",
    "\n",
    "cnt = count(df , spark)\n",
    "print(cnt)"
   ]
  },
  {
   "cell_type": "code",
   "execution_count": 13,
   "id": "8101eb9e-5988-47a1-ad36-f0eaef9fb1d1",
   "metadata": {},
   "outputs": [
    {
     "name": "stdout",
     "output_type": "stream",
     "text": [
      "11\n"
     ]
    }
   ],
   "source": [
    "nof = getNumberOfFields(df, spark)\n",
    "print(nof)"
   ]
  },
  {
   "cell_type": "code",
   "execution_count": 14,
   "id": "9ec7cc68-8167-4368-8c82-1c81fea99ca8",
   "metadata": {},
   "outputs": [
    {
     "name": "stdout",
     "output_type": "stream",
     "text": [
      "['_id', '_rev', 'count', 'flowrate', 'fluidlevel', 'frequency', 'hardness', 'speed', 'temperature', 'ts', 'voltage']\n"
     ]
    }
   ],
   "source": [
    "fn = getFieldNames(df , spark)\n",
    "print(fn)"
   ]
  },
  {
   "cell_type": "code",
   "execution_count": 15,
   "id": "da445d04-3848-4ad1-8491-dd218262a920",
   "metadata": {},
   "outputs": [
    {
     "name": "stdout",
     "output_type": "stream",
     "text": [
      "--2024-04-16 10:38:03--  https://cf-courses-data.s3.us.cloud-object-storage.appdomain.cloud/IBMSkillsNetwork-SN0101EN-SkillsNetwork/rklib.py\n",
      "Resolving cf-courses-data.s3.us.cloud-object-storage.appdomain.cloud (cf-courses-data.s3.us.cloud-object-storage.appdomain.cloud)... 169.63.118.104\n",
      "Connecting to cf-courses-data.s3.us.cloud-object-storage.appdomain.cloud (cf-courses-data.s3.us.cloud-object-storage.appdomain.cloud)|169.63.118.104|:443... connected.\n",
      "HTTP request sent, awaiting response... 200 OK\n",
      "Length: 2597 (2.5K) [application/x-python]\n",
      "Saving to: ‘rklib.py’\n",
      "\n",
      "rklib.py            100%[===================>]   2.54K  --.-KB/s    in 0s      \n",
      "\n",
      "2024-04-16 10:38:03 (1.21 GB/s) - ‘rklib.py’ saved [2597/2597]\n",
      "\n"
     ]
    }
   ],
   "source": [
    "!rm -f rklib.py\n",
    "!wget https://cf-courses-data.s3.us.cloud-object-storage.appdomain.cloud/IBMSkillsNetwork-SN0101EN-SkillsNetwork/rklib.py"
   ]
  },
  {
   "cell_type": "code",
   "execution_count": null,
   "id": "19241099-23a4-4f51-8ea1-fb0ab6739a14",
   "metadata": {},
   "outputs": [],
   "source": [
    "from rklib import submit, submitAll\n",
    "import json\n",
    "\n",
    "key = \"SVDiVSHNEeiDqw70MIp2vA\"\n",
    "\n",
    "if type(23) != type(cnt):\n",
    "    raise ValueError('Please make sure that \"cnt\" is a number')\n",
    "\n",
    "if type(23) != type(nof):\n",
    "    raise ValueError('Please make sure that \"nof\" is a number')\n",
    "\n",
    "if type([]) != type(fn):\n",
    "    raise ValueError('Please make sure that \"fn\" is a list')\n",
    "\n",
    "email = \"jacksonwalters@gmail.com\"\n",
    "token = \"o2VxLgc0IB0If6Wa\" #(have a look here if you need more information on how to obtain the token https://youtu.be/GcDo0Rwe06U?t=276)\n",
    "\n",
    "parts_data = {}\n",
    "parts_data[\"2FjQw\"] = json.dumps(cnt)\n",
    "parts_data[\"j8gMs\"] = json.dumps(nof)\n",
    "parts_data[\"xaauC\"] = json.dumps(fn)\n",
    "\n",
    "\n",
    "submitAll(email, token, key, parts_data)"
   ]
  }
 ],
 "metadata": {
  "kernelspec": {
   "display_name": "Python 3 (ipykernel)",
   "language": "python",
   "name": "python3"
  },
  "language_info": {
   "codemirror_mode": {
    "name": "ipython",
    "version": 3
   },
   "file_extension": ".py",
   "mimetype": "text/x-python",
   "name": "python",
   "nbconvert_exporter": "python",
   "pygments_lexer": "ipython3",
   "version": "3.9.6"
  }
 },
 "nbformat": 4,
 "nbformat_minor": 5
}
