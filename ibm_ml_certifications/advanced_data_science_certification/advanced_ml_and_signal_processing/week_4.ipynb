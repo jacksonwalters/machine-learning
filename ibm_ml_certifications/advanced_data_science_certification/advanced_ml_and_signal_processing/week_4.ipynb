{
 "cells": [
  {
   "cell_type": "code",
   "execution_count": 1,
   "id": "3f0b5426-72bc-4277-a6cc-fd633f4a5b93",
   "metadata": {},
   "outputs": [
    {
     "name": "stdout",
     "output_type": "stream",
     "text": [
      "--2024-04-19 15:19:55--  https://archive.apache.org/dist/spark/spark-3.3.3/spark-3.3.3-bin-hadoop3.tgz\n",
      "Resolving archive.apache.org (archive.apache.org)... 65.108.204.189, 2a01:4f9:1a:a084::2\n",
      "Connecting to archive.apache.org (archive.apache.org)|65.108.204.189|:443... connected.\n",
      "HTTP request sent, awaiting response... 200 OK\n",
      "Length: 299426263 (286M) [application/x-gzip]\n",
      "Saving to: ‘spark-3.3.3-bin-hadoop3.tgz’\n",
      "\n",
      "spark-3.3.3-bin-had 100%[===================>] 285.55M   601KB/s    in 11m 1s  \n",
      "\n",
      "2024-04-19 15:30:57 (442 KB/s) - ‘spark-3.3.3-bin-hadoop3.tgz’ saved [299426263/299426263]\n",
      "\n"
     ]
    }
   ],
   "source": [
    "!wget https://archive.apache.org/dist/spark/spark-3.3.3/spark-3.3.3-bin-hadoop3.tgz && tar xf spark-3.3.3-bin-hadoop3.tgz && rm -rf spark-3.3.3-bin-hadoop3.tgz``"
   ]
  },
  {
   "cell_type": "code",
   "execution_count": 2,
   "id": "909783b6-ef24-441c-a1c0-0af727f661f3",
   "metadata": {},
   "outputs": [],
   "source": [
    "!export JAVA_HOME=/usr/lib/jvm/java-1.11.0-openjdk-amd64"
   ]
  },
  {
   "cell_type": "code",
   "execution_count": 3,
   "id": "e3fe4594-e320-4e8f-aff0-023028de3de4",
   "metadata": {},
   "outputs": [],
   "source": [
    "!export SPARK_HOME=/home/project/spark-3.3.3-bin-hadoop3"
   ]
  },
  {
   "cell_type": "code",
   "execution_count": 4,
   "id": "ff1b43db-6e24-41a6-a701-ccebb1ad8c05",
   "metadata": {},
   "outputs": [],
   "source": [
    "!cd spark-3.3.3-bin-hadoop3"
   ]
  },
  {
   "cell_type": "code",
   "execution_count": 5,
   "id": "86211c0e-f92a-4771-bbfe-78cd50a48b66",
   "metadata": {},
   "outputs": [
    {
     "name": "stdout",
     "output_type": "stream",
     "text": [
      "Defaulting to user installation because normal site-packages is not writeable\n",
      "Requirement already satisfied: pyspark in /Users/jacksonwalters/Library/Python/3.9/lib/python/site-packages (3.5.1)\n",
      "Requirement already satisfied: findspark in /Users/jacksonwalters/Library/Python/3.9/lib/python/site-packages (2.0.1)\n",
      "Collecting systemds\n",
      "  Downloading systemds-3.2.0-py3-none-any.whl.metadata (2.2 kB)\n",
      "Requirement already satisfied: py4j==0.10.9.7 in /Users/jacksonwalters/Library/Python/3.9/lib/python/site-packages (from pyspark) (0.10.9.7)\n",
      "Requirement already satisfied: numpy>=1.8.2 in /Users/jacksonwalters/Library/Python/3.9/lib/python/site-packages (from systemds) (1.26.2)\n",
      "Requirement already satisfied: requests>=2.24.0 in /Users/jacksonwalters/Library/Python/3.9/lib/python/site-packages (from systemds) (2.31.0)\n",
      "Requirement already satisfied: pandas>=1.2.2 in /Users/jacksonwalters/Library/Python/3.9/lib/python/site-packages (from systemds) (1.3.5)\n",
      "Requirement already satisfied: python-dateutil>=2.7.3 in /Users/jacksonwalters/Library/Python/3.9/lib/python/site-packages (from pandas>=1.2.2->systemds) (2.8.2)\n",
      "Requirement already satisfied: pytz>=2017.3 in /Users/jacksonwalters/Library/Python/3.9/lib/python/site-packages (from pandas>=1.2.2->systemds) (2023.3.post1)\n",
      "Requirement already satisfied: charset-normalizer<4,>=2 in /Users/jacksonwalters/Library/Python/3.9/lib/python/site-packages (from requests>=2.24.0->systemds) (3.3.2)\n",
      "Requirement already satisfied: idna<4,>=2.5 in /Users/jacksonwalters/Library/Python/3.9/lib/python/site-packages (from requests>=2.24.0->systemds) (3.6)\n",
      "Requirement already satisfied: urllib3<3,>=1.21.1 in /Users/jacksonwalters/Library/Python/3.9/lib/python/site-packages (from requests>=2.24.0->systemds) (1.26.15)\n",
      "Requirement already satisfied: certifi>=2017.4.17 in /Users/jacksonwalters/Library/Python/3.9/lib/python/site-packages (from requests>=2.24.0->systemds) (2023.11.17)\n",
      "Requirement already satisfied: six>=1.5 in /Applications/Xcode.app/Contents/Developer/Library/Frameworks/Python3.framework/Versions/3.9/lib/python3.9/site-packages (from python-dateutil>=2.7.3->pandas>=1.2.2->systemds) (1.15.0)\n",
      "Downloading systemds-3.2.0-py3-none-any.whl (74.3 MB)\n",
      "\u001b[2K   \u001b[90m━━━━━━━━━━━━━━━━━━━━━━━━━━━━━━━━━━━━━━━━\u001b[0m \u001b[32m74.3/74.3 MB\u001b[0m \u001b[31m211.2 kB/s\u001b[0m eta \u001b[36m0:00:00\u001b[0m00:01\u001b[0m00:12\u001b[0m\n",
      "\u001b[?25hInstalling collected packages: systemds\n",
      "Successfully installed systemds-3.2.0\n"
     ]
    }
   ],
   "source": [
    "!python3 -m pip install pyspark findspark systemds"
   ]
  },
  {
   "cell_type": "code",
   "execution_count": 7,
   "id": "7e55c29d-8989-4614-a812-a7329176a80e",
   "metadata": {},
   "outputs": [
    {
     "name": "stdout",
     "output_type": "stream",
     "text": [
      "--2024-04-19 16:04:11--  https://cf-courses-data.s3.us.cloud-object-storage.appdomain.cloud/IBMSkillsNetwork-SN0101EN-SkillsNetwork/labs/Week4_MLSP/shake.parquet\n",
      "Resolving cf-courses-data.s3.us.cloud-object-storage.appdomain.cloud (cf-courses-data.s3.us.cloud-object-storage.appdomain.cloud)... 169.45.118.108\n",
      "Connecting to cf-courses-data.s3.us.cloud-object-storage.appdomain.cloud (cf-courses-data.s3.us.cloud-object-storage.appdomain.cloud)|169.45.118.108|:443... connected.\n",
      "HTTP request sent, awaiting response... 200 OK\n",
      "Length: 74727 (73K) [binary/octet-stream]\n",
      "Saving to: ‘shake.parquet’\n",
      "\n",
      "shake.parquet       100%[===================>]  72.98K   373KB/s    in 0.2s    \n",
      "\n",
      "2024-04-19 16:04:12 (373 KB/s) - ‘shake.parquet’ saved [74727/74727]\n",
      "\n"
     ]
    }
   ],
   "source": [
    "!wget https://cf-courses-data.s3.us.cloud-object-storage.appdomain.cloud/IBMSkillsNetwork-SN0101EN-SkillsNetwork/labs/Week4_MLSP/shake.parquet"
   ]
  },
  {
   "cell_type": "code",
   "execution_count": 9,
   "id": "4d67004e-812d-4763-9078-34f12a0f2069",
   "metadata": {},
   "outputs": [
    {
     "name": "stdout",
     "output_type": "stream",
     "text": [
      "--2024-04-19 16:15:09--  https://cf-courses-data.s3.us.cloud-object-storage.appdomain.cloud/IBMSkillsNetwork-SN0101EN-SkillsNetwork/rklib.py\n",
      "Resolving cf-courses-data.s3.us.cloud-object-storage.appdomain.cloud (cf-courses-data.s3.us.cloud-object-storage.appdomain.cloud)... 169.63.118.104\n",
      "Connecting to cf-courses-data.s3.us.cloud-object-storage.appdomain.cloud (cf-courses-data.s3.us.cloud-object-storage.appdomain.cloud)|169.63.118.104|:443... connected.\n",
      "HTTP request sent, awaiting response... 200 OK\n",
      "Length: 2597 (2.5K) [application/x-python]\n",
      "Saving to: ‘rklib.py’\n",
      "\n",
      "rklib.py            100%[===================>]   2.54K  --.-KB/s    in 0s      \n",
      "\n",
      "2024-04-19 16:15:09 (1.21 GB/s) - ‘rklib.py’ saved [2597/2597]\n",
      "\n"
     ]
    }
   ],
   "source": [
    "!wget https://cf-courses-data.s3.us.cloud-object-storage.appdomain.cloud/IBMSkillsNetwork-SN0101EN-SkillsNetwork/rklib.py"
   ]
  },
  {
   "cell_type": "code",
   "execution_count": 10,
   "id": "0a30585f-1190-4ead-ad85-90c49694c1f2",
   "metadata": {},
   "outputs": [
    {
     "name": "stdout",
     "output_type": "stream",
     "text": [
      "--2024-04-19 16:15:30--  https://raw.githubusercontent.com/ibm-developer-skills-network/Data-Engineering/main/Machine%20Learning%20with%20Signal%20Processing/Assignment.py\n",
      "Resolving raw.githubusercontent.com (raw.githubusercontent.com)... 185.199.110.133, 185.199.109.133, 185.199.111.133, ...\n",
      "Connecting to raw.githubusercontent.com (raw.githubusercontent.com)|185.199.110.133|:443... connected.\n",
      "HTTP request sent, awaiting response... 200 OK\n",
      "Length: 3207 (3.1K) [text/plain]\n",
      "Saving to: ‘Assignment.py’\n",
      "\n",
      "Assignment.py       100%[===================>]   3.13K  --.-KB/s    in 0.001s  \n",
      "\n",
      "2024-04-19 16:15:31 (2.34 MB/s) - ‘Assignment.py’ saved [3207/3207]\n",
      "\n"
     ]
    }
   ],
   "source": [
    "!wget https://raw.githubusercontent.com/ibm-developer-skills-network/Data-Engineering/main/Machine%20Learning%20with%20Signal%20Processing/Assignment.py"
   ]
  },
  {
   "cell_type": "code",
   "execution_count": null,
   "id": "a5999eff-5fc0-486a-bb91-775a9347dafa",
   "metadata": {},
   "outputs": [],
   "source": []
  }
 ],
 "metadata": {
  "kernelspec": {
   "display_name": "Python 3 (ipykernel)",
   "language": "python",
   "name": "python3"
  },
  "language_info": {
   "codemirror_mode": {
    "name": "ipython",
    "version": 3
   },
   "file_extension": ".py",
   "mimetype": "text/x-python",
   "name": "python",
   "nbconvert_exporter": "python",
   "pygments_lexer": "ipython3",
   "version": "3.9.6"
  }
 },
 "nbformat": 4,
 "nbformat_minor": 5
}
