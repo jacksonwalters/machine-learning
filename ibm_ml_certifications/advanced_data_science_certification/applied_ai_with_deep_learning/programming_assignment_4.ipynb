{
 "cells": [
  {
   "cell_type": "code",
   "execution_count": 1,
   "id": "5d234266-bee0-446b-8563-acddc7066501",
   "metadata": {},
   "outputs": [],
   "source": [
    "from IPython.display import Markdown, display\n",
    "def printmd(string):\n",
    "    display(Markdown('# <span style=\"color:red\">'+string+'</span>'))\n",
    "\n",
    "\n",
    "if ('sc' in locals() or 'sc' in globals()):\n",
    "    printmd('<<<<<!!!!! It seems that you are running in a IBM Watson Studio Apache Spark Notebook. Please run it in an IBM Watson Studio Default Runtime (without Apache Spark) !!!!!>>>>>')\n",
    "    \n"
   ]
  },
  {
   "cell_type": "code",
   "execution_count": 3,
   "id": "3138cb58-7cd7-413d-8f9e-052bd8c39e19",
   "metadata": {},
   "outputs": [
    {
     "data": {
      "text/plain": [
       "'3.5.1'"
      ]
     },
     "execution_count": 3,
     "metadata": {},
     "output_type": "execute_result"
    }
   ],
   "source": [
    "import pyspark\n",
    "pyspark.__version__"
   ]
  },
  {
   "cell_type": "code",
   "execution_count": 4,
   "id": "b71cc457-1ad9-48aa-9551-83c938d6738d",
   "metadata": {},
   "outputs": [
    {
     "name": "stdout",
     "output_type": "stream",
     "text": [
      "Defaulting to user installation because normal site-packages is not writeable\n",
      "Collecting systemds==2.2.1\n",
      "  Downloading systemds-2.2.1-py3-none-any.whl.metadata (2.2 kB)\n",
      "Requirement already satisfied: numpy>=1.8.2 in /Users/jacksonwalters/Library/Python/3.9/lib/python/site-packages (from systemds==2.2.1) (1.26.2)\n",
      "Requirement already satisfied: py4j>=0.10.9 in /Users/jacksonwalters/Library/Python/3.9/lib/python/site-packages (from systemds==2.2.1) (0.10.9.7)\n",
      "Requirement already satisfied: requests>=2.24.0 in /Users/jacksonwalters/Library/Python/3.9/lib/python/site-packages (from systemds==2.2.1) (2.31.0)\n",
      "Requirement already satisfied: pandas>=1.2.2 in /Users/jacksonwalters/Library/Python/3.9/lib/python/site-packages (from systemds==2.2.1) (1.3.5)\n",
      "Requirement already satisfied: python-dateutil>=2.7.3 in /Users/jacksonwalters/Library/Python/3.9/lib/python/site-packages (from pandas>=1.2.2->systemds==2.2.1) (2.8.2)\n",
      "Requirement already satisfied: pytz>=2017.3 in /Users/jacksonwalters/Library/Python/3.9/lib/python/site-packages (from pandas>=1.2.2->systemds==2.2.1) (2023.3.post1)\n",
      "Requirement already satisfied: charset-normalizer<4,>=2 in /Users/jacksonwalters/Library/Python/3.9/lib/python/site-packages (from requests>=2.24.0->systemds==2.2.1) (3.3.2)\n",
      "Requirement already satisfied: idna<4,>=2.5 in /Users/jacksonwalters/Library/Python/3.9/lib/python/site-packages (from requests>=2.24.0->systemds==2.2.1) (3.6)\n",
      "Requirement already satisfied: urllib3<3,>=1.21.1 in /Users/jacksonwalters/Library/Python/3.9/lib/python/site-packages (from requests>=2.24.0->systemds==2.2.1) (1.26.15)\n",
      "Requirement already satisfied: certifi>=2017.4.17 in /Users/jacksonwalters/Library/Python/3.9/lib/python/site-packages (from requests>=2.24.0->systemds==2.2.1) (2023.11.17)\n",
      "Requirement already satisfied: six>=1.5 in /Library/Developer/CommandLineTools/Library/Frameworks/Python3.framework/Versions/3.9/lib/python3.9/site-packages (from python-dateutil>=2.7.3->pandas>=1.2.2->systemds==2.2.1) (1.15.0)\n",
      "Downloading systemds-2.2.1-py3-none-any.whl (50.9 MB)\n",
      "\u001b[2K   \u001b[90m━━━━━━━━━━━━━━━━━━━━━━━━━━━━━━━━━━━━━━━━\u001b[0m \u001b[32m50.9/50.9 MB\u001b[0m \u001b[31m574.1 kB/s\u001b[0m eta \u001b[36m0:00:00\u001b[0m00:01\u001b[0m00:03\u001b[0m\n",
      "\u001b[?25hInstalling collected packages: systemds\n",
      "  Attempting uninstall: systemds\n",
      "    Found existing installation: systemds 3.2.0\n",
      "    Uninstalling systemds-3.2.0:\n",
      "      Successfully uninstalled systemds-3.2.0\n",
      "Successfully installed systemds-2.2.1\n"
     ]
    }
   ],
   "source": [
    "!pip install systemds==2.2.1"
   ]
  },
  {
   "cell_type": "code",
   "execution_count": 5,
   "id": "693aa5a2-8163-42d1-90e1-0974c495754a",
   "metadata": {},
   "outputs": [
    {
     "name": "stderr",
     "output_type": "stream",
     "text": [
      "24/05/13 17:10:31 WARN Utils: Your hostname, jaxmacbookair.local resolves to a loopback address: 127.0.0.1; using 10.200.231.46 instead (on interface en0)\n",
      "24/05/13 17:10:31 WARN Utils: Set SPARK_LOCAL_IP if you need to bind to another address\n",
      "Setting default log level to \"WARN\".\n",
      "To adjust logging level use sc.setLogLevel(newLevel). For SparkR, use setLogLevel(newLevel).\n",
      "24/05/13 17:10:31 WARN NativeCodeLoader: Unable to load native-hadoop library for your platform... using builtin-java classes where applicable\n"
     ]
    }
   ],
   "source": [
    "from pyspark import SparkContext, SparkConf\n",
    "from pyspark.sql import SQLContext, SparkSession\n",
    "from pyspark.sql.types import StructType, StructField, DoubleType, IntegerType, StringType\n",
    "sc = SparkContext.getOrCreate(SparkConf().setMaster(\"local[*]\"))\n",
    "#sc = SparkContext('local', 'test')\n",
    "from pyspark.sql import SparkSession\n",
    "spark = SparkSession \\\n",
    "    .builder \\\n",
    "    .getOrCreate()"
   ]
  },
  {
   "cell_type": "code",
   "execution_count": 7,
   "id": "0073eda0-b407-4035-b5d8-b2026bc61312",
   "metadata": {},
   "outputs": [],
   "source": [
    "import numpy as np\n",
    "u = np.random.rand(1000,10000)\n",
    "s = np.random.rand(10000,1000)\n",
    "w = np.random.rand(1000,1000)"
   ]
  },
  {
   "cell_type": "code",
   "execution_count": 8,
   "id": "9a511d57-45f2-461a-ad3c-dc210fe27e4a",
   "metadata": {},
   "outputs": [
    {
     "name": "stdout",
     "output_type": "stream",
     "text": [
      "0.5768249034881592\n"
     ]
    }
   ],
   "source": [
    "import time\n",
    "start = time.time()\n",
    "res = np.sum(u.T.dot(w * u.dot(s)))\n",
    "print (time.time()-start)"
   ]
  },
  {
   "cell_type": "code",
   "execution_count": 31,
   "id": "87dbb937-d075-47e1-b5a0-b8d5bb4d8da5",
   "metadata": {},
   "outputs": [
    {
     "name": "stdout",
     "output_type": "stream",
     "text": [
      "6248245002312.381\n"
     ]
    }
   ],
   "source": [
    "from systemds.context import SystemDSContext\n",
    "\n",
    "with SystemDSContext(spark) as sds:\n",
    "    # Now we create some large random matrices to have numpy and SystemDS crunch on it\n",
    "    U = sds.rand(rows=1000,cols=10000)\n",
    "    S = sds.rand(rows=10000,cols=1000)\n",
    "    W = sds.rand(rows=1000,cols=1000)\n",
    "    res = U.t().__matmul__(W*(U.__matmul__(S))).sum()\n",
    "    print(res.compute())"
   ]
  },
  {
   "cell_type": "code",
   "execution_count": 32,
   "id": "80e6a3d1-fa4e-4500-90d8-f9beb3a63fbb",
   "metadata": {},
   "outputs": [
    {
     "name": "stdout",
     "output_type": "stream",
     "text": [
      "--2024-05-13 19:26:30--  https://raw.githubusercontent.com/romeokienzler/developerWorks/master/coursera/ai/rklib.py\n",
      "Resolving raw.githubusercontent.com (raw.githubusercontent.com)... 185.199.108.133, 185.199.109.133, 185.199.110.133, ...\n",
      "Connecting to raw.githubusercontent.com (raw.githubusercontent.com)|185.199.108.133|:443... connected.\n",
      "HTTP request sent, awaiting response... 200 OK\n",
      "Length: 2289 (2.2K) [text/plain]\n",
      "Saving to: ‘rklib.py’\n",
      "\n",
      "rklib.py            100%[===================>]   2.24K  --.-KB/s    in 0s      \n",
      "\n",
      "2024-05-13 19:26:30 (5.51 MB/s) - ‘rklib.py’ saved [2289/2289]\n",
      "\n"
     ]
    }
   ],
   "source": [
    "!rm -f rklib.py\n",
    "!wget https://raw.githubusercontent.com/romeokienzler/developerWorks/master/coursera/ai/rklib.py"
   ]
  },
  {
   "cell_type": "code",
   "execution_count": 33,
   "id": "2373a5f2-e977-43a5-ac11-0a4ca84967a0",
   "metadata": {},
   "outputs": [],
   "source": [
    "from rklib import submit\n",
    "key = \"esRk7vn-Eeej-BLTuYzd0g\"\n",
    "\n",
    "\n",
    "email = \"jacksonwalters@gmail.com\""
   ]
  },
  {
   "cell_type": "code",
   "execution_count": null,
   "id": "150499ad-ed94-40b4-8d0d-5213ac80211a",
   "metadata": {},
   "outputs": [],
   "source": [
    "part = \"fUxc8\"\n",
    "token = \"q1JgNCiR5xSVBTSH\" #you can obtain it from the grader page on Coursera (have a look here if you need more information on how to obtain the token https://youtu.be/GcDo0Rwe06U?t=276)\n",
    "submit(email, token, key, part, [part], res.script.dml_script.replace('\\n','x'))"
   ]
  }
 ],
 "metadata": {
  "kernelspec": {
   "display_name": "Python 3 (ipykernel)",
   "language": "python",
   "name": "python3"
  },
  "language_info": {
   "codemirror_mode": {
    "name": "ipython",
    "version": 3
   },
   "file_extension": ".py",
   "mimetype": "text/x-python",
   "name": "python",
   "nbconvert_exporter": "python",
   "pygments_lexer": "ipython3",
   "version": "3.9.6"
  }
 },
 "nbformat": 4,
 "nbformat_minor": 5
}
