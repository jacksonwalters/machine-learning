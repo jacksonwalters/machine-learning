{
 "cells": [
  {
   "cell_type": "code",
   "execution_count": 1,
   "id": "68dcf06b-0068-4102-b484-0a02b737e6d5",
   "metadata": {},
   "outputs": [],
   "source": [
    "# Surpress warnings:\n",
    "def warn(*args, **kwargs):\n",
    "    pass\n",
    "import warnings\n",
    "warnings.warn = warn\n",
    "\n",
    "import numpy as np\n",
    "import pickle\n",
    "import pandas as pd\n",
    "import matplotlib.pyplot as plt\n",
    "\n",
    "\n",
    "from sklearn.preprocessing import StandardScaler, PolynomialFeatures\n",
    "from sklearn.model_selection import KFold, cross_val_predict\n",
    "from sklearn.linear_model import LinearRegression, Lasso, Ridge\n",
    "from sklearn.metrics import r2_score\n",
    "from sklearn.pipeline import Pipeline"
   ]
  },
  {
   "cell_type": "code",
   "execution_count": 5,
   "id": "a9a6d148-2b22-4f6c-b3eb-30238c72b087",
   "metadata": {},
   "outputs": [],
   "source": [
    "# Import pandas library\n",
    "import pandas as pd\n",
    "import numpy as np\n",
    "# Read the online file by the URL provides above, and assign it to variable \"df\"\n",
    "\n",
    "from urllib.request import urlretrieve\n",
    "url = \"https://cf-courses-data.s3.us.cloud-object-storage.appdomain.cloud/IBM-ML240EN-SkillsNetwork/labs/data/boston_housing_clean.pickle\"\n",
    "filename = \"boston_housing_clean.pickle\"\n",
    " \n",
    "path, headers = urlretrieve(url, filename)\n",
    "\n",
    "# Import pandas library\n",
    "import pandas as pd\n",
    " \n",
    "# Read the online file by the URL provides above, and assign it to variable \"df\"\n",
    " \n",
    "boston = pickle.load(open(path, \"rb\" ))"
   ]
  },
  {
   "cell_type": "code",
   "execution_count": 7,
   "id": "50550997-2ee5-4245-8a64-ce79f2db9efb",
   "metadata": {},
   "outputs": [
    {
     "data": {
      "text/plain": [
       "dict_keys(['dataframe', 'description'])"
      ]
     },
     "execution_count": 7,
     "metadata": {},
     "output_type": "execute_result"
    }
   ],
   "source": [
    "boston.keys()"
   ]
  },
  {
   "cell_type": "code",
   "execution_count": 8,
   "id": "5bfc3dcb-e0ae-443d-a187-c79bf83efc24",
   "metadata": {},
   "outputs": [],
   "source": [
    "boston_data = boston['dataframe']\n",
    "boston_description = boston['description']"
   ]
  },
  {
   "cell_type": "code",
   "execution_count": 9,
   "id": "6258749b-676e-49c9-ad4d-46a8a123323c",
   "metadata": {},
   "outputs": [
    {
     "data": {
      "text/html": [
       "<div>\n",
       "<style scoped>\n",
       "    .dataframe tbody tr th:only-of-type {\n",
       "        vertical-align: middle;\n",
       "    }\n",
       "\n",
       "    .dataframe tbody tr th {\n",
       "        vertical-align: top;\n",
       "    }\n",
       "\n",
       "    .dataframe thead th {\n",
       "        text-align: right;\n",
       "    }\n",
       "</style>\n",
       "<table border=\"1\" class=\"dataframe\">\n",
       "  <thead>\n",
       "    <tr style=\"text-align: right;\">\n",
       "      <th></th>\n",
       "      <th>CRIM</th>\n",
       "      <th>ZN</th>\n",
       "      <th>INDUS</th>\n",
       "      <th>CHAS</th>\n",
       "      <th>NOX</th>\n",
       "      <th>RM</th>\n",
       "      <th>AGE</th>\n",
       "      <th>DIS</th>\n",
       "      <th>RAD</th>\n",
       "      <th>TAX</th>\n",
       "      <th>PTRATIO</th>\n",
       "      <th>B</th>\n",
       "      <th>LSTAT</th>\n",
       "      <th>MEDV</th>\n",
       "    </tr>\n",
       "  </thead>\n",
       "  <tbody>\n",
       "    <tr>\n",
       "      <th>0</th>\n",
       "      <td>0.00632</td>\n",
       "      <td>18.0</td>\n",
       "      <td>2.31</td>\n",
       "      <td>0.0</td>\n",
       "      <td>0.538</td>\n",
       "      <td>6.575</td>\n",
       "      <td>65.2</td>\n",
       "      <td>4.0900</td>\n",
       "      <td>1.0</td>\n",
       "      <td>296.0</td>\n",
       "      <td>15.3</td>\n",
       "      <td>396.90</td>\n",
       "      <td>4.98</td>\n",
       "      <td>24.0</td>\n",
       "    </tr>\n",
       "    <tr>\n",
       "      <th>1</th>\n",
       "      <td>0.02731</td>\n",
       "      <td>0.0</td>\n",
       "      <td>7.07</td>\n",
       "      <td>0.0</td>\n",
       "      <td>0.469</td>\n",
       "      <td>6.421</td>\n",
       "      <td>78.9</td>\n",
       "      <td>4.9671</td>\n",
       "      <td>2.0</td>\n",
       "      <td>242.0</td>\n",
       "      <td>17.8</td>\n",
       "      <td>396.90</td>\n",
       "      <td>9.14</td>\n",
       "      <td>21.6</td>\n",
       "    </tr>\n",
       "    <tr>\n",
       "      <th>2</th>\n",
       "      <td>0.02729</td>\n",
       "      <td>0.0</td>\n",
       "      <td>7.07</td>\n",
       "      <td>0.0</td>\n",
       "      <td>0.469</td>\n",
       "      <td>7.185</td>\n",
       "      <td>61.1</td>\n",
       "      <td>4.9671</td>\n",
       "      <td>2.0</td>\n",
       "      <td>242.0</td>\n",
       "      <td>17.8</td>\n",
       "      <td>392.83</td>\n",
       "      <td>4.03</td>\n",
       "      <td>34.7</td>\n",
       "    </tr>\n",
       "    <tr>\n",
       "      <th>3</th>\n",
       "      <td>0.03237</td>\n",
       "      <td>0.0</td>\n",
       "      <td>2.18</td>\n",
       "      <td>0.0</td>\n",
       "      <td>0.458</td>\n",
       "      <td>6.998</td>\n",
       "      <td>45.8</td>\n",
       "      <td>6.0622</td>\n",
       "      <td>3.0</td>\n",
       "      <td>222.0</td>\n",
       "      <td>18.7</td>\n",
       "      <td>394.63</td>\n",
       "      <td>2.94</td>\n",
       "      <td>33.4</td>\n",
       "    </tr>\n",
       "    <tr>\n",
       "      <th>4</th>\n",
       "      <td>0.06905</td>\n",
       "      <td>0.0</td>\n",
       "      <td>2.18</td>\n",
       "      <td>0.0</td>\n",
       "      <td>0.458</td>\n",
       "      <td>7.147</td>\n",
       "      <td>54.2</td>\n",
       "      <td>6.0622</td>\n",
       "      <td>3.0</td>\n",
       "      <td>222.0</td>\n",
       "      <td>18.7</td>\n",
       "      <td>396.90</td>\n",
       "      <td>5.33</td>\n",
       "      <td>36.2</td>\n",
       "    </tr>\n",
       "  </tbody>\n",
       "</table>\n",
       "</div>"
      ],
      "text/plain": [
       "      CRIM    ZN  INDUS  CHAS    NOX     RM   AGE     DIS  RAD    TAX  \\\n",
       "0  0.00632  18.0   2.31   0.0  0.538  6.575  65.2  4.0900  1.0  296.0   \n",
       "1  0.02731   0.0   7.07   0.0  0.469  6.421  78.9  4.9671  2.0  242.0   \n",
       "2  0.02729   0.0   7.07   0.0  0.469  7.185  61.1  4.9671  2.0  242.0   \n",
       "3  0.03237   0.0   2.18   0.0  0.458  6.998  45.8  6.0622  3.0  222.0   \n",
       "4  0.06905   0.0   2.18   0.0  0.458  7.147  54.2  6.0622  3.0  222.0   \n",
       "\n",
       "   PTRATIO       B  LSTAT  MEDV  \n",
       "0     15.3  396.90   4.98  24.0  \n",
       "1     17.8  396.90   9.14  21.6  \n",
       "2     17.8  392.83   4.03  34.7  \n",
       "3     18.7  394.63   2.94  33.4  \n",
       "4     18.7  396.90   5.33  36.2  "
      ]
     },
     "execution_count": 9,
     "metadata": {},
     "output_type": "execute_result"
    }
   ],
   "source": [
    "boston_data.head()"
   ]
  },
  {
   "cell_type": "code",
   "execution_count": 10,
   "id": "c86e98cf-c8e7-43d1-ae64-63cdd99f7d57",
   "metadata": {},
   "outputs": [],
   "source": [
    "X = boston_data.drop('MEDV', axis=1)\n",
    "y = boston_data.MEDV"
   ]
  },
  {
   "cell_type": "code",
   "execution_count": 11,
   "id": "5e60ba84-6c5e-4fef-b893-81bad266f67c",
   "metadata": {},
   "outputs": [],
   "source": [
    "kf = KFold(shuffle=True, random_state=72018, n_splits=3)"
   ]
  },
  {
   "cell_type": "code",
   "execution_count": 12,
   "id": "7e88439a-3d46-474e-86b7-fdadbf19c6a2",
   "metadata": {},
   "outputs": [
    {
     "name": "stdout",
     "output_type": "stream",
     "text": [
      "Train index: [ 1  3  4  5  7  8 10 11 12 13] 337\n",
      "Test index: [ 0  2  6  9 15 17 19 23 25 26] 169\n",
      "\n",
      "Train index: [ 0  2  6  9 10 11 12 13 15 17] 337\n",
      "Test index: [ 1  3  4  5  7  8 14 16 22 27] 169\n",
      "\n",
      "Train index: [0 1 2 3 4 5 6 7 8 9] 338\n",
      "Test index: [10 11 12 13 18 20 21 24 28 31] 168\n",
      "\n"
     ]
    }
   ],
   "source": [
    "for train_index, test_index in kf.split(X):\n",
    "    print(\"Train index:\", train_index[:10], len(train_index))\n",
    "    print(\"Test index:\",test_index[:10], len(test_index))\n",
    "    print('')"
   ]
  },
  {
   "cell_type": "code",
   "execution_count": 13,
   "id": "01adde99-7fc1-4cab-98f8-579229263a74",
   "metadata": {},
   "outputs": [
    {
     "data": {
      "text/plain": [
       "[0.6719348798472751, 0.7485020059212362, 0.6976807323597776]"
      ]
     },
     "execution_count": 13,
     "metadata": {},
     "output_type": "execute_result"
    }
   ],
   "source": [
    "#from sklearn.metrics import r2_score, mean_squared_error\n",
    "\n",
    "scores = []\n",
    "lr = LinearRegression()\n",
    "\n",
    "for train_index, test_index in kf.split(X):\n",
    "    X_train, X_test, y_train, y_test = (X.iloc[train_index, :], \n",
    "                                        X.iloc[test_index, :], \n",
    "                                        y[train_index], \n",
    "                                        y[test_index])\n",
    "    \n",
    "    lr.fit(X_train, y_train)\n",
    "        \n",
    "    y_pred = lr.predict(X_test)\n",
    "\n",
    "    score = r2_score(y_test.values, y_pred)\n",
    "    \n",
    "    scores.append(score)\n",
    "    \n",
    "scores"
   ]
  },
  {
   "cell_type": "code",
   "execution_count": 16,
   "id": "9c973c4b-581b-4536-b033-89801c76d38e",
   "metadata": {},
   "outputs": [],
   "source": [
    "s = StandardScaler()\n",
    "lr = LinearRegression()"
   ]
  },
  {
   "cell_type": "code",
   "execution_count": 17,
   "id": "68ca636e-a60e-476b-a661-8ae4b6d6897a",
   "metadata": {},
   "outputs": [],
   "source": [
    "estimator = Pipeline([(\"scaler\", s),\n",
    "                      (\"regression\", lr)])"
   ]
  },
  {
   "cell_type": "code",
   "execution_count": 18,
   "id": "b867ed8e-af23-47c4-b37a-e19f7cb8db2a",
   "metadata": {},
   "outputs": [
    {
     "data": {
      "text/plain": [
       "KFold(n_splits=3, random_state=72018, shuffle=True)"
      ]
     },
     "execution_count": 18,
     "metadata": {},
     "output_type": "execute_result"
    }
   ],
   "source": [
    "kf"
   ]
  },
  {
   "cell_type": "code",
   "execution_count": 19,
   "id": "7d8ede3f-664c-411d-98eb-7569c35ca0bb",
   "metadata": {},
   "outputs": [],
   "source": [
    "predictions = cross_val_predict(estimator, X, y, cv=kf)"
   ]
  },
  {
   "cell_type": "code",
   "execution_count": 20,
   "id": "08dc7729-8468-48a9-99ca-8b072624af33",
   "metadata": {},
   "outputs": [
    {
     "data": {
      "text/plain": [
       "0.7063531064161559"
      ]
     },
     "execution_count": 20,
     "metadata": {},
     "output_type": "execute_result"
    }
   ],
   "source": [
    "r2_score(y, predictions)"
   ]
  },
  {
   "cell_type": "code",
   "execution_count": 21,
   "id": "b925df0a-722c-4ee9-8afa-a6d50f7053e4",
   "metadata": {},
   "outputs": [
    {
     "data": {
      "text/plain": [
       "0.7060392060427612"
      ]
     },
     "execution_count": 21,
     "metadata": {},
     "output_type": "execute_result"
    }
   ],
   "source": [
    "np.mean(scores) # almost identical!"
   ]
  },
  {
   "cell_type": "code",
   "execution_count": 22,
   "id": "d2095670-b76f-4980-a4a4-d3f5a5d3f1eb",
   "metadata": {},
   "outputs": [
    {
     "data": {
      "text/plain": [
       "array([1.e-09, 1.e-08, 1.e-07, 1.e-06, 1.e-05, 1.e-04, 1.e-03, 1.e-02,\n",
       "       1.e-01, 1.e+00])"
      ]
     },
     "execution_count": 22,
     "metadata": {},
     "output_type": "execute_result"
    }
   ],
   "source": [
    "alphas = np.geomspace(1e-9, 1e0, num=10)\n",
    "alphas"
   ]
  },
  {
   "cell_type": "code",
   "execution_count": 23,
   "id": "b6306377-e09c-41ef-a9cf-6e83086dfe6a",
   "metadata": {},
   "outputs": [],
   "source": [
    "scores = []\n",
    "coefs = []\n",
    "for alpha in alphas:\n",
    "    las = Lasso(alpha=alpha, max_iter=100000)\n",
    "    \n",
    "    estimator = Pipeline([\n",
    "        (\"scaler\", s),\n",
    "        (\"lasso_regression\", las)])\n",
    "\n",
    "    predictions = cross_val_predict(estimator, X, y, cv = kf)\n",
    "    \n",
    "    score = r2_score(y, predictions)\n",
    "    \n",
    "    scores.append(score)"
   ]
  },
  {
   "cell_type": "code",
   "execution_count": 24,
   "id": "1db7f0ed-7ff8-4305-afbd-c6139c328aad",
   "metadata": {},
   "outputs": [
    {
     "data": {
      "text/plain": [
       "[(1e-09, 0.7063531064981925),\n",
       " (1e-08, 0.7063531072356071),\n",
       " (1e-07, 0.7063531145602442),\n",
       " (1e-06, 0.7063531882052064),\n",
       " (1e-05, 0.7063539165191506),\n",
       " (0.0001, 0.706361268093463),\n",
       " (0.001, 0.7064334670415461),\n",
       " (0.01, 0.7070865958083233),\n",
       " (0.1, 0.705838151167185),\n",
       " (1.0, 0.6512724532884887)]"
      ]
     },
     "execution_count": 24,
     "metadata": {},
     "output_type": "execute_result"
    }
   ],
   "source": [
    "list(zip(alphas,scores))"
   ]
  },
  {
   "cell_type": "code",
   "execution_count": 25,
   "id": "8aadbd3c-dba6-45ca-b1a8-ddec15b04ce2",
   "metadata": {},
   "outputs": [
    {
     "data": {
      "text/plain": [
       "array([-1.07170372e-01,  4.63952623e-02,  2.08588308e-02,  2.68854318e+00,\n",
       "       -1.77954207e+01,  3.80475296e+00,  7.50802707e-04, -1.47575348e+00,\n",
       "        3.05654279e-01, -1.23293755e-02, -9.53459908e-01,  9.39253013e-03,\n",
       "       -5.25467196e-01])"
      ]
     },
     "execution_count": 25,
     "metadata": {},
     "output_type": "execute_result"
    }
   ],
   "source": [
    "Lasso(alpha=1e-6).fit(X, y).coef_"
   ]
  },
  {
   "cell_type": "code",
   "execution_count": 26,
   "id": "4f049a6f-683f-4404-a562-044984b457c5",
   "metadata": {},
   "outputs": [
    {
     "data": {
      "text/plain": [
       "array([-0.06342255,  0.04916867, -0.        ,  0.        , -0.        ,\n",
       "        0.94678567,  0.02092737, -0.66900864,  0.26417501, -0.01520915,\n",
       "       -0.72319901,  0.00829117, -0.76143296])"
      ]
     },
     "execution_count": 26,
     "metadata": {},
     "output_type": "execute_result"
    }
   ],
   "source": [
    "Lasso(alpha=1.0).fit(X, y).coef_"
   ]
  },
  {
   "cell_type": "code",
   "execution_count": 27,
   "id": "4bfb98ba-859a-4a2e-9cff-9845a8ac69c7",
   "metadata": {},
   "outputs": [
    {
     "data": {
      "image/png": "[encoded data removed]",
      "text/plain": [
       "<Figure size 1000x600 with 1 Axes>"
      ]
     },
     "metadata": {},
     "output_type": "display_data"
    }
   ],
   "source": [
    "plt.figure(figsize=(10,6))\n",
    "plt.semilogx(alphas, scores, '-o')\n",
    "plt.xlabel('$\\\\alpha$')\n",
    "plt.ylabel('$R^2$');"
   ]
  },
  {
   "cell_type": "code",
   "execution_count": 28,
   "id": "02bb2350-261b-4759-b51b-56c7d181ca52",
   "metadata": {},
   "outputs": [],
   "source": [
    "pf = PolynomialFeatures(degree=3)\n",
    "\n",
    "scores = []\n",
    "alphas = np.geomspace(0.06, 6.0, 20)\n",
    "for alpha in alphas:\n",
    "    las = Lasso(alpha=alpha, max_iter=100000)\n",
    "    \n",
    "    estimator = Pipeline([\n",
    "        (\"scaler\", s),\n",
    "        (\"make_higher_degree\", pf),\n",
    "        (\"lasso_regression\", las)])\n",
    "\n",
    "    predictions = cross_val_predict(estimator, X, y, cv = kf)\n",
    "    \n",
    "    score = r2_score(y, predictions)\n",
    "    \n",
    "    scores.append(score)"
   ]
  },
  {
   "cell_type": "code",
   "execution_count": 29,
   "id": "349f2e22-e2df-45ee-ac9a-344d06802b06",
   "metadata": {},
   "outputs": [
    {
     "data": {
      "image/png": "[encoded data removed]",
      "text/plain": [
       "<Figure size 640x480 with 1 Axes>"
      ]
     },
     "metadata": {},
     "output_type": "display_data"
    }
   ],
   "source": [
    "plt.semilogx(alphas, scores);"
   ]
  },
  {
   "cell_type": "code",
   "execution_count": 30,
   "id": "439bdd07-1bc0-4108-a7d0-10263276265e",
   "metadata": {},
   "outputs": [
    {
     "data": {
      "text/plain": [
       "0.9134777735196521"
      ]
     },
     "execution_count": 30,
     "metadata": {},
     "output_type": "execute_result"
    }
   ],
   "source": [
    "# Once we have found the hyperparameter (alpha~1e-2=0.01)\n",
    "# make the model and train it on ALL the data\n",
    "# Then release it into the wild .....\n",
    "best_estimator = Pipeline([\n",
    "                    (\"scaler\", s),\n",
    "                    (\"make_higher_degree\", PolynomialFeatures(degree=2)),\n",
    "                    (\"lasso_regression\", Lasso(alpha=0.03))])\n",
    "\n",
    "best_estimator.fit(X, y)\n",
    "best_estimator.score(X, y)"
   ]
  },
  {
   "cell_type": "code",
   "execution_count": 31,
   "id": "a11f9392-97fb-401d-84cf-efbd722b84f8",
   "metadata": {},
   "outputs": [
    {
     "data": {
      "text/plain": [
       "array([ 0.00000000e+00, -0.00000000e+00, -0.00000000e+00, -0.00000000e+00,\n",
       "        0.00000000e+00, -1.00309168e+00,  3.32679107e+00, -1.01840878e+00,\n",
       "       -2.56161421e+00,  1.12778302e+00, -1.72266155e+00, -5.37088506e-01,\n",
       "        4.39555878e-01, -3.39542586e+00,  7.22387712e-02,  0.00000000e+00,\n",
       "        0.00000000e+00,  3.53653554e+00, -0.00000000e+00,  3.72285440e-01,\n",
       "        0.00000000e+00,  0.00000000e+00, -5.49528703e-01, -0.00000000e+00,\n",
       "       -0.00000000e+00, -4.05522485e-02,  2.25864611e-01,  1.78508858e-01,\n",
       "        0.00000000e+00,  0.00000000e+00,  0.00000000e+00,  6.50874606e-02,\n",
       "       -0.00000000e+00, -2.07295802e-01, -0.00000000e+00,  3.71781995e-01,\n",
       "        0.00000000e+00, -0.00000000e+00, -5.89531100e-02,  3.47180625e-01,\n",
       "        0.00000000e+00,  9.23666274e-01,  3.48873365e-01,  7.29463442e-02,\n",
       "        0.00000000e+00,  0.00000000e+00,  7.68485586e-02, -7.21083596e-01,\n",
       "        0.00000000e+00, -5.98542558e-01,  4.18420677e-01, -7.98165728e-01,\n",
       "       -7.25062683e-01,  2.34818861e-01, -0.00000000e+00, -0.00000000e+00,\n",
       "        0.00000000e+00, -1.68164447e-02,  0.00000000e+00, -4.04477826e-01,\n",
       "       -4.22989874e-01, -4.06983988e-01, -3.75443720e-01,  4.17684564e-01,\n",
       "       -8.91841193e-01,  0.00000000e+00, -2.69309481e-01,  0.00000000e+00,\n",
       "        1.02286785e-01,  2.02570379e-01, -6.88345376e-01, -0.00000000e+00,\n",
       "       -1.08598703e+00, -3.98751731e-01, -9.37684760e-01, -1.17343147e-01,\n",
       "       -7.37427594e-01,  0.00000000e+00,  0.00000000e+00,  1.36340670e+00,\n",
       "       -0.00000000e+00, -2.94691228e-03, -8.98125013e-01, -8.68198373e-01,\n",
       "        8.03396788e-01, -1.91683803e-01, -1.14706070e-01,  0.00000000e+00,\n",
       "       -0.00000000e+00,  5.83161589e-01, -0.00000000e+00,  5.81365491e-02,\n",
       "        0.00000000e+00, -2.32896159e-01, -1.12440837e+00,  0.00000000e+00,\n",
       "        1.96286997e+00, -0.00000000e+00, -1.00915801e+00, -7.04656486e-02,\n",
       "       -1.06456357e-02, -4.78389591e-02, -3.97645601e-01, -3.84121840e-01,\n",
       "        9.97402419e-01])"
      ]
     },
     "execution_count": 31,
     "metadata": {},
     "output_type": "execute_result"
    }
   ],
   "source": [
    "best_estimator.named_steps[\"lasso_regression\"].coef_"
   ]
  },
  {
   "cell_type": "code",
   "execution_count": 32,
   "id": "f2856555-7e3c-4f78-9b95-9a6418aa2c35",
   "metadata": {},
   "outputs": [
    {
     "data": {
      "text/plain": [
       "[<matplotlib.lines.Line2D at 0x15eab31c0>]"
      ]
     },
     "execution_count": 32,
     "metadata": {},
     "output_type": "execute_result"
    },
    {
     "data": {
      "image/png": "[encoded data removed]",
      "text/plain": [
       "<Figure size 640x480 with 1 Axes>"
      ]
     },
     "metadata": {},
     "output_type": "display_data"
    }
   ],
   "source": [
    "pf = PolynomialFeatures(degree=2)\n",
    "alphas = np.geomspace(4, 20, 20)\n",
    "scores=[]\n",
    "for alpha in alphas:\n",
    "    ridge = Ridge(alpha=alpha, max_iter=100000)\n",
    "\n",
    "    estimator = Pipeline([\n",
    "        (\"scaler\", s),\n",
    "        (\"polynomial_features\", pf),\n",
    "        (\"ridge_regression\", ridge)])\n",
    "\n",
    "    predictions = cross_val_predict(estimator, X, y, cv = kf)\n",
    "    score = r2_score(y, predictions)\n",
    "    scores.append(score)\n",
    "\n",
    "plt.plot(alphas, scores)"
   ]
  },
  {
   "cell_type": "code",
   "execution_count": 34,
   "id": "ad426098-e1ce-4214-a2dc-41860d39b24d",
   "metadata": {},
   "outputs": [
    {
     "data": {
      "text/plain": [
       "0.9134777735196521"
      ]
     },
     "execution_count": 34,
     "metadata": {},
     "output_type": "execute_result"
    }
   ],
   "source": [
    "# Once we have found the hyperparameter (alpha~1e-2=0.01)\n",
    "# make the model and train it on ALL the data\n",
    "# Then release it into the wild .....\n",
    "best_estimator = Pipeline([\n",
    "                    (\"scaler\", s),\n",
    "                    (\"make_higher_degree\", PolynomialFeatures(degree=2)),\n",
    "                    (\"lasso_regression\", Lasso(alpha=0.03))])\n",
    "\n",
    "best_estimator.fit(X, y)\n",
    "best_estimator.score(X, y)"
   ]
  },
  {
   "cell_type": "code",
   "execution_count": 35,
   "id": "3f2bce3b-5e92-4c24-93e9-e6173bfbc2ac",
   "metadata": {},
   "outputs": [],
   "source": [
    "df_importances = pd.DataFrame(zip(best_estimator.named_steps[\"make_higher_degree\"].get_feature_names_out(),\n",
    "                 best_estimator.named_steps[\"lasso_regression\"].coef_,\n",
    "))"
   ]
  },
  {
   "cell_type": "code",
   "execution_count": 36,
   "id": "6fabb9d6-8de2-4618-bdea-8db140e57fa4",
   "metadata": {},
   "outputs": [],
   "source": [
    "col_names_dict = dict(zip(list(range(len(X.columns.values))), X.columns.values))"
   ]
  },
  {
   "cell_type": "code",
   "execution_count": 37,
   "id": "e25f7b49-68a5-404a-8a2e-78069844adff",
   "metadata": {},
   "outputs": [
    {
     "data": {
      "text/plain": [
       "{0: 'CRIM',\n",
       " 1: 'ZN',\n",
       " 2: 'INDUS',\n",
       " 3: 'CHAS',\n",
       " 4: 'NOX',\n",
       " 5: 'RM',\n",
       " 6: 'AGE',\n",
       " 7: 'DIS',\n",
       " 8: 'RAD',\n",
       " 9: 'TAX',\n",
       " 10: 'PTRATIO',\n",
       " 11: 'B',\n",
       " 12: 'LSTAT'}"
      ]
     },
     "execution_count": 37,
     "metadata": {},
     "output_type": "execute_result"
    }
   ],
   "source": [
    "col_names_dict"
   ]
  },
  {
   "cell_type": "code",
   "execution_count": 38,
   "id": "651b7359-6222-4279-8b05-2ef4ad736584",
   "metadata": {},
   "outputs": [
    {
     "data": {
      "text/html": [
       "<div>\n",
       "<style scoped>\n",
       "    .dataframe tbody tr th:only-of-type {\n",
       "        vertical-align: middle;\n",
       "    }\n",
       "\n",
       "    .dataframe tbody tr th {\n",
       "        vertical-align: top;\n",
       "    }\n",
       "\n",
       "    .dataframe thead th {\n",
       "        text-align: right;\n",
       "    }\n",
       "</style>\n",
       "<table border=\"1\" class=\"dataframe\">\n",
       "  <thead>\n",
       "    <tr style=\"text-align: right;\">\n",
       "      <th></th>\n",
       "      <th>0</th>\n",
       "      <th>1</th>\n",
       "    </tr>\n",
       "  </thead>\n",
       "  <tbody>\n",
       "    <tr>\n",
       "      <th>13</th>\n",
       "      <td>x12</td>\n",
       "      <td>-3.395426</td>\n",
       "    </tr>\n",
       "    <tr>\n",
       "      <th>8</th>\n",
       "      <td>x7</td>\n",
       "      <td>-2.561614</td>\n",
       "    </tr>\n",
       "    <tr>\n",
       "      <th>10</th>\n",
       "      <td>x9</td>\n",
       "      <td>-1.722662</td>\n",
       "    </tr>\n",
       "    <tr>\n",
       "      <th>94</th>\n",
       "      <td>x8 x12</td>\n",
       "      <td>-1.124408</td>\n",
       "    </tr>\n",
       "    <tr>\n",
       "      <th>72</th>\n",
       "      <td>x5 x8</td>\n",
       "      <td>-1.085987</td>\n",
       "    </tr>\n",
       "    <tr>\n",
       "      <th>...</th>\n",
       "      <td>...</td>\n",
       "      <td>...</td>\n",
       "    </tr>\n",
       "    <tr>\n",
       "      <th>9</th>\n",
       "      <td>x8</td>\n",
       "      <td>1.127783</td>\n",
       "    </tr>\n",
       "    <tr>\n",
       "      <th>79</th>\n",
       "      <td>x6 x8</td>\n",
       "      <td>1.363407</td>\n",
       "    </tr>\n",
       "    <tr>\n",
       "      <th>96</th>\n",
       "      <td>x9 x10</td>\n",
       "      <td>1.962870</td>\n",
       "    </tr>\n",
       "    <tr>\n",
       "      <th>6</th>\n",
       "      <td>x5</td>\n",
       "      <td>3.326791</td>\n",
       "    </tr>\n",
       "    <tr>\n",
       "      <th>17</th>\n",
       "      <td>x0 x3</td>\n",
       "      <td>3.536536</td>\n",
       "    </tr>\n",
       "  </tbody>\n",
       "</table>\n",
       "<p>105 rows × 2 columns</p>\n",
       "</div>"
      ],
      "text/plain": [
       "         0         1\n",
       "13     x12 -3.395426\n",
       "8       x7 -2.561614\n",
       "10      x9 -1.722662\n",
       "94  x8 x12 -1.124408\n",
       "72   x5 x8 -1.085987\n",
       "..     ...       ...\n",
       "9       x8  1.127783\n",
       "79   x6 x8  1.363407\n",
       "96  x9 x10  1.962870\n",
       "6       x5  3.326791\n",
       "17   x0 x3  3.536536\n",
       "\n",
       "[105 rows x 2 columns]"
      ]
     },
     "execution_count": 38,
     "metadata": {},
     "output_type": "execute_result"
    }
   ],
   "source": [
    "df_importances.sort_values(by=1)"
   ]
  },
  {
   "cell_type": "code",
   "execution_count": 39,
   "id": "06caa327-1bc9-47a0-96ac-8ba1d38a2c4f",
   "metadata": {},
   "outputs": [],
   "source": [
    "from sklearn.model_selection import GridSearchCV\n",
    "\n",
    "# Same estimator as before\n",
    "estimator = Pipeline([(\"scaler\", StandardScaler()),\n",
    "        (\"polynomial_features\", PolynomialFeatures()),\n",
    "        (\"ridge_regression\", Ridge())])\n",
    "\n",
    "params = {\n",
    "    'polynomial_features__degree': [1, 2, 3],\n",
    "    'ridge_regression__alpha': np.geomspace(4, 20, 20)\n",
    "}\n",
    "\n",
    "grid = GridSearchCV(estimator, params, cv=kf)"
   ]
  },
  {
   "cell_type": "code",
   "execution_count": 40,
   "id": "3ac9ea1f-eb16-4043-81d8-425e620ee551",
   "metadata": {},
   "outputs": [
    {
     "data": {
      "text/html": [
       "<style>#sk-container-id-1 {color: black;}#sk-container-id-1 pre{padding: 0;}#sk-container-id-1 div.sk-toggleable {background-color: white;}#sk-container-id-1 label.sk-toggleable__label {cursor: pointer;display: block;width: 100%;margin-bottom: 0;padding: 0.3em;box-sizing: border-box;text-align: center;}#sk-container-id-1 label.sk-toggleable__label-arrow:before {content: \"▸\";float: left;margin-right: 0.25em;color: #696969;}#sk-container-id-1 label.sk-toggleable__label-arrow:hover:before {color: black;}#sk-container-id-1 div.sk-estimator:hover label.sk-toggleable__label-arrow:before {color: black;}#sk-container-id-1 div.sk-toggleable__content {max-height: 0;max-width: 0;overflow: hidden;text-align: left;background-color: #f0f8ff;}#sk-container-id-1 div.sk-toggleable__content pre {margin: 0.2em;color: black;border-radius: 0.25em;background-color: #f0f8ff;}#sk-container-id-1 input.sk-toggleable__control:checked~div.sk-toggleable__content {max-height: 200px;max-width: 100%;overflow: auto;}#sk-container-id-1 input.sk-toggleable__control:checked~label.sk-toggleable__label-arrow:before {content: \"▾\";}#sk-container-id-1 div.sk-estimator input.sk-toggleable__control:checked~label.sk-toggleable__label {background-color: #d4ebff;}#sk-container-id-1 div.sk-label input.sk-toggleable__control:checked~label.sk-toggleable__label {background-color: #d4ebff;}#sk-container-id-1 input.sk-hidden--visually {border: 0;clip: rect(1px 1px 1px 1px);clip: rect(1px, 1px, 1px, 1px);height: 1px;margin: -1px;overflow: hidden;padding: 0;position: absolute;width: 1px;}#sk-container-id-1 div.sk-estimator {font-family: monospace;background-color: #f0f8ff;border: 1px dotted black;border-radius: 0.25em;box-sizing: border-box;margin-bottom: 0.5em;}#sk-container-id-1 div.sk-estimator:hover {background-color: #d4ebff;}#sk-container-id-1 div.sk-parallel-item::after {content: \"\";width: 100%;border-bottom: 1px solid gray;flex-grow: 1;}#sk-container-id-1 div.sk-label:hover label.sk-toggleable__label {background-color: #d4ebff;}#sk-container-id-1 div.sk-serial::before {content: \"\";position: absolute;border-left: 1px solid gray;box-sizing: border-box;top: 0;bottom: 0;left: 50%;z-index: 0;}#sk-container-id-1 div.sk-serial {display: flex;flex-direction: column;align-items: center;background-color: white;padding-right: 0.2em;padding-left: 0.2em;position: relative;}#sk-container-id-1 div.sk-item {position: relative;z-index: 1;}#sk-container-id-1 div.sk-parallel {display: flex;align-items: stretch;justify-content: center;background-color: white;position: relative;}#sk-container-id-1 div.sk-item::before, #sk-container-id-1 div.sk-parallel-item::before {content: \"\";position: absolute;border-left: 1px solid gray;box-sizing: border-box;top: 0;bottom: 0;left: 50%;z-index: -1;}#sk-container-id-1 div.sk-parallel-item {display: flex;flex-direction: column;z-index: 1;position: relative;background-color: white;}#sk-container-id-1 div.sk-parallel-item:first-child::after {align-self: flex-end;width: 50%;}#sk-container-id-1 div.sk-parallel-item:last-child::after {align-self: flex-start;width: 50%;}#sk-container-id-1 div.sk-parallel-item:only-child::after {width: 0;}#sk-container-id-1 div.sk-dashed-wrapped {border: 1px dashed gray;margin: 0 0.4em 0.5em 0.4em;box-sizing: border-box;padding-bottom: 0.4em;background-color: white;}#sk-container-id-1 div.sk-label label {font-family: monospace;font-weight: bold;display: inline-block;line-height: 1.2em;}#sk-container-id-1 div.sk-label-container {text-align: center;}#sk-container-id-1 div.sk-container {/* jupyter's `normalize.less` sets `[hidden] { display: none; }` but bootstrap.min.css set `[hidden] { display: none !important; }` so we also need the `!important` here to be able to override the default hidden behavior on the sphinx rendered scikit-learn.org. See: https://github.com/scikit-learn/scikit-learn/issues/21755 */display: inline-block !important;position: relative;}#sk-container-id-1 div.sk-text-repr-fallback {display: none;}</style><div id=\"sk-container-id-1\" class=\"sk-top-container\"><div class=\"sk-text-repr-fallback\"><pre>GridSearchCV(cv=KFold(n_splits=3, random_state=72018, shuffle=True),\n",
       "             estimator=Pipeline(steps=[(&#x27;scaler&#x27;, StandardScaler()),\n",
       "                                       (&#x27;polynomial_features&#x27;,\n",
       "                                        PolynomialFeatures()),\n",
       "                                       (&#x27;ridge_regression&#x27;, Ridge())]),\n",
       "             param_grid={&#x27;polynomial_features__degree&#x27;: [1, 2, 3],\n",
       "                         &#x27;ridge_regression__alpha&#x27;: array([ 4.        ,  4.3535936 ,  4.73844431,  5.15731521,  5.61321363,\n",
       "        6.10941274,  6.64947505,  7.23727802,  7.87704182,  8.57335972,\n",
       "        9.331231  , 10.1560969 , 11.05387963, 12.03102491, 13.09454827,\n",
       "       14.25208539, 15.51194695, 16.88317825, 18.37562421, 20.        ])})</pre><b>In a Jupyter environment, please rerun this cell to show the HTML representation or trust the notebook. <br />On GitHub, the HTML representation is unable to render, please try loading this page with nbviewer.org.</b></div><div class=\"sk-container\" hidden><div class=\"sk-item sk-dashed-wrapped\"><div class=\"sk-label-container\"><div class=\"sk-label sk-toggleable\"><input class=\"sk-toggleable__control sk-hidden--visually\" id=\"sk-estimator-id-1\" type=\"checkbox\" ><label for=\"sk-estimator-id-1\" class=\"sk-toggleable__label sk-toggleable__label-arrow\">GridSearchCV</label><div class=\"sk-toggleable__content\"><pre>GridSearchCV(cv=KFold(n_splits=3, random_state=72018, shuffle=True),\n",
       "             estimator=Pipeline(steps=[(&#x27;scaler&#x27;, StandardScaler()),\n",
       "                                       (&#x27;polynomial_features&#x27;,\n",
       "                                        PolynomialFeatures()),\n",
       "                                       (&#x27;ridge_regression&#x27;, Ridge())]),\n",
       "             param_grid={&#x27;polynomial_features__degree&#x27;: [1, 2, 3],\n",
       "                         &#x27;ridge_regression__alpha&#x27;: array([ 4.        ,  4.3535936 ,  4.73844431,  5.15731521,  5.61321363,\n",
       "        6.10941274,  6.64947505,  7.23727802,  7.87704182,  8.57335972,\n",
       "        9.331231  , 10.1560969 , 11.05387963, 12.03102491, 13.09454827,\n",
       "       14.25208539, 15.51194695, 16.88317825, 18.37562421, 20.        ])})</pre></div></div></div><div class=\"sk-parallel\"><div class=\"sk-parallel-item\"><div class=\"sk-item\"><div class=\"sk-label-container\"><div class=\"sk-label sk-toggleable\"><input class=\"sk-toggleable__control sk-hidden--visually\" id=\"sk-estimator-id-2\" type=\"checkbox\" ><label for=\"sk-estimator-id-2\" class=\"sk-toggleable__label sk-toggleable__label-arrow\">estimator: Pipeline</label><div class=\"sk-toggleable__content\"><pre>Pipeline(steps=[(&#x27;scaler&#x27;, StandardScaler()),\n",
       "                (&#x27;polynomial_features&#x27;, PolynomialFeatures()),\n",
       "                (&#x27;ridge_regression&#x27;, Ridge())])</pre></div></div></div><div class=\"sk-serial\"><div class=\"sk-item\"><div class=\"sk-serial\"><div class=\"sk-item\"><div class=\"sk-estimator sk-toggleable\"><input class=\"sk-toggleable__control sk-hidden--visually\" id=\"sk-estimator-id-3\" type=\"checkbox\" ><label for=\"sk-estimator-id-3\" class=\"sk-toggleable__label sk-toggleable__label-arrow\">StandardScaler</label><div class=\"sk-toggleable__content\"><pre>StandardScaler()</pre></div></div></div><div class=\"sk-item\"><div class=\"sk-estimator sk-toggleable\"><input class=\"sk-toggleable__control sk-hidden--visually\" id=\"sk-estimator-id-4\" type=\"checkbox\" ><label for=\"sk-estimator-id-4\" class=\"sk-toggleable__label sk-toggleable__label-arrow\">PolynomialFeatures</label><div class=\"sk-toggleable__content\"><pre>PolynomialFeatures()</pre></div></div></div><div class=\"sk-item\"><div class=\"sk-estimator sk-toggleable\"><input class=\"sk-toggleable__control sk-hidden--visually\" id=\"sk-estimator-id-5\" type=\"checkbox\" ><label for=\"sk-estimator-id-5\" class=\"sk-toggleable__label sk-toggleable__label-arrow\">Ridge</label><div class=\"sk-toggleable__content\"><pre>Ridge()</pre></div></div></div></div></div></div></div></div></div></div></div></div>"
      ],
      "text/plain": [
       "GridSearchCV(cv=KFold(n_splits=3, random_state=72018, shuffle=True),\n",
       "             estimator=Pipeline(steps=[('scaler', StandardScaler()),\n",
       "                                       ('polynomial_features',\n",
       "                                        PolynomialFeatures()),\n",
       "                                       ('ridge_regression', Ridge())]),\n",
       "             param_grid={'polynomial_features__degree': [1, 2, 3],\n",
       "                         'ridge_regression__alpha': array([ 4.        ,  4.3535936 ,  4.73844431,  5.15731521,  5.61321363,\n",
       "        6.10941274,  6.64947505,  7.23727802,  7.87704182,  8.57335972,\n",
       "        9.331231  , 10.1560969 , 11.05387963, 12.03102491, 13.09454827,\n",
       "       14.25208539, 15.51194695, 16.88317825, 18.37562421, 20.        ])})"
      ]
     },
     "execution_count": 40,
     "metadata": {},
     "output_type": "execute_result"
    }
   ],
   "source": [
    "grid.fit(X, y)"
   ]
  },
  {
   "cell_type": "code",
   "execution_count": 41,
   "id": "d71b4686-186e-47cf-a226-a66b9b73af2f",
   "metadata": {},
   "outputs": [
    {
     "data": {
      "text/plain": [
       "(0.8504992740007816,\n",
       " {'polynomial_features__degree': 2,\n",
       "  'ridge_regression__alpha': 15.511946948525646})"
      ]
     },
     "execution_count": 41,
     "metadata": {},
     "output_type": "execute_result"
    }
   ],
   "source": [
    "grid.best_score_, grid.best_params_"
   ]
  },
  {
   "cell_type": "code",
   "execution_count": 42,
   "id": "c528939d-387c-4c97-aef9-ae37612c631f",
   "metadata": {},
   "outputs": [],
   "source": [
    "y_predict = grid.predict(X)"
   ]
  },
  {
   "cell_type": "code",
   "execution_count": 43,
   "id": "bee6e883-fa12-4b0d-bca6-8bdceaf7fe44",
   "metadata": {},
   "outputs": [
    {
     "data": {
      "text/plain": [
       "0.9146985287463711"
      ]
     },
     "execution_count": 43,
     "metadata": {},
     "output_type": "execute_result"
    }
   ],
   "source": [
    "# This includes both in-sample and out-of-sample\n",
    "r2_score(y, y_predict)"
   ]
  },
  {
   "cell_type": "code",
   "execution_count": 44,
   "id": "260cc1bf-66a8-4c9c-90d4-4897a56fdee5",
   "metadata": {},
   "outputs": [
    {
     "data": {
      "text/plain": [
       "array([ 0.00000000e+00, -1.28829772e-01, -5.05856284e-03,  1.62658971e-02,\n",
       "        1.00085587e-01, -9.67012834e-01,  3.25919745e+00, -9.57354081e-01,\n",
       "       -1.94774304e+00,  8.47932375e-01, -1.00903101e+00, -7.09489284e-01,\n",
       "        5.48320825e-01, -3.02796163e+00,  7.69588769e-02,  7.24274286e-02,\n",
       "        6.75359501e-02,  1.70458885e+00, -4.76779943e-01,  5.72065384e-01,\n",
       "        1.29769211e-01,  2.25908428e-01, -7.39176477e-01,  1.64401016e-01,\n",
       "       -7.79048916e-02, -8.46238751e-02,  4.98683957e-01,  2.15472338e-01,\n",
       "       -1.47172451e-01,  1.44110784e-01,  1.95181246e-01,  5.12046833e-02,\n",
       "       -1.10854296e-01, -2.73868352e-01, -1.31082729e-01,  7.19564832e-01,\n",
       "        5.48148586e-02,  8.81408420e-02, -2.65489851e-01,  5.80545185e-01,\n",
       "        1.07454993e-01,  9.49069101e-01,  5.68679067e-01,  5.32690017e-01,\n",
       "        6.98752649e-01, -5.91389648e-02,  7.43093700e-02, -4.26375257e-01,\n",
       "        2.35823244e-01, -6.82554161e-01,  3.39870567e-01, -9.60949439e-01,\n",
       "       -8.12827100e-01,  2.81875086e-01,  5.05015171e-02,  9.09596403e-02,\n",
       "        6.27478242e-01, -1.38350959e-01, -1.05697593e-01, -3.81805825e-01,\n",
       "       -4.48034446e-01, -4.51572263e-01, -4.89807062e-01,  7.46018959e-01,\n",
       "       -7.98434734e-01,  7.42438633e-02, -5.71696288e-01, -4.96174174e-02,\n",
       "        5.31715001e-01,  2.26611448e-01, -7.06049593e-01,  5.57918194e-02,\n",
       "       -7.86121183e-01, -9.09468994e-01, -1.02912278e+00, -1.58177551e-01,\n",
       "       -7.74956649e-01,  1.42550640e-01,  7.52412040e-02,  1.07082529e+00,\n",
       "        5.04449012e-02, -7.06160250e-02, -9.56064259e-01, -1.12279340e+00,\n",
       "        1.00934955e+00, -6.00719736e-01, -4.14052557e-01, -1.37258722e-01,\n",
       "       -2.66892679e-01,  8.21265588e-01, -8.52392067e-01,  8.75069121e-01,\n",
       "        3.67697485e-01, -1.12497890e-01, -1.11433587e+00,  8.14011054e-03,\n",
       "        1.28974396e+00, -3.62737520e-01, -1.08086194e+00, -1.18753580e-01,\n",
       "        8.42068993e-02,  1.09877090e-04, -3.62785045e-01, -4.06308662e-01,\n",
       "        8.08148961e-01])"
      ]
     },
     "execution_count": 44,
     "metadata": {},
     "output_type": "execute_result"
    }
   ],
   "source": [
    "# Notice that \"grid\" is a fit object!\n",
    "# We can use grid.predict(X_test) to get brand new predictions!\n",
    "grid.best_estimator_.named_steps['ridge_regression'].coef_"
   ]
  },
  {
   "cell_type": "code",
   "execution_count": 45,
   "id": "8a4d5803-aae4-4c9c-bd7e-2d093650cbd2",
   "metadata": {},
   "outputs": [
    {
     "data": {
      "text/plain": [
       "{'mean_fit_time': array([0.00500258, 0.00255187, 0.00264994, 0.00230964, 0.00190004,\n",
       "        0.00175738, 0.00147367, 0.00139427, 0.00127745, 0.00129445,\n",
       "        0.00127904, 0.00120791, 0.00120576, 0.00130733, 0.0012602 ,\n",
       "        0.00130065, 0.00124629, 0.00121411, 0.00121005, 0.00121999,\n",
       "        0.30728571, 0.39453165, 0.36457491, 0.31051437, 0.31626177,\n",
       "        0.31335402, 0.28699962, 0.32316732, 0.3203187 , 0.3315533 ,\n",
       "        0.33761851, 0.27614522, 0.31093701, 0.33617298, 0.32360673,\n",
       "        0.33348083, 0.31299384, 0.32346749, 0.37126001, 0.34507426,\n",
       "        0.41955646, 0.45391496, 0.47216566, 0.44744166, 0.44512812,\n",
       "        0.43045171, 0.43200215, 0.42327094, 0.40786258, 0.41910561,\n",
       "        0.44376429, 0.4379766 , 0.44760784, 0.44742386, 0.44290725,\n",
       "        0.41850487, 0.42985408, 0.43402203, 0.44046505, 0.46492283]),\n",
       " 'std_fit_time': array([1.66660785e-03, 2.55297603e-04, 1.83865128e-04, 3.84878452e-05,\n",
       "        1.88690428e-04, 9.00795329e-05, 5.92059470e-05, 6.82563148e-05,\n",
       "        4.60466874e-05, 7.28886146e-05, 8.22172757e-05, 4.08957174e-06,\n",
       "        3.17095714e-06, 9.27458147e-05, 3.11349065e-05, 1.21160643e-04,\n",
       "        3.47700800e-05, 6.06081516e-06, 8.69347361e-06, 3.42233794e-05,\n",
       "        7.42670760e-02, 1.22512314e-02, 7.15232118e-03, 7.89643799e-02,\n",
       "        1.70763780e-02, 3.36254854e-02, 3.23575926e-03, 4.06534074e-02,\n",
       "        5.06830369e-02, 3.97084780e-02, 3.49866083e-02, 2.51029872e-02,\n",
       "        2.99524694e-02, 7.13604415e-02, 1.99684642e-02, 7.15258056e-03,\n",
       "        3.63779351e-02, 2.61029489e-02, 2.00397935e-02, 4.66988713e-02,\n",
       "        1.49443485e-02, 1.13390172e-02, 2.05938615e-02, 2.28612809e-02,\n",
       "        2.53491270e-02, 9.60715644e-03, 9.74132202e-03, 3.13472518e-02,\n",
       "        2.29759428e-02, 4.50434609e-03, 1.41863418e-02, 2.74500359e-02,\n",
       "        1.50957096e-02, 4.04147323e-02, 8.92959708e-03, 2.16469097e-02,\n",
       "        3.87602852e-02, 8.59188277e-03, 1.41680470e-02, 9.33361613e-03]),\n",
       " 'mean_score_time': array([0.00156339, 0.00098483, 0.00103203, 0.00091767, 0.00076628,\n",
       "        0.00072757, 0.00059064, 0.00056839, 0.00052389, 0.0005215 ,\n",
       "        0.00052834, 0.00050712, 0.00050259, 0.00052365, 0.00052373,\n",
       "        0.00053   , 0.00051697, 0.00050751, 0.0005122 , 0.00050696,\n",
       "        0.03363053, 0.03262027, 0.02929537, 0.02777735, 0.02255623,\n",
       "        0.02257506, 0.026184  , 0.0306677 , 0.04091724, 0.02077889,\n",
       "        0.03262583, 0.02700512, 0.02340539, 0.02184399, 0.02264261,\n",
       "        0.0219725 , 0.03431622, 0.0180521 , 0.02743332, 0.04143238,\n",
       "        0.03353198, 0.02598468, 0.0354828 , 0.02151966, 0.01847132,\n",
       "        0.02393357, 0.01379593, 0.01897287, 0.01289717, 0.013544  ,\n",
       "        0.02021146, 0.02541105, 0.0269378 , 0.01223739, 0.01786685,\n",
       "        0.02658733, 0.01363095, 0.02984309, 0.03566575, 0.02331328]),\n",
       " 'std_score_time': array([1.84779406e-04, 4.54729231e-05, 5.02342659e-05, 2.66154595e-05,\n",
       "        6.80427856e-05, 7.33478096e-05, 4.05233662e-07, 1.59092676e-05,\n",
       "        1.31546189e-05, 4.51249109e-06, 2.00621360e-05, 2.99687507e-06,\n",
       "        1.85701393e-06, 1.49594861e-05, 2.70345597e-05, 3.89447827e-05,\n",
       "        6.64822654e-06, 1.79826554e-06, 1.19389292e-05, 1.56139395e-06,\n",
       "        8.64715806e-03, 1.22051986e-02, 1.00230988e-02, 8.78826711e-03,\n",
       "        2.80831410e-03, 2.18478485e-03, 6.84352661e-03, 1.18752121e-02,\n",
       "        3.52711491e-03, 2.98414912e-03, 1.10690556e-02, 8.56558489e-03,\n",
       "        1.21155056e-02, 5.14290902e-03, 9.99988154e-03, 4.83735580e-03,\n",
       "        6.07623655e-03, 6.11423774e-03, 9.35446657e-03, 1.25438762e-02,\n",
       "        1.76216747e-02, 1.57913002e-02, 9.78569487e-03, 1.31963020e-02,\n",
       "        1.67173981e-02, 1.50211184e-02, 1.28580231e-02, 1.35595742e-02,\n",
       "        7.66238841e-03, 8.73358404e-03, 2.82822744e-03, 4.20100622e-03,\n",
       "        1.06750165e-02, 7.53812200e-03, 8.30467872e-03, 1.51857866e-02,\n",
       "        6.25559957e-03, 2.73087476e-03, 9.01055314e-03, 1.16430207e-02]),\n",
       " 'param_polynomial_features__degree': masked_array(data=[1, 1, 1, 1, 1, 1, 1, 1, 1, 1, 1, 1, 1, 1, 1, 1, 1, 1,\n",
       "                    1, 1, 2, 2, 2, 2, 2, 2, 2, 2, 2, 2, 2, 2, 2, 2, 2, 2,\n",
       "                    2, 2, 2, 2, 3, 3, 3, 3, 3, 3, 3, 3, 3, 3, 3, 3, 3, 3,\n",
       "                    3, 3, 3, 3, 3, 3],\n",
       "              mask=[False, False, False, False, False, False, False, False,\n",
       "                    False, False, False, False, False, False, False, False,\n",
       "                    False, False, False, False, False, False, False, False,\n",
       "                    False, False, False, False, False, False, False, False,\n",
       "                    False, False, False, False, False, False, False, False,\n",
       "                    False, False, False, False, False, False, False, False,\n",
       "                    False, False, False, False, False, False, False, False,\n",
       "                    False, False, False, False],\n",
       "        fill_value='?',\n",
       "             dtype=object),\n",
       " 'param_ridge_regression__alpha': masked_array(data=[4.0, 4.353593602921549, 4.7384443148498585,\n",
       "                    5.157315214232582, 5.6132136312332355,\n",
       "                    6.109412739192265, 6.649475054738714,\n",
       "                    7.237278015274221, 7.877041817465654, 8.573359716616,\n",
       "                    9.331231004451181, 10.156096902090468,\n",
       "                    11.053879625898109, 12.03102490669371,\n",
       "                    13.094548267592895, 14.252085392734966,\n",
       "                    15.511946948525646, 16.88317825098993,\n",
       "                    18.3756242076235, 20.0, 4.0, 4.353593602921549,\n",
       "                    4.7384443148498585, 5.157315214232582,\n",
       "                    5.6132136312332355, 6.109412739192265,\n",
       "                    6.649475054738714, 7.237278015274221,\n",
       "                    7.877041817465654, 8.573359716616, 9.331231004451181,\n",
       "                    10.156096902090468, 11.053879625898109,\n",
       "                    12.03102490669371, 13.094548267592895,\n",
       "                    14.252085392734966, 15.511946948525646,\n",
       "                    16.88317825098993, 18.3756242076235, 20.0, 4.0,\n",
       "                    4.353593602921549, 4.7384443148498585,\n",
       "                    5.157315214232582, 5.6132136312332355,\n",
       "                    6.109412739192265, 6.649475054738714,\n",
       "                    7.237278015274221, 7.877041817465654, 8.573359716616,\n",
       "                    9.331231004451181, 10.156096902090468,\n",
       "                    11.053879625898109, 12.03102490669371,\n",
       "                    13.094548267592895, 14.252085392734966,\n",
       "                    15.511946948525646, 16.88317825098993,\n",
       "                    18.3756242076235, 20.0],\n",
       "              mask=[False, False, False, False, False, False, False, False,\n",
       "                    False, False, False, False, False, False, False, False,\n",
       "                    False, False, False, False, False, False, False, False,\n",
       "                    False, False, False, False, False, False, False, False,\n",
       "                    False, False, False, False, False, False, False, False,\n",
       "                    False, False, False, False, False, False, False, False,\n",
       "                    False, False, False, False, False, False, False, False,\n",
       "                    False, False, False, False],\n",
       "        fill_value='?',\n",
       "             dtype=object),\n",
       " 'params': [{'polynomial_features__degree': 1, 'ridge_regression__alpha': 4.0},\n",
       "  {'polynomial_features__degree': 1,\n",
       "   'ridge_regression__alpha': 4.353593602921549},\n",
       "  {'polynomial_features__degree': 1,\n",
       "   'ridge_regression__alpha': 4.7384443148498585},\n",
       "  {'polynomial_features__degree': 1,\n",
       "   'ridge_regression__alpha': 5.157315214232582},\n",
       "  {'polynomial_features__degree': 1,\n",
       "   'ridge_regression__alpha': 5.6132136312332355},\n",
       "  {'polynomial_features__degree': 1,\n",
       "   'ridge_regression__alpha': 6.109412739192265},\n",
       "  {'polynomial_features__degree': 1,\n",
       "   'ridge_regression__alpha': 6.649475054738714},\n",
       "  {'polynomial_features__degree': 1,\n",
       "   'ridge_regression__alpha': 7.237278015274221},\n",
       "  {'polynomial_features__degree': 1,\n",
       "   'ridge_regression__alpha': 7.877041817465654},\n",
       "  {'polynomial_features__degree': 1,\n",
       "   'ridge_regression__alpha': 8.573359716616},\n",
       "  {'polynomial_features__degree': 1,\n",
       "   'ridge_regression__alpha': 9.331231004451181},\n",
       "  {'polynomial_features__degree': 1,\n",
       "   'ridge_regression__alpha': 10.156096902090468},\n",
       "  {'polynomial_features__degree': 1,\n",
       "   'ridge_regression__alpha': 11.053879625898109},\n",
       "  {'polynomial_features__degree': 1,\n",
       "   'ridge_regression__alpha': 12.03102490669371},\n",
       "  {'polynomial_features__degree': 1,\n",
       "   'ridge_regression__alpha': 13.094548267592895},\n",
       "  {'polynomial_features__degree': 1,\n",
       "   'ridge_regression__alpha': 14.252085392734966},\n",
       "  {'polynomial_features__degree': 1,\n",
       "   'ridge_regression__alpha': 15.511946948525646},\n",
       "  {'polynomial_features__degree': 1,\n",
       "   'ridge_regression__alpha': 16.88317825098993},\n",
       "  {'polynomial_features__degree': 1,\n",
       "   'ridge_regression__alpha': 18.3756242076235},\n",
       "  {'polynomial_features__degree': 1, 'ridge_regression__alpha': 20.0},\n",
       "  {'polynomial_features__degree': 2, 'ridge_regression__alpha': 4.0},\n",
       "  {'polynomial_features__degree': 2,\n",
       "   'ridge_regression__alpha': 4.353593602921549},\n",
       "  {'polynomial_features__degree': 2,\n",
       "   'ridge_regression__alpha': 4.7384443148498585},\n",
       "  {'polynomial_features__degree': 2,\n",
       "   'ridge_regression__alpha': 5.157315214232582},\n",
       "  {'polynomial_features__degree': 2,\n",
       "   'ridge_regression__alpha': 5.6132136312332355},\n",
       "  {'polynomial_features__degree': 2,\n",
       "   'ridge_regression__alpha': 6.109412739192265},\n",
       "  {'polynomial_features__degree': 2,\n",
       "   'ridge_regression__alpha': 6.649475054738714},\n",
       "  {'polynomial_features__degree': 2,\n",
       "   'ridge_regression__alpha': 7.237278015274221},\n",
       "  {'polynomial_features__degree': 2,\n",
       "   'ridge_regression__alpha': 7.877041817465654},\n",
       "  {'polynomial_features__degree': 2,\n",
       "   'ridge_regression__alpha': 8.573359716616},\n",
       "  {'polynomial_features__degree': 2,\n",
       "   'ridge_regression__alpha': 9.331231004451181},\n",
       "  {'polynomial_features__degree': 2,\n",
       "   'ridge_regression__alpha': 10.156096902090468},\n",
       "  {'polynomial_features__degree': 2,\n",
       "   'ridge_regression__alpha': 11.053879625898109},\n",
       "  {'polynomial_features__degree': 2,\n",
       "   'ridge_regression__alpha': 12.03102490669371},\n",
       "  {'polynomial_features__degree': 2,\n",
       "   'ridge_regression__alpha': 13.094548267592895},\n",
       "  {'polynomial_features__degree': 2,\n",
       "   'ridge_regression__alpha': 14.252085392734966},\n",
       "  {'polynomial_features__degree': 2,\n",
       "   'ridge_regression__alpha': 15.511946948525646},\n",
       "  {'polynomial_features__degree': 2,\n",
       "   'ridge_regression__alpha': 16.88317825098993},\n",
       "  {'polynomial_features__degree': 2,\n",
       "   'ridge_regression__alpha': 18.3756242076235},\n",
       "  {'polynomial_features__degree': 2, 'ridge_regression__alpha': 20.0},\n",
       "  {'polynomial_features__degree': 3, 'ridge_regression__alpha': 4.0},\n",
       "  {'polynomial_features__degree': 3,\n",
       "   'ridge_regression__alpha': 4.353593602921549},\n",
       "  {'polynomial_features__degree': 3,\n",
       "   'ridge_regression__alpha': 4.7384443148498585},\n",
       "  {'polynomial_features__degree': 3,\n",
       "   'ridge_regression__alpha': 5.157315214232582},\n",
       "  {'polynomial_features__degree': 3,\n",
       "   'ridge_regression__alpha': 5.6132136312332355},\n",
       "  {'polynomial_features__degree': 3,\n",
       "   'ridge_regression__alpha': 6.109412739192265},\n",
       "  {'polynomial_features__degree': 3,\n",
       "   'ridge_regression__alpha': 6.649475054738714},\n",
       "  {'polynomial_features__degree': 3,\n",
       "   'ridge_regression__alpha': 7.237278015274221},\n",
       "  {'polynomial_features__degree': 3,\n",
       "   'ridge_regression__alpha': 7.877041817465654},\n",
       "  {'polynomial_features__degree': 3,\n",
       "   'ridge_regression__alpha': 8.573359716616},\n",
       "  {'polynomial_features__degree': 3,\n",
       "   'ridge_regression__alpha': 9.331231004451181},\n",
       "  {'polynomial_features__degree': 3,\n",
       "   'ridge_regression__alpha': 10.156096902090468},\n",
       "  {'polynomial_features__degree': 3,\n",
       "   'ridge_regression__alpha': 11.053879625898109},\n",
       "  {'polynomial_features__degree': 3,\n",
       "   'ridge_regression__alpha': 12.03102490669371},\n",
       "  {'polynomial_features__degree': 3,\n",
       "   'ridge_regression__alpha': 13.094548267592895},\n",
       "  {'polynomial_features__degree': 3,\n",
       "   'ridge_regression__alpha': 14.252085392734966},\n",
       "  {'polynomial_features__degree': 3,\n",
       "   'ridge_regression__alpha': 15.511946948525646},\n",
       "  {'polynomial_features__degree': 3,\n",
       "   'ridge_regression__alpha': 16.88317825098993},\n",
       "  {'polynomial_features__degree': 3,\n",
       "   'ridge_regression__alpha': 18.3756242076235},\n",
       "  {'polynomial_features__degree': 3, 'ridge_regression__alpha': 20.0}],\n",
       " 'split0_test_score': array([0.67211108, 0.67209819, 0.67208048, 0.67205716, 0.67202738,\n",
       "        0.6719902 , 0.6719446 , 0.67188948, 0.67182365, 0.67174585,\n",
       "        0.67165474, 0.67154889, 0.67142681, 0.67128692, 0.67112756,\n",
       "        0.67094698, 0.67074336, 0.67051473, 0.67025905, 0.66997409,\n",
       "        0.84255141, 0.8420115 , 0.84146799, 0.84091912, 0.84036285,\n",
       "        0.83979691, 0.83921878, 0.83862579, 0.83801512, 0.83738381,\n",
       "        0.83672883, 0.83604706, 0.83533532, 0.83459041, 0.83380909,\n",
       "        0.83298809, 0.83212415, 0.831214  , 0.83025441, 0.82924215,\n",
       "        0.46032273, 0.46982089, 0.47905587, 0.48806322, 0.49687362,\n",
       "        0.50551302, 0.51400268, 0.52235936, 0.53059548, 0.53871941,\n",
       "        0.54673575, 0.55464572, 0.5624475 , 0.57013669, 0.5777067 ,\n",
       "        0.58514924, 0.59245469, 0.59961253, 0.60661174, 0.61344108]),\n",
       " 'split1_test_score': array([0.74823479, 0.74819055, 0.74813947, 0.74808061, 0.74801288,\n",
       "        0.74793512, 0.747846  , 0.74774408, 0.74762774, 0.74749524,\n",
       "        0.74734463, 0.74717382, 0.74698049, 0.74676215, 0.74651608,\n",
       "        0.74623933, 0.74592873, 0.74558082, 0.74519187, 0.74475787,\n",
       "        0.86557853, 0.86625787, 0.86686866, 0.86740954, 0.86787963,\n",
       "        0.86827854, 0.86860632, 0.86886337, 0.86905042, 0.8691684 ,\n",
       "        0.86921839, 0.86920155, 0.86911896, 0.8689716 , 0.86876022,\n",
       "        0.86848525, 0.86814671, 0.86774415, 0.86727656, 0.8667423 ,\n",
       "        0.62240449, 0.64001868, 0.65662821, 0.67225775, 0.68693442,\n",
       "        0.7006876 , 0.71354866, 0.72555069, 0.73672825, 0.74711705,\n",
       "        0.75675363, 0.76567507, 0.77391868, 0.7815217 , 0.78852106,\n",
       "        0.79495307, 0.8008532 , 0.80625591, 0.81119439, 0.81570048]),\n",
       " 'split2_test_score': array([0.70180089, 0.70208647, 0.70238591, 0.70269903, 0.7030255 ,\n",
       "        0.7033648 , 0.70371626, 0.70407902, 0.70445199, 0.70483385,\n",
       "        0.70522304, 0.70561774, 0.70601583, 0.70641491, 0.70681224,\n",
       "        0.70720474, 0.70758895, 0.70796101, 0.70831665, 0.7086511 ,\n",
       "        0.82439713, 0.8261814 , 0.82799794, 0.82983605, 0.83168477,\n",
       "        0.83353318, 0.83537055, 0.83718657, 0.83897151, 0.84071635,\n",
       "        0.8424129 , 0.84405383, 0.84563268, 0.84714388, 0.84858264,\n",
       "        0.84994485, 0.85122696, 0.8524258 , 0.85353839, 0.85456176,\n",
       "        0.19693116, 0.22914052, 0.26022455, 0.29017017, 0.3189734 ,\n",
       "        0.34663861, 0.37317752, 0.39860825, 0.42295432, 0.44624366,\n",
       "        0.46850763, 0.48978014, 0.51009675, 0.52949396, 0.54800851,\n",
       "        0.56567675, 0.58253423, 0.59861531, 0.61395284, 0.62857805]),\n",
       " 'mean_test_score': array([0.70738225, 0.7074584 , 0.70753529, 0.70761227, 0.70768859,\n",
       "        0.70776337, 0.70783562, 0.70790419, 0.70796779, 0.70802498,\n",
       "        0.70807414, 0.70811348, 0.70814104, 0.70815466, 0.70815196,\n",
       "        0.70813035, 0.70808701, 0.70801885, 0.70792252, 0.70779435,\n",
       "        0.84417569, 0.84481692, 0.84544486, 0.8460549 , 0.84664242,\n",
       "        0.84720287, 0.84773188, 0.84822524, 0.84867902, 0.84908952,\n",
       "        0.84945338, 0.84976748, 0.85002899, 0.8502353 , 0.85038398,\n",
       "        0.85047273, 0.85049927, 0.85046132, 0.85035645, 0.85018207,\n",
       "        0.42655279, 0.4463267 , 0.46530288, 0.48349704, 0.50092715,\n",
       "        0.51761308, 0.53357629, 0.54883943, 0.56342602, 0.57736004,\n",
       "        0.59066567, 0.60336698, 0.61548764, 0.62705079, 0.63807876,\n",
       "        0.64859302, 0.65861404, 0.66816125, 0.67725299, 0.68590654]),\n",
       " 'std_test_score': array([0.03132697, 0.03129595, 0.03126372, 0.03123028, 0.0311957 ,\n",
       "        0.03116   , 0.03112322, 0.03108541, 0.03104659, 0.03100677,\n",
       "        0.03096597, 0.03092414, 0.03088124, 0.03083718, 0.03079181,\n",
       "        0.03074494, 0.03069632, 0.03064563, 0.03059247, 0.03053636,\n",
       "        0.01685142, 0.01648097, 0.01611614, 0.01576333, 0.01542923,\n",
       "        0.01512054, 0.01484383, 0.01460518, 0.01441005, 0.01426295,\n",
       "        0.01416731, 0.01412538, 0.01413811, 0.01420526, 0.01432548,\n",
       "        0.01449646, 0.01471515, 0.01497792, 0.01528078, 0.01561947,\n",
       "        0.17533244, 0.16856097, 0.16212305, 0.15602001, 0.1502468 ,\n",
       "        0.14479291, 0.13964353, 0.13478065, 0.13018424, 0.12583328,\n",
       "        0.1217068 , 0.11778462, 0.11404807, 0.11048049, 0.10706746,\n",
       "        0.10379705, 0.10065978, 0.09764852, 0.09475828, 0.09198599]),\n",
       " 'rank_test_score': array([40, 39, 38, 37, 36, 35, 33, 32, 30, 28, 27, 25, 23, 21, 22, 24, 26,\n",
       "        29, 31, 34, 20, 19, 18, 17, 16, 15, 14, 13, 12, 11, 10,  9,  8,  6,\n",
       "         4,  2,  1,  3,  5,  7, 60, 59, 58, 57, 56, 55, 54, 53, 52, 51, 50,\n",
       "        49, 48, 47, 46, 45, 44, 43, 42, 41], dtype=int32)}"
      ]
     },
     "execution_count": 45,
     "metadata": {},
     "output_type": "execute_result"
    }
   ],
   "source": [
    "grid.cv_results_"
   ]
  },
  {
   "cell_type": "code",
   "execution_count": null,
   "id": "65a3f71a-49bf-4698-8151-e47bb6142955",
   "metadata": {},
   "outputs": [],
   "source": []
  }
 ],
 "metadata": {
  "kernelspec": {
   "display_name": "Python 3 (ipykernel)",
   "language": "python",
   "name": "python3"
  },
  "language_info": {
   "codemirror_mode": {
    "name": "ipython",
    "version": 3
   },
   "file_extension": ".py",
   "mimetype": "text/x-python",
   "name": "python",
   "nbconvert_exporter": "python",
   "pygments_lexer": "ipython3",
   "version": "3.9.6"
  }
 },
 "nbformat": 4,
 "nbformat_minor": 5
}
