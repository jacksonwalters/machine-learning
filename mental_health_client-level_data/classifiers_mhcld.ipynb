{
 "cells": [
  {
   "cell_type": "code",
   "execution_count": 1,
   "id": "a2996805-2bf5-4a5e-9c04-2d007979a511",
   "metadata": {},
   "outputs": [
    {
     "name": "stdout",
     "output_type": "stream",
     "text": [
      "classifiers_mhcld.ipynb\n",
      "codebook_descriptions.pickle\n",
      "google_colab_t-sne_mental_health_client-level_data.ipynb\n",
      "mhcld_puf_2021.csv\n",
      "\u001b[34mplots\u001b[m\u001b[m\n",
      "t-sne_mental_health_client-level_data.ipynb\n"
     ]
    }
   ],
   "source": [
    "!ls"
   ]
  },
  {
   "cell_type": "code",
   "execution_count": 2,
   "id": "f6180d5f-6422-4a06-bca2-d5772b37e942",
   "metadata": {},
   "outputs": [],
   "source": [
    "import pandas as pd\n",
    "import numpy as np\n",
    "import seaborn as sns\n",
    "import matplotlib.pyplot as plt"
   ]
  },
  {
   "cell_type": "code",
   "execution_count": 3,
   "id": "794611bf-abea-48a6-a975-49cc93c9c2d6",
   "metadata": {},
   "outputs": [],
   "source": [
    "data = pd.read_csv(\"mhcld_puf_2021.csv\")\n",
    "NUM_POINTS = 100_000\n",
    "data = data[:NUM_POINTS]"
   ]
  },
  {
   "cell_type": "code",
   "execution_count": 4,
   "id": "e8968eb5-2d97-4be9-ac05-15cc64da0495",
   "metadata": {},
   "outputs": [],
   "source": [
    "# Load data the codebook descriptions\n",
    "import pickle\n",
    "with open('codebook_descriptions.pickle', 'rb') as handle:\n",
    "    codebook_descriptions = pickle.load(handle)\n",
    "assert set(list(data.columns)) == set(list(codebook_descriptions.keys()))"
   ]
  },
  {
   "cell_type": "code",
   "execution_count": 5,
   "id": "ff3eba72-dcc0-413e-9bec-6b03eb6fba26",
   "metadata": {},
   "outputs": [],
   "source": [
    "#columns to drop. reasoning in t-sne notebook.\n",
    "drop_cols = ['YEAR','CASEID','SUB','MH1','MH2','MH3','SMISED','DETNLF','NUMMHS','STATEFIP','REGION','DIVISION']\n",
    "data = data.drop(columns = drop_cols)"
   ]
  },
  {
   "cell_type": "code",
   "execution_count": 6,
   "id": "16f7fc2f-0a09-4287-8d74-ee84e95ed9e7",
   "metadata": {},
   "outputs": [],
   "source": [
    "#disorder columns. 0/1 binary. these are dignoses for the disorders\n",
    "disorder_cols = ['TRAUSTREFLG','ANXIETYFLG','ADHDFLG','CONDUCTFLG','DELIRDEMFLG','BIPOLARFLG','DEPRESSFLG','ODDFLG','PDDFLG','SCHIZOFLG','PERSONFLG','ALCSUBFLG','OTHERDISFLG']"
   ]
  },
  {
   "cell_type": "code",
   "execution_count": 7,
   "id": "590f5026-ecf1-4a75-bd95-e50af75bce9c",
   "metadata": {},
   "outputs": [],
   "source": [
    "#columns which require a transformation to standardize to 0-1. reasoning in t-sne notebook.\n",
    "transform_cols = ['AGE','EDUC','GENDER','SPHSERVICE','CMPSERVICE','OPISERVICE','RTCSERVICE','IJSSERVICE','SAP','VETERAN ']\n",
    "max_age = max(data['AGE'])\n",
    "max_educ = max(data['EDUC'])\n",
    "data['AGE'] = data['AGE'].apply(lambda x: x/max_age)\n",
    "data['EDUC'] = data['EDUC'].apply(lambda x: 0 if x==-9 else x/max_educ)\n",
    "data['GENDER'] = data['GENDER'].apply(lambda x: .5 if x==-9 else x-1)\n",
    "data['SAP'] = data['SAP'].apply(lambda x: .5 if x==-9 else x-1)\n",
    "data['VETERAN'] = data['VETERAN'].apply(lambda x: .5 if x==-9 else x-1)\n",
    "data['SPHSERVICE'] = data['SPHSERVICE'].apply(lambda x: x-1)\n",
    "data['CMPSERVICE'] = data['CMPSERVICE'].apply(lambda x: x-1)\n",
    "data['OPISERVICE'] = data['OPISERVICE'].apply(lambda x: x-1)\n",
    "data['RTCSERVICE'] = data['RTCSERVICE'].apply(lambda x: x-1)\n",
    "data['IJSSERVICE'] = data['IJSSERVICE'].apply(lambda x: x-1)"
   ]
  },
  {
   "cell_type": "code",
   "execution_count": 8,
   "id": "e81bb6cc-23e0-4d28-9301-8b7ad2c54667",
   "metadata": {},
   "outputs": [
    {
     "name": "stdout",
     "output_type": "stream",
     "text": [
      "26\n",
      "(100000, 49)\n"
     ]
    }
   ],
   "source": [
    "#categorical columns w/ more than two categorices\n",
    "#encode them with one-hot encoding\n",
    "from sklearn.preprocessing import OneHotEncoder\n",
    "one_hot_cols = ['ETHNIC','RACE','MARSTAT','EMPLOY','LIVARAG']\n",
    "one_hot_enc=OneHotEncoder().fit(data[one_hot_cols])\n",
    "one_hot_categorical_data = one_hot_enc.transform(data[one_hot_cols]).toarray()\n",
    "one_hot_feature_names=list(one_hot_enc.get_feature_names_out(['ETHNIC','RACE','MARSTAT','EMPLOY','LIVARAG']))\n",
    "one_hot_encoded_df = pd.DataFrame(data=one_hot_categorical_data,columns=one_hot_feature_names)\n",
    "print(sum(len(item) for item in one_hot_enc.categories_))\n",
    "data = data.drop(columns=one_hot_cols)\n",
    "data = data.join(one_hot_encoded_df)\n",
    "print(data.shape)"
   ]
  },
  {
   "cell_type": "code",
   "execution_count": 9,
   "id": "775f9a69-23ef-4c80-bdcb-858bab09fd36",
   "metadata": {},
   "outputs": [],
   "source": [
    "#could just map 0/1 string to binary number\n",
    "#too many categories. need to reduce\n",
    "#so create a label for those which are purely 1 for some disorder, and 0 for all others\n",
    "#use separate category for uncategorized data\n",
    "#use this as a hue to color the graph\n",
    "labels = []\n",
    "for row in data[disorder_cols][:NUM_POINTS].itertuples():\n",
    "  #binary number encoding of disorders\n",
    "  #labels.append(sum(row[1][i]*2**i for i in range(len(data.columns))))\n",
    "  #sum the total number of disorders\n",
    "  #labels.append(sum(row[1][i] for i in range(len(disorder_cols))))\n",
    "  #unique labels for pure disorders, separate categories for multiple or no disorders\n",
    "  num_disorders = sum(row[i] for i in range(1,len(row)))\n",
    "  if num_disorders == 0:\n",
    "    #labels.append(0)\n",
    "    labels.append('no_disorder')\n",
    "  if num_disorders == 1:\n",
    "    #get the index (string) of the column with value 1\n",
    "    labels.append(disorder_cols[list(row)[1:].index(1)])\n",
    "  if num_disorders > 1:\n",
    "    #labels.append(len(data.columns)+1)\n",
    "    labels.append('multi-disorder')\n",
    "\n",
    "label_df = pd.DataFrame(labels,columns=['label'])"
   ]
  },
  {
   "cell_type": "code",
   "execution_count": 73,
   "id": "bbec4552-432e-4cb1-99ec-df73f835008e",
   "metadata": {},
   "outputs": [],
   "source": [
    "#data_labeled = label_df.merge(data, left_index=True, right_index=True)"
   ]
  },
  {
   "cell_type": "code",
   "execution_count": 10,
   "id": "2cab6f50-a161-44ca-9a00-de5d0e9b706d",
   "metadata": {},
   "outputs": [],
   "source": [
    "from sklearn.ensemble import RandomForestClassifier\n",
    "from sklearn.metrics import accuracy_score, confusion_matrix, precision_score, recall_score, ConfusionMatrixDisplay\n",
    "from sklearn.model_selection import RandomizedSearchCV, train_test_split\n",
    "from scipy.stats import randint"
   ]
  },
  {
   "cell_type": "code",
   "execution_count": 11,
   "id": "58020fd4-fe1b-4e4e-8199-3ed41851bd8c",
   "metadata": {},
   "outputs": [],
   "source": [
    "X = data.drop(columns=disorder_cols)\n",
    "#y = np.squeeze(label_df)\n",
    "y = data[disorder_cols]"
   ]
  },
  {
   "cell_type": "code",
   "execution_count": 12,
   "id": "1d0a7a53-1827-4c6e-b210-861d14be908c",
   "metadata": {},
   "outputs": [],
   "source": [
    "# Split the data into training and test sets\n",
    "X_train, X_test, y_train, y_test = train_test_split(X, y, test_size=0.2)"
   ]
  },
  {
   "cell_type": "code",
   "execution_count": 13,
   "id": "0c4a9883-f38a-4d8a-90fa-a455c9a3a2f1",
   "metadata": {},
   "outputs": [
    {
     "data": {
      "text/html": [
       "<style>#sk-container-id-1 {color: black;}#sk-container-id-1 pre{padding: 0;}#sk-container-id-1 div.sk-toggleable {background-color: white;}#sk-container-id-1 label.sk-toggleable__label {cursor: pointer;display: block;width: 100%;margin-bottom: 0;padding: 0.3em;box-sizing: border-box;text-align: center;}#sk-container-id-1 label.sk-toggleable__label-arrow:before {content: \"▸\";float: left;margin-right: 0.25em;color: #696969;}#sk-container-id-1 label.sk-toggleable__label-arrow:hover:before {color: black;}#sk-container-id-1 div.sk-estimator:hover label.sk-toggleable__label-arrow:before {color: black;}#sk-container-id-1 div.sk-toggleable__content {max-height: 0;max-width: 0;overflow: hidden;text-align: left;background-color: #f0f8ff;}#sk-container-id-1 div.sk-toggleable__content pre {margin: 0.2em;color: black;border-radius: 0.25em;background-color: #f0f8ff;}#sk-container-id-1 input.sk-toggleable__control:checked~div.sk-toggleable__content {max-height: 200px;max-width: 100%;overflow: auto;}#sk-container-id-1 input.sk-toggleable__control:checked~label.sk-toggleable__label-arrow:before {content: \"▾\";}#sk-container-id-1 div.sk-estimator input.sk-toggleable__control:checked~label.sk-toggleable__label {background-color: #d4ebff;}#sk-container-id-1 div.sk-label input.sk-toggleable__control:checked~label.sk-toggleable__label {background-color: #d4ebff;}#sk-container-id-1 input.sk-hidden--visually {border: 0;clip: rect(1px 1px 1px 1px);clip: rect(1px, 1px, 1px, 1px);height: 1px;margin: -1px;overflow: hidden;padding: 0;position: absolute;width: 1px;}#sk-container-id-1 div.sk-estimator {font-family: monospace;background-color: #f0f8ff;border: 1px dotted black;border-radius: 0.25em;box-sizing: border-box;margin-bottom: 0.5em;}#sk-container-id-1 div.sk-estimator:hover {background-color: #d4ebff;}#sk-container-id-1 div.sk-parallel-item::after {content: \"\";width: 100%;border-bottom: 1px solid gray;flex-grow: 1;}#sk-container-id-1 div.sk-label:hover label.sk-toggleable__label {background-color: #d4ebff;}#sk-container-id-1 div.sk-serial::before {content: \"\";position: absolute;border-left: 1px solid gray;box-sizing: border-box;top: 0;bottom: 0;left: 50%;z-index: 0;}#sk-container-id-1 div.sk-serial {display: flex;flex-direction: column;align-items: center;background-color: white;padding-right: 0.2em;padding-left: 0.2em;position: relative;}#sk-container-id-1 div.sk-item {position: relative;z-index: 1;}#sk-container-id-1 div.sk-parallel {display: flex;align-items: stretch;justify-content: center;background-color: white;position: relative;}#sk-container-id-1 div.sk-item::before, #sk-container-id-1 div.sk-parallel-item::before {content: \"\";position: absolute;border-left: 1px solid gray;box-sizing: border-box;top: 0;bottom: 0;left: 50%;z-index: -1;}#sk-container-id-1 div.sk-parallel-item {display: flex;flex-direction: column;z-index: 1;position: relative;background-color: white;}#sk-container-id-1 div.sk-parallel-item:first-child::after {align-self: flex-end;width: 50%;}#sk-container-id-1 div.sk-parallel-item:last-child::after {align-self: flex-start;width: 50%;}#sk-container-id-1 div.sk-parallel-item:only-child::after {width: 0;}#sk-container-id-1 div.sk-dashed-wrapped {border: 1px dashed gray;margin: 0 0.4em 0.5em 0.4em;box-sizing: border-box;padding-bottom: 0.4em;background-color: white;}#sk-container-id-1 div.sk-label label {font-family: monospace;font-weight: bold;display: inline-block;line-height: 1.2em;}#sk-container-id-1 div.sk-label-container {text-align: center;}#sk-container-id-1 div.sk-container {/* jupyter's `normalize.less` sets `[hidden] { display: none; }` but bootstrap.min.css set `[hidden] { display: none !important; }` so we also need the `!important` here to be able to override the default hidden behavior on the sphinx rendered scikit-learn.org. See: https://github.com/scikit-learn/scikit-learn/issues/21755 */display: inline-block !important;position: relative;}#sk-container-id-1 div.sk-text-repr-fallback {display: none;}</style><div id=\"sk-container-id-1\" class=\"sk-top-container\"><div class=\"sk-text-repr-fallback\"><pre>RandomForestClassifier()</pre><b>In a Jupyter environment, please rerun this cell to show the HTML representation or trust the notebook. <br />On GitHub, the HTML representation is unable to render, please try loading this page with nbviewer.org.</b></div><div class=\"sk-container\" hidden><div class=\"sk-item\"><div class=\"sk-estimator sk-toggleable\"><input class=\"sk-toggleable__control sk-hidden--visually\" id=\"sk-estimator-id-1\" type=\"checkbox\" checked><label for=\"sk-estimator-id-1\" class=\"sk-toggleable__label sk-toggleable__label-arrow\">RandomForestClassifier</label><div class=\"sk-toggleable__content\"><pre>RandomForestClassifier()</pre></div></div></div></div></div>"
      ],
      "text/plain": [
       "RandomForestClassifier()"
      ]
     },
     "execution_count": 13,
     "metadata": {},
     "output_type": "execute_result"
    }
   ],
   "source": [
    "rf = RandomForestClassifier()\n",
    "rf.fit(X_train, y_train)"
   ]
  },
  {
   "cell_type": "code",
   "execution_count": 14,
   "id": "40b87a3b-d979-4006-a8ef-5f079e7a8d9b",
   "metadata": {},
   "outputs": [],
   "source": [
    "y_pred = rf.predict(X_test)"
   ]
  },
  {
   "cell_type": "code",
   "execution_count": 15,
   "id": "52f37a09-5cbd-4a7d-a318-39fe3f360c26",
   "metadata": {},
   "outputs": [
    {
     "name": "stdout",
     "output_type": "stream",
     "text": [
      "Accuracy: 0.17485\n"
     ]
    }
   ],
   "source": [
    "#17% accuracy on multi-disorder-labeled data\n",
    "#36% accuracy on unique-disorder-labeled data \n",
    "accuracy = accuracy_score(y_test, y_pred)\n",
    "print(\"Accuracy:\", accuracy)"
   ]
  },
  {
   "cell_type": "code",
   "execution_count": null,
   "id": "a3e33ab7-7ccb-4ed3-8c8a-c9d0fa35f001",
   "metadata": {},
   "outputs": [],
   "source": []
  }
 ],
 "metadata": {
  "kernelspec": {
   "display_name": "Python 3 (ipykernel)",
   "language": "python",
   "name": "python3"
  },
  "language_info": {
   "codemirror_mode": {
    "name": "ipython",
    "version": 3
   },
   "file_extension": ".py",
   "mimetype": "text/x-python",
   "name": "python",
   "nbconvert_exporter": "python",
   "pygments_lexer": "ipython3",
   "version": "3.9.6"
  }
 },
 "nbformat": 4,
 "nbformat_minor": 5
}
