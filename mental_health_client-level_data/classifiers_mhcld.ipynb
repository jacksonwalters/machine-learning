{
 "cells": [
  {
   "cell_type": "code",
   "execution_count": 1,
   "id": "a2996805-2bf5-4a5e-9c04-2d007979a511",
   "metadata": {},
   "outputs": [
    {
     "name": "stdout",
     "output_type": "stream",
     "text": [
      "classifiers_mhcld.ipynb\n",
      "codebook_descriptions.pickle\n",
      "google_colab_t-sne_mental_health_client-level_data.ipynb\n",
      "mhcld_puf_2021.csv\n",
      "\u001b[34mplots\u001b[m\u001b[m\n",
      "t-sne_mental_health_client-level_data.ipynb\n",
      "to_do.txt\n"
     ]
    }
   ],
   "source": [
    "!ls"
   ]
  },
  {
   "cell_type": "code",
   "execution_count": 2,
   "id": "f6180d5f-6422-4a06-bca2-d5772b37e942",
   "metadata": {},
   "outputs": [],
   "source": [
    "import pandas as pd\n",
    "import numpy as np\n",
    "import seaborn as sns\n",
    "import matplotlib.pyplot as plt"
   ]
  },
  {
   "cell_type": "code",
   "execution_count": 3,
   "id": "794611bf-abea-48a6-a975-49cc93c9c2d6",
   "metadata": {},
   "outputs": [],
   "source": [
    "NUM_POINTS = 100_000\n",
    "data = pd.read_csv(\"mhcld_puf_2021.csv\")\n",
    "data = data[:NUM_POINTS]"
   ]
  },
  {
   "cell_type": "code",
   "execution_count": 6,
   "id": "e8968eb5-2d97-4be9-ac05-15cc64da0495",
   "metadata": {},
   "outputs": [],
   "source": [
    "# Load data the codebook descriptions\n",
    "import pickle\n",
    "with open('codebook_descriptions.pickle', 'rb') as handle:\n",
    "    codebook_descriptions = pickle.load(handle)\n",
    "assert set(list(data.columns)) == set(list(codebook_descriptions.keys()))"
   ]
  },
  {
   "cell_type": "code",
   "execution_count": 4,
   "id": "ff3eba72-dcc0-413e-9bec-6b03eb6fba26",
   "metadata": {},
   "outputs": [],
   "source": [
    "#columns to drop. reasoning in t-sne notebook.\n",
    "drop_cols = ['YEAR','CASEID','SUB','MH1','MH2','MH3','SMISED','DETNLF','NUMMHS','STATEFIP','REGION','DIVISION']\n",
    "data = data.drop(columns = drop_cols)"
   ]
  },
  {
   "cell_type": "code",
   "execution_count": 5,
   "id": "16f7fc2f-0a09-4287-8d74-ee84e95ed9e7",
   "metadata": {},
   "outputs": [],
   "source": [
    "#disorder columns. 0/1 binary. these are dignoses for the disorders\n",
    "disorder_cols = ['TRAUSTREFLG','ANXIETYFLG','ADHDFLG','CONDUCTFLG','DELIRDEMFLG','BIPOLARFLG','DEPRESSFLG','ODDFLG','PDDFLG','SCHIZOFLG','PERSONFLG','ALCSUBFLG','OTHERDISFLG']"
   ]
  },
  {
   "cell_type": "code",
   "execution_count": 6,
   "id": "590f5026-ecf1-4a75-bd95-e50af75bce9c",
   "metadata": {},
   "outputs": [],
   "source": [
    "#columns which require a transformation to standardize to 0-1. reasoning in t-sne notebook.\n",
    "transform_cols = ['AGE','EDUC','GENDER','SPHSERVICE','CMPSERVICE','OPISERVICE','RTCSERVICE','IJSSERVICE','SAP','VETERAN ']\n",
    "max_age = max(data['AGE'])\n",
    "max_educ = max(data['EDUC'])\n",
    "data['AGE'] = data['AGE'].apply(lambda x: x/max_age)\n",
    "data['EDUC'] = data['EDUC'].apply(lambda x: 0 if x==-9 else x/max_educ)\n",
    "data['GENDER'] = data['GENDER'].apply(lambda x: .5 if x==-9 else x-1)\n",
    "data['SAP'] = data['SAP'].apply(lambda x: .5 if x==-9 else x-1)\n",
    "data['VETERAN'] = data['VETERAN'].apply(lambda x: .5 if x==-9 else x-1)\n",
    "data['SPHSERVICE'] = data['SPHSERVICE'].apply(lambda x: x-1)\n",
    "data['CMPSERVICE'] = data['CMPSERVICE'].apply(lambda x: x-1)\n",
    "data['OPISERVICE'] = data['OPISERVICE'].apply(lambda x: x-1)\n",
    "data['RTCSERVICE'] = data['RTCSERVICE'].apply(lambda x: x-1)\n",
    "data['IJSSERVICE'] = data['IJSSERVICE'].apply(lambda x: x-1)"
   ]
  },
  {
   "cell_type": "code",
   "execution_count": 7,
   "id": "e81bb6cc-23e0-4d28-9301-8b7ad2c54667",
   "metadata": {},
   "outputs": [
    {
     "name": "stdout",
     "output_type": "stream",
     "text": [
      "26\n",
      "(100000, 49)\n"
     ]
    }
   ],
   "source": [
    "#categorical columns w/ more than two categorices\n",
    "#encode them with one-hot encoding\n",
    "from sklearn.preprocessing import OneHotEncoder\n",
    "one_hot_cols = ['ETHNIC','RACE','MARSTAT','EMPLOY','LIVARAG']\n",
    "one_hot_enc=OneHotEncoder().fit(data[one_hot_cols])\n",
    "one_hot_categorical_data = one_hot_enc.transform(data[one_hot_cols]).toarray()\n",
    "one_hot_feature_names=list(one_hot_enc.get_feature_names_out(['ETHNIC','RACE','MARSTAT','EMPLOY','LIVARAG']))\n",
    "one_hot_encoded_df = pd.DataFrame(data=one_hot_categorical_data,columns=one_hot_feature_names)\n",
    "print(sum(len(item) for item in one_hot_enc.categories_))\n",
    "data = data.drop(columns=one_hot_cols)\n",
    "data = data.join(one_hot_encoded_df)\n",
    "print(data.shape)"
   ]
  },
  {
   "cell_type": "code",
   "execution_count": 8,
   "id": "775f9a69-23ef-4c80-bdcb-858bab09fd36",
   "metadata": {},
   "outputs": [],
   "source": [
    "#create labels for the 13 disorder features\n",
    "#binary encode them since they are 0/1\n",
    "#take the total number of disorders present\n",
    "#create unique leabel for each disorder, plus one for no disorder and one for multiple disorders\n",
    "#use k-means to automatically label the clusters\n",
    "from sklearn.cluster import KMeans\n",
    "def get_labels(dataset, label_type='binary_encode',num_clusters=5):\n",
    "    #generate labels using k-means\n",
    "    if label_type == 'k-means':\n",
    "        kmeans = KMeans(n_clusters=num_clusters, init='k-means++', max_iter=300, random_state=0, n_init=10)\n",
    "        kmeans.fit(dataset)\n",
    "        return pd.DataFrame(kmeans.labels_,columns=['label'])\n",
    "    labels = []\n",
    "    for row in dataset[disorder_cols][:NUM_POINTS].itertuples():\n",
    "        if label_type=='binary_encode':\n",
    "            #binary number encoding of disorders\n",
    "            encoding = sum(row[i]*2**(i-1) for i in range(1,len(row)))\n",
    "            labels.append(encoding)\n",
    "        #sum the total number of disorders\n",
    "        num_disorders = sum(row[i] for i in range(1,len(row)))\n",
    "        if label_type == 'num_disorders':\n",
    "            labels.append(num_disorders)\n",
    "        #unique labels for pure disorders, separate categories for multiple or no disorders\n",
    "        if label_type == 'unique_disorders':\n",
    "            if num_disorders == 0:\n",
    "                labels.append('no_disorder')\n",
    "            if num_disorders == 1:\n",
    "                #get the index (string) of the column with value 1\n",
    "                labels.append(disorder_cols[list(row)[1:].index(1)])\n",
    "            if num_disorders > 1:\n",
    "                labels.append('multi-disorder')\n",
    "    return pd.DataFrame(labels,columns=['label']) "
   ]
  },
  {
   "cell_type": "code",
   "execution_count": 9,
   "id": "946649da-609b-4872-99f9-177449285cba",
   "metadata": {},
   "outputs": [],
   "source": [
    "kmeans_label_df = get_labels(data,label_type='k-means',num_clusters=15)"
   ]
  },
  {
   "cell_type": "code",
   "execution_count": 10,
   "id": "fef2e116-9aa6-4242-9b9c-deedf64cf81e",
   "metadata": {},
   "outputs": [],
   "source": [
    "binary_enc_label_df = get_labels(data,label_type='binary_encode')"
   ]
  },
  {
   "cell_type": "code",
   "execution_count": 11,
   "id": "bbec4552-432e-4cb1-99ec-df73f835008e",
   "metadata": {},
   "outputs": [],
   "source": [
    "unique_disorders_label_df = get_labels(data,label_type='unique_disorders')"
   ]
  },
  {
   "cell_type": "code",
   "execution_count": 13,
   "id": "682772fd-a90e-484f-bb65-9b8486b8e915",
   "metadata": {},
   "outputs": [],
   "source": [
    "#data_labeled = label_df.merge(data, left_index=True, right_index=True)\n",
    "#tsne_results_kmeans_label = kmeans_label_df.merge(data, left_index=True, right_index=True)"
   ]
  },
  {
   "cell_type": "code",
   "execution_count": 12,
   "id": "c42168c1-1ebb-4c41-83e9-c6c38aca323c",
   "metadata": {},
   "outputs": [],
   "source": [
    "from sklearn.ensemble import RandomForestClassifier\n",
    "from sklearn.linear_model import LogisticRegression\n",
    "from sklearn.metrics import accuracy_score, multilabel_confusion_matrix, precision_score, recall_score, ConfusionMatrixDisplay, roc_auc_score, hamming_loss\n",
    "from sklearn.model_selection import RandomizedSearchCV, train_test_split\n",
    "from scipy.stats import randint"
   ]
  },
  {
   "cell_type": "code",
   "execution_count": 15,
   "id": "258520ae-b1b6-4b07-910d-fc24611055db",
   "metadata": {},
   "outputs": [],
   "source": [
    "#PERFORM RANDOM FOREST CLASSIFICATION\n",
    "#may have unbalanced classes, too many in multi-disorder"
   ]
  },
  {
   "cell_type": "code",
   "execution_count": 16,
   "id": "58020fd4-fe1b-4e4e-8199-3ed41851bd8c",
   "metadata": {},
   "outputs": [],
   "source": [
    "#drop the disorder columns since we're trying to predict those\n",
    "X = data.drop(columns=disorder_cols)\n",
    "y = np.squeeze(unique_disorders_label_df)"
   ]
  },
  {
   "cell_type": "code",
   "execution_count": 17,
   "id": "1d0a7a53-1827-4c6e-b210-861d14be908c",
   "metadata": {},
   "outputs": [],
   "source": [
    "# Split the data into training and test sets\n",
    "X_train, X_test, y_train, y_test = train_test_split(X, y, test_size=0.2)"
   ]
  },
  {
   "cell_type": "code",
   "execution_count": 18,
   "id": "0c4a9883-f38a-4d8a-90fa-a455c9a3a2f1",
   "metadata": {},
   "outputs": [
    {
     "data": {
      "text/html": [
       "<style>#sk-container-id-1 {color: black;}#sk-container-id-1 pre{padding: 0;}#sk-container-id-1 div.sk-toggleable {background-color: white;}#sk-container-id-1 label.sk-toggleable__label {cursor: pointer;display: block;width: 100%;margin-bottom: 0;padding: 0.3em;box-sizing: border-box;text-align: center;}#sk-container-id-1 label.sk-toggleable__label-arrow:before {content: \"▸\";float: left;margin-right: 0.25em;color: #696969;}#sk-container-id-1 label.sk-toggleable__label-arrow:hover:before {color: black;}#sk-container-id-1 div.sk-estimator:hover label.sk-toggleable__label-arrow:before {color: black;}#sk-container-id-1 div.sk-toggleable__content {max-height: 0;max-width: 0;overflow: hidden;text-align: left;background-color: #f0f8ff;}#sk-container-id-1 div.sk-toggleable__content pre {margin: 0.2em;color: black;border-radius: 0.25em;background-color: #f0f8ff;}#sk-container-id-1 input.sk-toggleable__control:checked~div.sk-toggleable__content {max-height: 200px;max-width: 100%;overflow: auto;}#sk-container-id-1 input.sk-toggleable__control:checked~label.sk-toggleable__label-arrow:before {content: \"▾\";}#sk-container-id-1 div.sk-estimator input.sk-toggleable__control:checked~label.sk-toggleable__label {background-color: #d4ebff;}#sk-container-id-1 div.sk-label input.sk-toggleable__control:checked~label.sk-toggleable__label {background-color: #d4ebff;}#sk-container-id-1 input.sk-hidden--visually {border: 0;clip: rect(1px 1px 1px 1px);clip: rect(1px, 1px, 1px, 1px);height: 1px;margin: -1px;overflow: hidden;padding: 0;position: absolute;width: 1px;}#sk-container-id-1 div.sk-estimator {font-family: monospace;background-color: #f0f8ff;border: 1px dotted black;border-radius: 0.25em;box-sizing: border-box;margin-bottom: 0.5em;}#sk-container-id-1 div.sk-estimator:hover {background-color: #d4ebff;}#sk-container-id-1 div.sk-parallel-item::after {content: \"\";width: 100%;border-bottom: 1px solid gray;flex-grow: 1;}#sk-container-id-1 div.sk-label:hover label.sk-toggleable__label {background-color: #d4ebff;}#sk-container-id-1 div.sk-serial::before {content: \"\";position: absolute;border-left: 1px solid gray;box-sizing: border-box;top: 0;bottom: 0;left: 50%;z-index: 0;}#sk-container-id-1 div.sk-serial {display: flex;flex-direction: column;align-items: center;background-color: white;padding-right: 0.2em;padding-left: 0.2em;position: relative;}#sk-container-id-1 div.sk-item {position: relative;z-index: 1;}#sk-container-id-1 div.sk-parallel {display: flex;align-items: stretch;justify-content: center;background-color: white;position: relative;}#sk-container-id-1 div.sk-item::before, #sk-container-id-1 div.sk-parallel-item::before {content: \"\";position: absolute;border-left: 1px solid gray;box-sizing: border-box;top: 0;bottom: 0;left: 50%;z-index: -1;}#sk-container-id-1 div.sk-parallel-item {display: flex;flex-direction: column;z-index: 1;position: relative;background-color: white;}#sk-container-id-1 div.sk-parallel-item:first-child::after {align-self: flex-end;width: 50%;}#sk-container-id-1 div.sk-parallel-item:last-child::after {align-self: flex-start;width: 50%;}#sk-container-id-1 div.sk-parallel-item:only-child::after {width: 0;}#sk-container-id-1 div.sk-dashed-wrapped {border: 1px dashed gray;margin: 0 0.4em 0.5em 0.4em;box-sizing: border-box;padding-bottom: 0.4em;background-color: white;}#sk-container-id-1 div.sk-label label {font-family: monospace;font-weight: bold;display: inline-block;line-height: 1.2em;}#sk-container-id-1 div.sk-label-container {text-align: center;}#sk-container-id-1 div.sk-container {/* jupyter's `normalize.less` sets `[hidden] { display: none; }` but bootstrap.min.css set `[hidden] { display: none !important; }` so we also need the `!important` here to be able to override the default hidden behavior on the sphinx rendered scikit-learn.org. See: https://github.com/scikit-learn/scikit-learn/issues/21755 */display: inline-block !important;position: relative;}#sk-container-id-1 div.sk-text-repr-fallback {display: none;}</style><div id=\"sk-container-id-1\" class=\"sk-top-container\"><div class=\"sk-text-repr-fallback\"><pre>RandomForestClassifier()</pre><b>In a Jupyter environment, please rerun this cell to show the HTML representation or trust the notebook. <br />On GitHub, the HTML representation is unable to render, please try loading this page with nbviewer.org.</b></div><div class=\"sk-container\" hidden><div class=\"sk-item\"><div class=\"sk-estimator sk-toggleable\"><input class=\"sk-toggleable__control sk-hidden--visually\" id=\"sk-estimator-id-1\" type=\"checkbox\" checked><label for=\"sk-estimator-id-1\" class=\"sk-toggleable__label sk-toggleable__label-arrow\">RandomForestClassifier</label><div class=\"sk-toggleable__content\"><pre>RandomForestClassifier()</pre></div></div></div></div></div>"
      ],
      "text/plain": [
       "RandomForestClassifier()"
      ]
     },
     "execution_count": 18,
     "metadata": {},
     "output_type": "execute_result"
    }
   ],
   "source": [
    "rf = RandomForestClassifier()\n",
    "rf.fit(X_train, y_train)"
   ]
  },
  {
   "cell_type": "code",
   "execution_count": 19,
   "id": "40b87a3b-d979-4006-a8ef-5f079e7a8d9b",
   "metadata": {},
   "outputs": [],
   "source": [
    "y_pred_rf = rf.predict(X_test)"
   ]
  },
  {
   "cell_type": "code",
   "execution_count": 20,
   "id": "52f37a09-5cbd-4a7d-a318-39fe3f360c26",
   "metadata": {},
   "outputs": [
    {
     "name": "stdout",
     "output_type": "stream",
     "text": [
      "Accuracy: 0.34965\n",
      "Precision: 0.30545804698445045\n",
      "Recall: 0.34965\n"
     ]
    },
    {
     "name": "stderr",
     "output_type": "stream",
     "text": [
      "/Users/jacksonwalters/Library/Python/3.9/lib/python/site-packages/sklearn/metrics/_classification.py:1471: UndefinedMetricWarning: Precision is ill-defined and being set to 0.0 in labels with no predicted samples. Use `zero_division` parameter to control this behavior.\n",
      "  _warn_prf(average, modifier, msg_start, len(result))\n"
     ]
    }
   ],
   "source": [
    "#zero_division warning - unbalanced classes, i.e. multi-disorder has too many elements\n",
    "#17% accuracy on multi-disorder-labeled data\n",
    "#36% accuracy on unique-disorder-labeled data \n",
    "accuracy = accuracy_score(y_test, y_pred_rf)\n",
    "print(\"Accuracy:\", accuracy)\n",
    "precision = precision_score(y_test, y_pred_rf, average='weighted')\n",
    "print(\"Precision:\", precision)\n",
    "recall = recall_score(y_test, y_pred_rf, average='weighted')\n",
    "print(\"Recall:\", recall)"
   ]
  },
  {
   "cell_type": "code",
   "execution_count": 21,
   "id": "ace54ee6-f5b3-4fa5-9b11-4ec04d5a2b04",
   "metadata": {},
   "outputs": [],
   "source": [
    "vis_arr = multilabel_confusion_matrix(y_test, y_pred_rf)"
   ]
  },
  {
   "cell_type": "code",
   "execution_count": 22,
   "id": "54163c9b-8919-4119-b207-67bd8a38a96f",
   "metadata": {},
   "outputs": [],
   "source": [
    "def print_confusion_matrix(confusion_matrix, axes, class_label, class_names, fontsize=14):\n",
    "\n",
    "    df_cm = pd.DataFrame(\n",
    "        confusion_matrix, index=class_names, columns=class_names,\n",
    "    )\n",
    "\n",
    "    try:\n",
    "        heatmap = sns.heatmap(df_cm, annot=True, fmt=\"d\", cbar=False, ax=axes)\n",
    "    except ValueError:\n",
    "        raise ValueError(\"Confusion matrix values must be integers.\")\n",
    "    heatmap.yaxis.set_ticklabels(heatmap.yaxis.get_ticklabels(), rotation=0, ha='right', fontsize=fontsize)\n",
    "    heatmap.xaxis.set_ticklabels(heatmap.xaxis.get_ticklabels(), rotation=45, ha='right', fontsize=fontsize)\n",
    "    axes.set_ylabel('True label')\n",
    "    axes.set_xlabel('Predicted label')\n",
    "    axes.set_title(\"CFS_MATRIX for \" + class_label)"
   ]
  },
  {
   "cell_type": "code",
   "execution_count": 23,
   "id": "edffcac0-c5d2-4c30-9c6a-287b06c856ab",
   "metadata": {},
   "outputs": [
    {
     "data": {
      "image/png": "[encoded data removed]",
      "text/plain": [
       "<Figure size 1200x700 with 16 Axes>"
      ]
     },
     "metadata": {},
     "output_type": "display_data"
    }
   ],
   "source": [
    "fig, ax = plt.subplots(4, 4, figsize=(12, 7))\n",
    "    \n",
    "for axes, cfs_matrix, label in zip(ax.flatten(), vis_arr, list(set(y_test))):\n",
    "    print_confusion_matrix(cfs_matrix, axes, label, [\"N\", \"Y\"])\n",
    "    \n",
    "fig.tight_layout()\n",
    "fig.savefig(\"./plots/confusion_matrix_mhcld_unique-disorder-label.png\")\n",
    "plt.show()"
   ]
  },
  {
   "cell_type": "code",
   "execution_count": 24,
   "id": "3edb823a-1f06-471f-8e28-d5c196050c1a",
   "metadata": {},
   "outputs": [],
   "source": [
    "#MULTI-CLASS LOGISTIC REGRESSION"
   ]
  },
  {
   "cell_type": "code",
   "execution_count": 24,
   "id": "d434186f-6a75-465c-8132-a14a4c944ef8",
   "metadata": {},
   "outputs": [],
   "source": [
    "#drop disorder cols, we are predicting those\n",
    "#use unique_disorder labels\n",
    "X = data.drop(columns=disorder_cols)\n",
    "#y = np.squeeze(unique_disorders_label_df)\n",
    "y = np.squeeze(kmeans_label_df)\n",
    "#y = np.squeeze(binary_enc_label_df)"
   ]
  },
  {
   "cell_type": "code",
   "execution_count": 25,
   "id": "038d6ef3-faa9-48f2-8692-7fb834f9b49f",
   "metadata": {},
   "outputs": [],
   "source": [
    "# Split the data into training and test sets\n",
    "#stratified k-fold didn't help much\n",
    "X_train, X_test, y_train, y_test = train_test_split(X, y, test_size=0.2)"
   ]
  },
  {
   "cell_type": "code",
   "execution_count": 26,
   "id": "2960916a-854d-47a9-9ad4-6c18690b0c65",
   "metadata": {},
   "outputs": [],
   "source": [
    "#fit the logistic regression model\n",
    "clf = LogisticRegression(solver='lbfgs', max_iter=3000).fit(X_train, y_train)"
   ]
  },
  {
   "cell_type": "code",
   "execution_count": 27,
   "id": "e7c14d71-0cc9-48db-a67a-73ff829cc842",
   "metadata": {},
   "outputs": [],
   "source": [
    "#get predictions for logistic regression\n",
    "y_pred_logistic = clf.predict(X_test)"
   ]
  },
  {
   "cell_type": "code",
   "execution_count": 28,
   "id": "7e663d9c-78b7-4e5d-b018-abd23a57076a",
   "metadata": {},
   "outputs": [
    {
     "name": "stdout",
     "output_type": "stream",
     "text": [
      "accuracy: 0.88315\n",
      "precision: 0.8819518553140321\n",
      "recall: 0.88315\n"
     ]
    }
   ],
   "source": [
    "#get accuracy, precision, recall scores\n",
    "accuracy = accuracy_score(y_test, y_pred_logistic)\n",
    "precision = precision_score(y_test, y_pred_logistic, average='weighted')\n",
    "recall = recall_score(y_test, y_pred_logistic, average='weighted')\n",
    "print(f\"accuracy: {accuracy}\")\n",
    "print(f\"precision: {precision}\")\n",
    "print(f\"recall: {recall}\")"
   ]
  },
  {
   "cell_type": "code",
   "execution_count": 29,
   "id": "66b4c09d-87ea-4e38-9150-0d00dcf56fab",
   "metadata": {},
   "outputs": [],
   "source": [
    "#OUTPUT PROBABILITY VECTOR = [0-1, 0-1, ..., 0-1]\n",
    "#get probabilities when the labels are one of the 13 labels from k-means\n",
    "probabilities_logistic_kmeans = clf.predict_proba(X_test)"
   ]
  },
  {
   "cell_type": "code",
   "execution_count": 30,
   "id": "795cb389-767d-469b-a624-06850013e4f5",
   "metadata": {},
   "outputs": [
    {
     "data": {
      "text/plain": [
       "array([7.38513747e-07, 1.00767555e-12, 4.73260090e-09, 2.04948176e-06,\n",
       "       8.24956551e-05, 3.29043407e-09, 2.41498488e-06, 5.80839707e-01,\n",
       "       1.30683831e-05, 9.42689318e-11, 4.15487924e-01, 3.55204763e-03,\n",
       "       6.61416669e-15, 1.95456062e-05, 3.29768964e-11])"
      ]
     },
     "execution_count": 30,
     "metadata": {},
     "output_type": "execute_result"
    }
   ],
   "source": [
    "probabilities_logistic_kmeans[0]"
   ]
  },
  {
   "cell_type": "code",
   "execution_count": 31,
   "id": "d6d814f4-ed55-44ec-b3f3-7ccf70917e7e",
   "metadata": {},
   "outputs": [],
   "source": [
    "#PROBABILITIES OF INDIVIDUAL DISORDERS w/ LOGISTIC REGRESSION"
   ]
  },
  {
   "cell_type": "code",
   "execution_count": 42,
   "id": "985adebf-ebf7-42cf-8547-ce000b8d3773",
   "metadata": {},
   "outputs": [],
   "source": [
    "#drop disorder cols, we are predicting those\n",
    "#use unique_disorder labels\n",
    "X = data.drop(columns=disorder_cols)\n",
    "#y = np.squeeze(unique_disorders_label_df)\n",
    "y = np.squeeze(data[disorder_cols])\n",
    "#y = np.squeeze(binary_enc_label_df)"
   ]
  },
  {
   "cell_type": "code",
   "execution_count": 44,
   "id": "0e121e41-6a00-43a7-856c-fc40deeb0681",
   "metadata": {},
   "outputs": [],
   "source": [
    "# Split the data into training and test sets\n",
    "#stratified k-fold didn't help much\n",
    "X_train, X_test, y_train, y_test = train_test_split(X, y, test_size=0.2)"
   ]
  },
  {
   "cell_type": "code",
   "execution_count": 32,
   "id": "cdd08525-d159-4126-aa2b-7b6f665ac92e",
   "metadata": {},
   "outputs": [],
   "source": [
    "#drop disorder cols, we are predicting those\n",
    "pred_each_disorder = []\n",
    "X = data.drop(columns=disorder_cols)\n",
    "for disorder in disorder_cols:\n",
    "    #use unique_disorder labels\n",
    "    #y = np.squeeze(unique_disorders_label_df)\n",
    "    y = np.squeeze(data[disorder])\n",
    "    #y = np.squeeze(binary_enc_label_df)\n",
    "    # Split the data into training and test sets\n",
    "    #stratified k-fold didn't help much\n",
    "    X_train, X_test, y_train, y_test = train_test_split(X, y, test_size=0.2)\n",
    "    #fit the logistic regression model\n",
    "    clf = LogisticRegression(solver='lbfgs', max_iter=3000).fit(X_train, y_train)\n",
    "    #get predictions for binary logistic regression\n",
    "    y_pred_logistic = clf.predict_proba(X_test)\n",
    "    #only take the probabilties of predicting TRUE=1\n",
    "    pred_each_disorder.append(y_pred_logistic[:, 1])"
   ]
  },
  {
   "cell_type": "code",
   "execution_count": 33,
   "id": "b0aa6dce-cd53-4481-9177-54d445e0d509",
   "metadata": {},
   "outputs": [],
   "source": [
    "prediction_df = pd.DataFrame(np.array(pred_each_disorder).transpose(),columns=disorder_cols)"
   ]
  },
  {
   "cell_type": "code",
   "execution_count": 46,
   "id": "31020cd4-a225-4a5e-a12d-22529eb7a86a",
   "metadata": {},
   "outputs": [
    {
     "data": {
      "text/plain": [
       "0.12171923076923077"
      ]
     },
     "execution_count": 46,
     "metadata": {},
     "output_type": "execute_result"
    }
   ],
   "source": [
    "hamming_loss(y_test, round(prediction_df))"
   ]
  },
  {
   "cell_type": "code",
   "execution_count": 35,
   "id": "5ad4be19-00f2-498f-9cd4-9fa9f448c391",
   "metadata": {},
   "outputs": [],
   "source": [
    "#MULTI-OUTPUT MODEL"
   ]
  },
  {
   "cell_type": "code",
   "execution_count": 13,
   "id": "799cd054-f3e7-4086-a3f1-f318c87db59f",
   "metadata": {},
   "outputs": [],
   "source": [
    "#drop disorder cols, we are predicting those\n",
    "#use unique_disorder labels\n",
    "X = data.drop(columns=disorder_cols)\n",
    "#y = np.squeeze(unique_disorders_label_df)\n",
    "y = np.squeeze(data[disorder_cols])\n",
    "#y = np.squeeze(binary_enc_label_df)"
   ]
  },
  {
   "cell_type": "code",
   "execution_count": 14,
   "id": "c2515eec-a6c1-4627-bdfb-fefc1ac76b39",
   "metadata": {},
   "outputs": [],
   "source": [
    "# Split the data into training and test sets\n",
    "#stratified k-fold didn't help much\n",
    "X_train, X_test, y_train, y_test = train_test_split(X, y, test_size=0.2)"
   ]
  },
  {
   "cell_type": "code",
   "execution_count": 49,
   "id": "4d7128fa-ee58-4908-a5bf-9219fd855be6",
   "metadata": {},
   "outputs": [],
   "source": [
    "from sklearn.multioutput import MultiOutputClassifier"
   ]
  },
  {
   "cell_type": "code",
   "execution_count": 50,
   "id": "f2cfd5f4-461f-404c-ae9e-00809a6d9435",
   "metadata": {},
   "outputs": [],
   "source": [
    "multioutput_clf = MultiOutputClassifier(LogisticRegression(solver='lbfgs', max_iter=3000)).fit(X_train, y_train)"
   ]
  },
  {
   "cell_type": "code",
   "execution_count": 51,
   "id": "e3dd6ae3-d8e9-4b2e-9686-95efa5ac5ba0",
   "metadata": {},
   "outputs": [],
   "source": [
    "multioutput_pred = multioutput_clf.predict(X_test)"
   ]
  },
  {
   "cell_type": "code",
   "execution_count": 52,
   "id": "1f5a1311-8773-496f-8aaf-ff1acc45ed8f",
   "metadata": {},
   "outputs": [
    {
     "name": "stdout",
     "output_type": "stream",
     "text": [
      "Hamming Loss:  0.1\n"
     ]
    }
   ],
   "source": [
    "print('Hamming Loss: ', round(hamming_loss(y_test, multioutput_pred),2))"
   ]
  },
  {
   "cell_type": "code",
   "execution_count": 48,
   "id": "2f9254eb-74dd-4b67-a747-d4eb654a6d50",
   "metadata": {},
   "outputs": [],
   "source": [
    "#MULTI-LABEL CLASSIFIER"
   ]
  },
  {
   "cell_type": "code",
   "execution_count": 53,
   "id": "131c544e-ec83-484b-ae15-71d10fadf405",
   "metadata": {},
   "outputs": [],
   "source": [
    "from sklearn.multiclass import OneVsRestClassifier"
   ]
  },
  {
   "cell_type": "code",
   "execution_count": 54,
   "id": "dd875f38-6b1b-41bc-923b-e9f30126fdf7",
   "metadata": {},
   "outputs": [],
   "source": [
    "multilabel_clf=OneVsRestClassifier(LogisticRegression(solver='lbfgs', max_iter=3000)).fit(X_train, y_train)"
   ]
  },
  {
   "cell_type": "code",
   "execution_count": 55,
   "id": "f4ffcf9e-520d-419e-b930-326486f5c0dc",
   "metadata": {},
   "outputs": [],
   "source": [
    "multilabel_pred = multilabel_clf.predict(X_test)"
   ]
  },
  {
   "cell_type": "code",
   "execution_count": 56,
   "id": "64f5dc8f-f035-4736-a4dd-5c99a1e84232",
   "metadata": {},
   "outputs": [
    {
     "name": "stdout",
     "output_type": "stream",
     "text": [
      "Hamming Loss:  0.1\n"
     ]
    }
   ],
   "source": [
    "from sklearn.metrics import hamming_loss\n",
    "print('Hamming Loss: ', round(hamming_loss(y_test, multilabel_pred),2))"
   ]
  },
  {
   "cell_type": "code",
   "execution_count": 2,
   "id": "b1fd9c3d-56e8-4ae6-86aa-16c469639359",
   "metadata": {},
   "outputs": [],
   "source": [
    "#use scikit-multilearn"
   ]
  },
  {
   "cell_type": "code",
   "execution_count": 15,
   "id": "aa35c50c-0a5d-4db1-b787-d4f640c836a6",
   "metadata": {},
   "outputs": [
    {
     "data": {
      "text/html": [
       "<style>#sk-container-id-1 {\n",
       "  /* Definition of color scheme common for light and dark mode */\n",
       "  --sklearn-color-text: black;\n",
       "  --sklearn-color-line: gray;\n",
       "  /* Definition of color scheme for unfitted estimators */\n",
       "  --sklearn-color-unfitted-level-0: #fff5e6;\n",
       "  --sklearn-color-unfitted-level-1: #f6e4d2;\n",
       "  --sklearn-color-unfitted-level-2: #ffe0b3;\n",
       "  --sklearn-color-unfitted-level-3: chocolate;\n",
       "  /* Definition of color scheme for fitted estimators */\n",
       "  --sklearn-color-fitted-level-0: #f0f8ff;\n",
       "  --sklearn-color-fitted-level-1: #d4ebff;\n",
       "  --sklearn-color-fitted-level-2: #b3dbfd;\n",
       "  --sklearn-color-fitted-level-3: cornflowerblue;\n",
       "\n",
       "  /* Specific color for light theme */\n",
       "  --sklearn-color-text-on-default-background: var(--sg-text-color, var(--theme-code-foreground, var(--jp-content-font-color1, black)));\n",
       "  --sklearn-color-background: var(--sg-background-color, var(--theme-background, var(--jp-layout-color0, white)));\n",
       "  --sklearn-color-border-box: var(--sg-text-color, var(--theme-code-foreground, var(--jp-content-font-color1, black)));\n",
       "  --sklearn-color-icon: #696969;\n",
       "\n",
       "  @media (prefers-color-scheme: dark) {\n",
       "    /* Redefinition of color scheme for dark theme */\n",
       "    --sklearn-color-text-on-default-background: var(--sg-text-color, var(--theme-code-foreground, var(--jp-content-font-color1, white)));\n",
       "    --sklearn-color-background: var(--sg-background-color, var(--theme-background, var(--jp-layout-color0, #111)));\n",
       "    --sklearn-color-border-box: var(--sg-text-color, var(--theme-code-foreground, var(--jp-content-font-color1, white)));\n",
       "    --sklearn-color-icon: #878787;\n",
       "  }\n",
       "}\n",
       "\n",
       "#sk-container-id-1 {\n",
       "  color: var(--sklearn-color-text);\n",
       "}\n",
       "\n",
       "#sk-container-id-1 pre {\n",
       "  padding: 0;\n",
       "}\n",
       "\n",
       "#sk-container-id-1 input.sk-hidden--visually {\n",
       "  border: 0;\n",
       "  clip: rect(1px 1px 1px 1px);\n",
       "  clip: rect(1px, 1px, 1px, 1px);\n",
       "  height: 1px;\n",
       "  margin: -1px;\n",
       "  overflow: hidden;\n",
       "  padding: 0;\n",
       "  position: absolute;\n",
       "  width: 1px;\n",
       "}\n",
       "\n",
       "#sk-container-id-1 div.sk-dashed-wrapped {\n",
       "  border: 1px dashed var(--sklearn-color-line);\n",
       "  margin: 0 0.4em 0.5em 0.4em;\n",
       "  box-sizing: border-box;\n",
       "  padding-bottom: 0.4em;\n",
       "  background-color: var(--sklearn-color-background);\n",
       "}\n",
       "\n",
       "#sk-container-id-1 div.sk-container {\n",
       "  /* jupyter's `normalize.less` sets `[hidden] { display: none; }`\n",
       "     but bootstrap.min.css set `[hidden] { display: none !important; }`\n",
       "     so we also need the `!important` here to be able to override the\n",
       "     default hidden behavior on the sphinx rendered scikit-learn.org.\n",
       "     See: https://github.com/scikit-learn/scikit-learn/issues/21755 */\n",
       "  display: inline-block !important;\n",
       "  position: relative;\n",
       "}\n",
       "\n",
       "#sk-container-id-1 div.sk-text-repr-fallback {\n",
       "  display: none;\n",
       "}\n",
       "\n",
       "div.sk-parallel-item,\n",
       "div.sk-serial,\n",
       "div.sk-item {\n",
       "  /* draw centered vertical line to link estimators */\n",
       "  background-image: linear-gradient(var(--sklearn-color-text-on-default-background), var(--sklearn-color-text-on-default-background));\n",
       "  background-size: 2px 100%;\n",
       "  background-repeat: no-repeat;\n",
       "  background-position: center center;\n",
       "}\n",
       "\n",
       "/* Parallel-specific style estimator block */\n",
       "\n",
       "#sk-container-id-1 div.sk-parallel-item::after {\n",
       "  content: \"\";\n",
       "  width: 100%;\n",
       "  border-bottom: 2px solid var(--sklearn-color-text-on-default-background);\n",
       "  flex-grow: 1;\n",
       "}\n",
       "\n",
       "#sk-container-id-1 div.sk-parallel {\n",
       "  display: flex;\n",
       "  align-items: stretch;\n",
       "  justify-content: center;\n",
       "  background-color: var(--sklearn-color-background);\n",
       "  position: relative;\n",
       "}\n",
       "\n",
       "#sk-container-id-1 div.sk-parallel-item {\n",
       "  display: flex;\n",
       "  flex-direction: column;\n",
       "}\n",
       "\n",
       "#sk-container-id-1 div.sk-parallel-item:first-child::after {\n",
       "  align-self: flex-end;\n",
       "  width: 50%;\n",
       "}\n",
       "\n",
       "#sk-container-id-1 div.sk-parallel-item:last-child::after {\n",
       "  align-self: flex-start;\n",
       "  width: 50%;\n",
       "}\n",
       "\n",
       "#sk-container-id-1 div.sk-parallel-item:only-child::after {\n",
       "  width: 0;\n",
       "}\n",
       "\n",
       "/* Serial-specific style estimator block */\n",
       "\n",
       "#sk-container-id-1 div.sk-serial {\n",
       "  display: flex;\n",
       "  flex-direction: column;\n",
       "  align-items: center;\n",
       "  background-color: var(--sklearn-color-background);\n",
       "  padding-right: 1em;\n",
       "  padding-left: 1em;\n",
       "}\n",
       "\n",
       "\n",
       "/* Toggleable style: style used for estimator/Pipeline/ColumnTransformer box that is\n",
       "clickable and can be expanded/collapsed.\n",
       "- Pipeline and ColumnTransformer use this feature and define the default style\n",
       "- Estimators will overwrite some part of the style using the `sk-estimator` class\n",
       "*/\n",
       "\n",
       "/* Pipeline and ColumnTransformer style (default) */\n",
       "\n",
       "#sk-container-id-1 div.sk-toggleable {\n",
       "  /* Default theme specific background. It is overwritten whether we have a\n",
       "  specific estimator or a Pipeline/ColumnTransformer */\n",
       "  background-color: var(--sklearn-color-background);\n",
       "}\n",
       "\n",
       "/* Toggleable label */\n",
       "#sk-container-id-1 label.sk-toggleable__label {\n",
       "  cursor: pointer;\n",
       "  display: block;\n",
       "  width: 100%;\n",
       "  margin-bottom: 0;\n",
       "  padding: 0.5em;\n",
       "  box-sizing: border-box;\n",
       "  text-align: center;\n",
       "}\n",
       "\n",
       "#sk-container-id-1 label.sk-toggleable__label-arrow:before {\n",
       "  /* Arrow on the left of the label */\n",
       "  content: \"▸\";\n",
       "  float: left;\n",
       "  margin-right: 0.25em;\n",
       "  color: var(--sklearn-color-icon);\n",
       "}\n",
       "\n",
       "#sk-container-id-1 label.sk-toggleable__label-arrow:hover:before {\n",
       "  color: var(--sklearn-color-text);\n",
       "}\n",
       "\n",
       "/* Toggleable content - dropdown */\n",
       "\n",
       "#sk-container-id-1 div.sk-toggleable__content {\n",
       "  max-height: 0;\n",
       "  max-width: 0;\n",
       "  overflow: hidden;\n",
       "  text-align: left;\n",
       "  /* unfitted */\n",
       "  background-color: var(--sklearn-color-unfitted-level-0);\n",
       "}\n",
       "\n",
       "#sk-container-id-1 div.sk-toggleable__content.fitted {\n",
       "  /* fitted */\n",
       "  background-color: var(--sklearn-color-fitted-level-0);\n",
       "}\n",
       "\n",
       "#sk-container-id-1 div.sk-toggleable__content pre {\n",
       "  margin: 0.2em;\n",
       "  border-radius: 0.25em;\n",
       "  color: var(--sklearn-color-text);\n",
       "  /* unfitted */\n",
       "  background-color: var(--sklearn-color-unfitted-level-0);\n",
       "}\n",
       "\n",
       "#sk-container-id-1 div.sk-toggleable__content.fitted pre {\n",
       "  /* unfitted */\n",
       "  background-color: var(--sklearn-color-fitted-level-0);\n",
       "}\n",
       "\n",
       "#sk-container-id-1 input.sk-toggleable__control:checked~div.sk-toggleable__content {\n",
       "  /* Expand drop-down */\n",
       "  max-height: 200px;\n",
       "  max-width: 100%;\n",
       "  overflow: auto;\n",
       "}\n",
       "\n",
       "#sk-container-id-1 input.sk-toggleable__control:checked~label.sk-toggleable__label-arrow:before {\n",
       "  content: \"▾\";\n",
       "}\n",
       "\n",
       "/* Pipeline/ColumnTransformer-specific style */\n",
       "\n",
       "#sk-container-id-1 div.sk-label input.sk-toggleable__control:checked~label.sk-toggleable__label {\n",
       "  color: var(--sklearn-color-text);\n",
       "  background-color: var(--sklearn-color-unfitted-level-2);\n",
       "}\n",
       "\n",
       "#sk-container-id-1 div.sk-label.fitted input.sk-toggleable__control:checked~label.sk-toggleable__label {\n",
       "  background-color: var(--sklearn-color-fitted-level-2);\n",
       "}\n",
       "\n",
       "/* Estimator-specific style */\n",
       "\n",
       "/* Colorize estimator box */\n",
       "#sk-container-id-1 div.sk-estimator input.sk-toggleable__control:checked~label.sk-toggleable__label {\n",
       "  /* unfitted */\n",
       "  background-color: var(--sklearn-color-unfitted-level-2);\n",
       "}\n",
       "\n",
       "#sk-container-id-1 div.sk-estimator.fitted input.sk-toggleable__control:checked~label.sk-toggleable__label {\n",
       "  /* fitted */\n",
       "  background-color: var(--sklearn-color-fitted-level-2);\n",
       "}\n",
       "\n",
       "#sk-container-id-1 div.sk-label label.sk-toggleable__label,\n",
       "#sk-container-id-1 div.sk-label label {\n",
       "  /* The background is the default theme color */\n",
       "  color: var(--sklearn-color-text-on-default-background);\n",
       "}\n",
       "\n",
       "/* On hover, darken the color of the background */\n",
       "#sk-container-id-1 div.sk-label:hover label.sk-toggleable__label {\n",
       "  color: var(--sklearn-color-text);\n",
       "  background-color: var(--sklearn-color-unfitted-level-2);\n",
       "}\n",
       "\n",
       "/* Label box, darken color on hover, fitted */\n",
       "#sk-container-id-1 div.sk-label.fitted:hover label.sk-toggleable__label.fitted {\n",
       "  color: var(--sklearn-color-text);\n",
       "  background-color: var(--sklearn-color-fitted-level-2);\n",
       "}\n",
       "\n",
       "/* Estimator label */\n",
       "\n",
       "#sk-container-id-1 div.sk-label label {\n",
       "  font-family: monospace;\n",
       "  font-weight: bold;\n",
       "  display: inline-block;\n",
       "  line-height: 1.2em;\n",
       "}\n",
       "\n",
       "#sk-container-id-1 div.sk-label-container {\n",
       "  text-align: center;\n",
       "}\n",
       "\n",
       "/* Estimator-specific */\n",
       "#sk-container-id-1 div.sk-estimator {\n",
       "  font-family: monospace;\n",
       "  border: 1px dotted var(--sklearn-color-border-box);\n",
       "  border-radius: 0.25em;\n",
       "  box-sizing: border-box;\n",
       "  margin-bottom: 0.5em;\n",
       "  /* unfitted */\n",
       "  background-color: var(--sklearn-color-unfitted-level-0);\n",
       "}\n",
       "\n",
       "#sk-container-id-1 div.sk-estimator.fitted {\n",
       "  /* fitted */\n",
       "  background-color: var(--sklearn-color-fitted-level-0);\n",
       "}\n",
       "\n",
       "/* on hover */\n",
       "#sk-container-id-1 div.sk-estimator:hover {\n",
       "  /* unfitted */\n",
       "  background-color: var(--sklearn-color-unfitted-level-2);\n",
       "}\n",
       "\n",
       "#sk-container-id-1 div.sk-estimator.fitted:hover {\n",
       "  /* fitted */\n",
       "  background-color: var(--sklearn-color-fitted-level-2);\n",
       "}\n",
       "\n",
       "/* Specification for estimator info (e.g. \"i\" and \"?\") */\n",
       "\n",
       "/* Common style for \"i\" and \"?\" */\n",
       "\n",
       ".sk-estimator-doc-link,\n",
       "a:link.sk-estimator-doc-link,\n",
       "a:visited.sk-estimator-doc-link {\n",
       "  float: right;\n",
       "  font-size: smaller;\n",
       "  line-height: 1em;\n",
       "  font-family: monospace;\n",
       "  background-color: var(--sklearn-color-background);\n",
       "  border-radius: 1em;\n",
       "  height: 1em;\n",
       "  width: 1em;\n",
       "  text-decoration: none !important;\n",
       "  margin-left: 1ex;\n",
       "  /* unfitted */\n",
       "  border: var(--sklearn-color-unfitted-level-1) 1pt solid;\n",
       "  color: var(--sklearn-color-unfitted-level-1);\n",
       "}\n",
       "\n",
       ".sk-estimator-doc-link.fitted,\n",
       "a:link.sk-estimator-doc-link.fitted,\n",
       "a:visited.sk-estimator-doc-link.fitted {\n",
       "  /* fitted */\n",
       "  border: var(--sklearn-color-fitted-level-1) 1pt solid;\n",
       "  color: var(--sklearn-color-fitted-level-1);\n",
       "}\n",
       "\n",
       "/* On hover */\n",
       "div.sk-estimator:hover .sk-estimator-doc-link:hover,\n",
       ".sk-estimator-doc-link:hover,\n",
       "div.sk-label-container:hover .sk-estimator-doc-link:hover,\n",
       ".sk-estimator-doc-link:hover {\n",
       "  /* unfitted */\n",
       "  background-color: var(--sklearn-color-unfitted-level-3);\n",
       "  color: var(--sklearn-color-background);\n",
       "  text-decoration: none;\n",
       "}\n",
       "\n",
       "div.sk-estimator.fitted:hover .sk-estimator-doc-link.fitted:hover,\n",
       ".sk-estimator-doc-link.fitted:hover,\n",
       "div.sk-label-container:hover .sk-estimator-doc-link.fitted:hover,\n",
       ".sk-estimator-doc-link.fitted:hover {\n",
       "  /* fitted */\n",
       "  background-color: var(--sklearn-color-fitted-level-3);\n",
       "  color: var(--sklearn-color-background);\n",
       "  text-decoration: none;\n",
       "}\n",
       "\n",
       "/* Span, style for the box shown on hovering the info icon */\n",
       ".sk-estimator-doc-link span {\n",
       "  display: none;\n",
       "  z-index: 9999;\n",
       "  position: relative;\n",
       "  font-weight: normal;\n",
       "  right: .2ex;\n",
       "  padding: .5ex;\n",
       "  margin: .5ex;\n",
       "  width: min-content;\n",
       "  min-width: 20ex;\n",
       "  max-width: 50ex;\n",
       "  color: var(--sklearn-color-text);\n",
       "  box-shadow: 2pt 2pt 4pt #999;\n",
       "  /* unfitted */\n",
       "  background: var(--sklearn-color-unfitted-level-0);\n",
       "  border: .5pt solid var(--sklearn-color-unfitted-level-3);\n",
       "}\n",
       "\n",
       ".sk-estimator-doc-link.fitted span {\n",
       "  /* fitted */\n",
       "  background: var(--sklearn-color-fitted-level-0);\n",
       "  border: var(--sklearn-color-fitted-level-3);\n",
       "}\n",
       "\n",
       ".sk-estimator-doc-link:hover span {\n",
       "  display: block;\n",
       "}\n",
       "\n",
       "/* \"?\"-specific style due to the `<a>` HTML tag */\n",
       "\n",
       "#sk-container-id-1 a.estimator_doc_link {\n",
       "  float: right;\n",
       "  font-size: 1rem;\n",
       "  line-height: 1em;\n",
       "  font-family: monospace;\n",
       "  background-color: var(--sklearn-color-background);\n",
       "  border-radius: 1rem;\n",
       "  height: 1rem;\n",
       "  width: 1rem;\n",
       "  text-decoration: none;\n",
       "  /* unfitted */\n",
       "  color: var(--sklearn-color-unfitted-level-1);\n",
       "  border: var(--sklearn-color-unfitted-level-1) 1pt solid;\n",
       "}\n",
       "\n",
       "#sk-container-id-1 a.estimator_doc_link.fitted {\n",
       "  /* fitted */\n",
       "  border: var(--sklearn-color-fitted-level-1) 1pt solid;\n",
       "  color: var(--sklearn-color-fitted-level-1);\n",
       "}\n",
       "\n",
       "/* On hover */\n",
       "#sk-container-id-1 a.estimator_doc_link:hover {\n",
       "  /* unfitted */\n",
       "  background-color: var(--sklearn-color-unfitted-level-3);\n",
       "  color: var(--sklearn-color-background);\n",
       "  text-decoration: none;\n",
       "}\n",
       "\n",
       "#sk-container-id-1 a.estimator_doc_link.fitted:hover {\n",
       "  /* fitted */\n",
       "  background-color: var(--sklearn-color-fitted-level-3);\n",
       "}\n",
       "</style><div id=\"sk-container-id-1\" class=\"sk-top-container\"><div class=\"sk-text-repr-fallback\"><pre>MLkNN(k=3)</pre><b>In a Jupyter environment, please rerun this cell to show the HTML representation or trust the notebook. <br />On GitHub, the HTML representation is unable to render, please try loading this page with nbviewer.org.</b></div><div class=\"sk-container\" hidden><div class=\"sk-item\"><div class=\"sk-estimator fitted sk-toggleable\"><input class=\"sk-toggleable__control sk-hidden--visually\" id=\"sk-estimator-id-1\" type=\"checkbox\" checked><label for=\"sk-estimator-id-1\" class=\"sk-toggleable__label fitted sk-toggleable__label-arrow fitted\">&nbsp;MLkNN<span class=\"sk-estimator-doc-link fitted\">i<span>Fitted</span></span></label><div class=\"sk-toggleable__content fitted\"><pre>MLkNN(k=3)</pre></div> </div></div></div></div>"
      ],
      "text/plain": [
       "MLkNN(k=3)"
      ]
     },
     "execution_count": 15,
     "metadata": {},
     "output_type": "execute_result"
    }
   ],
   "source": [
    "from skmultilearn.adapt import MLkNN\n",
    "\n",
    "classifier = MLkNN(k=3)\n",
    "\n",
    "# train\n",
    "classifier.fit(np.array(X_train), np.array(y_train))\n",
    "\n",
    "# predict\n",
    "#predictions = classifier.predict(np.array(X_test))"
   ]
  },
  {
   "cell_type": "code",
   "execution_count": 16,
   "id": "489e5ab2-5862-47d5-8024-c5e958d0842d",
   "metadata": {},
   "outputs": [],
   "source": [
    "predictions = classifier.predict(np.array(X_test))"
   ]
  },
  {
   "cell_type": "code",
   "execution_count": 17,
   "id": "2906a925-9639-4117-8ae4-4d87ccc56f97",
   "metadata": {},
   "outputs": [
    {
     "name": "stdout",
     "output_type": "stream",
     "text": [
      "Hamming Loss:  0.11\n"
     ]
    }
   ],
   "source": [
    "print('Hamming Loss: ', round(hamming_loss(y_test, predictions),2))"
   ]
  },
  {
   "cell_type": "code",
   "execution_count": null,
   "id": "64addc4a-b1ee-4dc9-acf1-6cba4eeecd2c",
   "metadata": {},
   "outputs": [],
   "source": []
  }
 ],
 "metadata": {
  "kernelspec": {
   "display_name": "Python 3 (ipykernel)",
   "language": "python",
   "name": "python3"
  },
  "language_info": {
   "codemirror_mode": {
    "name": "ipython",
    "version": 3
   },
   "file_extension": ".py",
   "mimetype": "text/x-python",
   "name": "python",
   "nbconvert_exporter": "python",
   "pygments_lexer": "ipython3",
   "version": "3.9.6"
  }
 },
 "nbformat": 4,
 "nbformat_minor": 5
}
