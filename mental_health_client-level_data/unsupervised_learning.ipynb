{
 "cells": [
  {
   "cell_type": "code",
   "execution_count": 1,
   "id": "546abe5c-da2b-4d91-81ec-6f7a6fbf357d",
   "metadata": {},
   "outputs": [
    {
     "name": "stdout",
     "output_type": "stream",
     "text": [
      "classifiers_mhcld.ipynb\n",
      "codebook_descriptions.pickle\n",
      "google_colab_t-sne_mental_health_client-level_data.ipynb\n",
      "mhcld_puf_2021.csv\n",
      "\u001b[34mplots\u001b[m\u001b[m\n",
      "t-sne_k-means_mhcld.ipynb\n",
      "to_do.txt\n",
      "unsupervised_learning.ipynb\n"
     ]
    }
   ],
   "source": [
    "!ls"
   ]
  },
  {
   "cell_type": "code",
   "execution_count": 2,
   "id": "d109d258-a474-45d4-a7e1-cdc90043b5a9",
   "metadata": {},
   "outputs": [],
   "source": [
    "import pandas as pd\n",
    "import numpy as np\n",
    "import seaborn as sns\n",
    "import matplotlib.pyplot as plt"
   ]
  },
  {
   "cell_type": "code",
   "execution_count": 3,
   "id": "d37eb36f-ca24-469a-b7bd-c8c7cbed0d29",
   "metadata": {},
   "outputs": [],
   "source": [
    "data = pd.read_csv(\"mhcld_puf_2021.csv\")"
   ]
  },
  {
   "cell_type": "code",
   "execution_count": 4,
   "id": "9c3964cd-388c-4a30-9473-88464991aded",
   "metadata": {},
   "outputs": [],
   "source": [
    "NUM_POINTS = 50_000\n",
    "data = data[:NUM_POINTS]"
   ]
  },
  {
   "cell_type": "code",
   "execution_count": 5,
   "id": "2045121c-ad34-4f84-8b33-52ac773afd97",
   "metadata": {},
   "outputs": [],
   "source": [
    "# Load data (deserialize)\n",
    "import pickle\n",
    "with open('codebook_descriptions.pickle', 'rb') as handle:\n",
    "    codebook_descriptions = pickle.load(handle)"
   ]
  },
  {
   "cell_type": "code",
   "execution_count": 6,
   "id": "4474ca11-56f0-4d36-b48b-700d72ebfa9b",
   "metadata": {},
   "outputs": [],
   "source": [
    "#disorder columns\n",
    "#they are all 0/1 data\n",
    "#these are dignoses for the disorders\n",
    "#there are 13 of them\n",
    "disorder_cols = ['TRAUSTREFLG','ANXIETYFLG','ADHDFLG','CONDUCTFLG','DELIRDEMFLG','BIPOLARFLG','DEPRESSFLG','ODDFLG','PDDFLG','SCHIZOFLG','PERSONFLG','ALCSUBFLG','OTHERDISFLG']"
   ]
  },
  {
   "cell_type": "code",
   "execution_count": 18,
   "id": "34fed5d6-af1a-4f75-8667-fa2bcf5f68b4",
   "metadata": {},
   "outputs": [
    {
     "data": {
      "text/plain": [
       "ANXIETYFLG  ADHDFLG  CONDUCTFLG  DELIRDEMFLG  BIPOLARFLG  DEPRESSFLG  ODDFLG  PDDFLG  SCHIZOFLG  PERSONFLG  ALCSUBFLG  OTHERDISFLG\n",
       "0           0        0           0            0           1           0       0       0          0          0          0              9194\n",
       "                                                          0           0       0       1          0          0          0              7142\n",
       "            1        0           0            0           0           0       0       0          0          0          0              3856\n",
       "            0        0           0            1           0           0       0       0          0          0          0              3702\n",
       "1           0        0           0            0           1           0       0       0          0          0          0              3351\n",
       "                                                          0           0       0       0          0          0          0              2728\n",
       "0           0        0           0            0           0           0       0       0          0          0          1              2264\n",
       "            1        0           0            0           0           1       0       0          0          0          0               872\n",
       "1           0        0           0            1           0           0       0       0          0          0          0               859\n",
       "0           1        0           0            0           0           0       0       0          0          0          1               604\n",
       "            0        0           0            0           0           1       0       0          0          0          0               509\n",
       "                                                                      0       0       1          0          0          1               473\n",
       "                                                          1           0       0       0          1          0          0               426\n",
       "1           1        0           0            0           0           0       0       0          0          0          0               422\n",
       "0           0        1           0            0           0           0       0       0          0          0          0               416\n",
       "1           0        0           0            0           0           0       0       1          0          0          0               392\n",
       "dtype: int64"
      ]
     },
     "execution_count": 18,
     "metadata": {},
     "output_type": "execute_result"
    }
   ],
   "source": [
    "data[disorder_cols].value_counts()[0].head(16)"
   ]
  },
  {
   "cell_type": "code",
   "execution_count": 7,
   "id": "425393f2-d70d-459e-8186-ed92bf6a30ab",
   "metadata": {},
   "outputs": [],
   "source": [
    "#generate labels using k-means\n",
    "from sklearn.cluster import KMeans"
   ]
  },
  {
   "cell_type": "code",
   "execution_count": 60,
   "id": "1a019745-f0a3-49fa-9060-86090942cfb7",
   "metadata": {},
   "outputs": [],
   "source": [
    "#perform the elbow method\n",
    "inertia = []\n",
    "for k in range(3,20):\n",
    "    kmeans = KMeans(n_clusters=k, init='k-means++', max_iter=300, random_state=0, n_init=10)\n",
    "    kmeans.fit(data[disorder_cols])\n",
    "    label_df = pd.DataFrame(kmeans.labels_,columns=['label'])\n",
    "    inertia.append((k,kmeans.inertia_))"
   ]
  },
  {
   "cell_type": "code",
   "execution_count": 8,
   "id": "5859cf39-6446-46c1-b688-c44896ef12a2",
   "metadata": {},
   "outputs": [
    {
     "ename": "NameError",
     "evalue": "name 'inertia' is not defined",
     "output_type": "error",
     "traceback": [
      "\u001b[0;31m---------------------------------------------------------------------------\u001b[0m",
      "\u001b[0;31mNameError\u001b[0m                                 Traceback (most recent call last)",
      "Cell \u001b[0;32mIn[8], line 1\u001b[0m\n\u001b[0;32m----> 1\u001b[0m plt\u001b[38;5;241m.\u001b[39mscatter(np\u001b[38;5;241m.\u001b[39marray(\u001b[43minertia\u001b[49m)[:,\u001b[38;5;241m0\u001b[39m],np\u001b[38;5;241m.\u001b[39marray(inertia)[:,\u001b[38;5;241m1\u001b[39m])\n\u001b[1;32m      2\u001b[0m plt\u001b[38;5;241m.\u001b[39mshow()\n",
      "\u001b[0;31mNameError\u001b[0m: name 'inertia' is not defined"
     ]
    }
   ],
   "source": [
    "plt.scatter(np.array(inertia)[:,0],np.array(inertia)[:,1])\n",
    "plt.show()"
   ]
  },
  {
   "cell_type": "code",
   "execution_count": 10,
   "id": "8fdd4125-4984-43d2-87c7-ffc62c88dc56",
   "metadata": {},
   "outputs": [],
   "source": [
    "NUM_CLUSTERS_ELBOW = 10"
   ]
  },
  {
   "cell_type": "code",
   "execution_count": 11,
   "id": "1fcc983f-0b6a-4b2e-8226-c828c8cb28c3",
   "metadata": {},
   "outputs": [],
   "source": [
    "#somewhere between 7-10\n",
    "kmeans = KMeans(n_clusters=NUM_CLUSTERS_ELBOW, init='k-means++', max_iter=300, random_state=0, n_init=10)\n",
    "kmeans.fit(data[disorder_cols])\n",
    "label_df = pd.DataFrame(kmeans.labels_,columns=['label'])"
   ]
  },
  {
   "cell_type": "code",
   "execution_count": 28,
   "id": "16cb20f0-c397-4097-8c74-490153ea8a24",
   "metadata": {},
   "outputs": [],
   "source": [
    "#perform hierarchical agglomerative clustering\n",
    "from sklearn.cluster import AgglomerativeClustering\n",
    "agg = AgglomerativeClustering(n_clusters=10, metric='euclidean', linkage='ward')\n",
    "agg.fit(data[disorder_cols])\n",
    "agg_label_df = pd.DataFrame(agg.labels_,columns=['label'])"
   ]
  },
  {
   "cell_type": "code",
   "execution_count": 84,
   "id": "1ec8fe67-1bdf-4b28-a290-0250df9f07f8",
   "metadata": {},
   "outputs": [],
   "source": [
    "NUM_CLUSTERS_AGG = 10"
   ]
  },
  {
   "cell_type": "code",
   "execution_count": 19,
   "id": "330f5bce-71d2-4774-b5a2-a4d73c331ad4",
   "metadata": {},
   "outputs": [],
   "source": [
    "#use DBSCAN\n",
    "from sklearn.cluster import DBSCAN\n",
    "db = DBSCAN(eps=.1, min_samples=2, metric='euclidean')\n",
    "db = db.fit(data[disorder_cols])\n",
    "db_label_df = pd.DataFrame(db.labels_,columns=['label'])"
   ]
  },
  {
   "cell_type": "code",
   "execution_count": 20,
   "id": "b9a3118c-f0da-45ac-ae4e-c22ff34df062",
   "metadata": {},
   "outputs": [],
   "source": [
    "NUM_CLUSTERS_DB = len(set(db_label_df['label']))"
   ]
  },
  {
   "cell_type": "code",
   "execution_count": 67,
   "id": "9a90473b-ab5b-49c7-bfdb-ffdc4aa52f78",
   "metadata": {},
   "outputs": [
    {
     "data": {
      "text/plain": [
       "'Other mental disorder reported'"
      ]
     },
     "execution_count": 67,
     "metadata": {},
     "output_type": "execute_result"
    }
   ],
   "source": [
    "codebook_descriptions['OTHERDISFLG']"
   ]
  },
  {
   "cell_type": "code",
   "execution_count": 37,
   "id": "f5dbda50-fefa-4e39-b25a-12bcfbdb43d2",
   "metadata": {},
   "outputs": [
    {
     "data": {
      "text/plain": [
       "label\n",
       "0        9194\n",
       "1        7142\n",
       "23       3856\n",
       "16       3702\n",
       "18       3417\n",
       "9        3351\n",
       "20       2728\n",
       "2        2264\n",
       "34       1074\n",
       "19        872\n",
       "dtype: int64"
      ]
     },
     "execution_count": 37,
     "metadata": {},
     "output_type": "execute_result"
    }
   ],
   "source": [
    "db_label_df.value_counts()[:10]"
   ]
  },
  {
   "cell_type": "code",
   "execution_count": 71,
   "id": "cddeef17-8c3b-4e86-bbe0-974c3e29ce04",
   "metadata": {},
   "outputs": [
    {
     "data": {
      "text/plain": [
       "label\n",
       "19       0.01744\n",
       "dtype: float64"
      ]
     },
     "execution_count": 71,
     "metadata": {},
     "output_type": "execute_result"
    }
   ],
   "source": [
    "db_label_df.value_counts().loc[19]/len(db_label_df)"
   ]
  },
  {
   "cell_type": "code",
   "execution_count": 70,
   "id": "e1a1c6bf-915d-48a9-addd-1f2e15a13834",
   "metadata": {},
   "outputs": [
    {
     "data": {
      "text/plain": [
       "label          19\n",
       "TRAUSTREFLG     0\n",
       "ANXIETYFLG      0\n",
       "ADHDFLG         1\n",
       "CONDUCTFLG      0\n",
       "DELIRDEMFLG     0\n",
       "BIPOLARFLG      0\n",
       "DEPRESSFLG      0\n",
       "ODDFLG          1\n",
       "PDDFLG          0\n",
       "SCHIZOFLG       0\n",
       "PERSONFLG       0\n",
       "ALCSUBFLG       0\n",
       "OTHERDISFLG     0\n",
       "Name: 28, dtype: int64"
      ]
     },
     "execution_count": 70,
     "metadata": {},
     "output_type": "execute_result"
    }
   ],
   "source": [
    "data_labeled[data_labeled['label']==19].iloc[0]"
   ]
  },
  {
   "cell_type": "code",
   "execution_count": 110,
   "id": "51bb07e9-9937-490b-9b6a-c5e461f422fa",
   "metadata": {},
   "outputs": [
    {
     "data": {
      "text/html": [
       "<style>#sk-container-id-3 {\n",
       "  /* Definition of color scheme common for light and dark mode */\n",
       "  --sklearn-color-text: black;\n",
       "  --sklearn-color-line: gray;\n",
       "  /* Definition of color scheme for unfitted estimators */\n",
       "  --sklearn-color-unfitted-level-0: #fff5e6;\n",
       "  --sklearn-color-unfitted-level-1: #f6e4d2;\n",
       "  --sklearn-color-unfitted-level-2: #ffe0b3;\n",
       "  --sklearn-color-unfitted-level-3: chocolate;\n",
       "  /* Definition of color scheme for fitted estimators */\n",
       "  --sklearn-color-fitted-level-0: #f0f8ff;\n",
       "  --sklearn-color-fitted-level-1: #d4ebff;\n",
       "  --sklearn-color-fitted-level-2: #b3dbfd;\n",
       "  --sklearn-color-fitted-level-3: cornflowerblue;\n",
       "\n",
       "  /* Specific color for light theme */\n",
       "  --sklearn-color-text-on-default-background: var(--sg-text-color, var(--theme-code-foreground, var(--jp-content-font-color1, black)));\n",
       "  --sklearn-color-background: var(--sg-background-color, var(--theme-background, var(--jp-layout-color0, white)));\n",
       "  --sklearn-color-border-box: var(--sg-text-color, var(--theme-code-foreground, var(--jp-content-font-color1, black)));\n",
       "  --sklearn-color-icon: #696969;\n",
       "\n",
       "  @media (prefers-color-scheme: dark) {\n",
       "    /* Redefinition of color scheme for dark theme */\n",
       "    --sklearn-color-text-on-default-background: var(--sg-text-color, var(--theme-code-foreground, var(--jp-content-font-color1, white)));\n",
       "    --sklearn-color-background: var(--sg-background-color, var(--theme-background, var(--jp-layout-color0, #111)));\n",
       "    --sklearn-color-border-box: var(--sg-text-color, var(--theme-code-foreground, var(--jp-content-font-color1, white)));\n",
       "    --sklearn-color-icon: #878787;\n",
       "  }\n",
       "}\n",
       "\n",
       "#sk-container-id-3 {\n",
       "  color: var(--sklearn-color-text);\n",
       "}\n",
       "\n",
       "#sk-container-id-3 pre {\n",
       "  padding: 0;\n",
       "}\n",
       "\n",
       "#sk-container-id-3 input.sk-hidden--visually {\n",
       "  border: 0;\n",
       "  clip: rect(1px 1px 1px 1px);\n",
       "  clip: rect(1px, 1px, 1px, 1px);\n",
       "  height: 1px;\n",
       "  margin: -1px;\n",
       "  overflow: hidden;\n",
       "  padding: 0;\n",
       "  position: absolute;\n",
       "  width: 1px;\n",
       "}\n",
       "\n",
       "#sk-container-id-3 div.sk-dashed-wrapped {\n",
       "  border: 1px dashed var(--sklearn-color-line);\n",
       "  margin: 0 0.4em 0.5em 0.4em;\n",
       "  box-sizing: border-box;\n",
       "  padding-bottom: 0.4em;\n",
       "  background-color: var(--sklearn-color-background);\n",
       "}\n",
       "\n",
       "#sk-container-id-3 div.sk-container {\n",
       "  /* jupyter's `normalize.less` sets `[hidden] { display: none; }`\n",
       "     but bootstrap.min.css set `[hidden] { display: none !important; }`\n",
       "     so we also need the `!important` here to be able to override the\n",
       "     default hidden behavior on the sphinx rendered scikit-learn.org.\n",
       "     See: https://github.com/scikit-learn/scikit-learn/issues/21755 */\n",
       "  display: inline-block !important;\n",
       "  position: relative;\n",
       "}\n",
       "\n",
       "#sk-container-id-3 div.sk-text-repr-fallback {\n",
       "  display: none;\n",
       "}\n",
       "\n",
       "div.sk-parallel-item,\n",
       "div.sk-serial,\n",
       "div.sk-item {\n",
       "  /* draw centered vertical line to link estimators */\n",
       "  background-image: linear-gradient(var(--sklearn-color-text-on-default-background), var(--sklearn-color-text-on-default-background));\n",
       "  background-size: 2px 100%;\n",
       "  background-repeat: no-repeat;\n",
       "  background-position: center center;\n",
       "}\n",
       "\n",
       "/* Parallel-specific style estimator block */\n",
       "\n",
       "#sk-container-id-3 div.sk-parallel-item::after {\n",
       "  content: \"\";\n",
       "  width: 100%;\n",
       "  border-bottom: 2px solid var(--sklearn-color-text-on-default-background);\n",
       "  flex-grow: 1;\n",
       "}\n",
       "\n",
       "#sk-container-id-3 div.sk-parallel {\n",
       "  display: flex;\n",
       "  align-items: stretch;\n",
       "  justify-content: center;\n",
       "  background-color: var(--sklearn-color-background);\n",
       "  position: relative;\n",
       "}\n",
       "\n",
       "#sk-container-id-3 div.sk-parallel-item {\n",
       "  display: flex;\n",
       "  flex-direction: column;\n",
       "}\n",
       "\n",
       "#sk-container-id-3 div.sk-parallel-item:first-child::after {\n",
       "  align-self: flex-end;\n",
       "  width: 50%;\n",
       "}\n",
       "\n",
       "#sk-container-id-3 div.sk-parallel-item:last-child::after {\n",
       "  align-self: flex-start;\n",
       "  width: 50%;\n",
       "}\n",
       "\n",
       "#sk-container-id-3 div.sk-parallel-item:only-child::after {\n",
       "  width: 0;\n",
       "}\n",
       "\n",
       "/* Serial-specific style estimator block */\n",
       "\n",
       "#sk-container-id-3 div.sk-serial {\n",
       "  display: flex;\n",
       "  flex-direction: column;\n",
       "  align-items: center;\n",
       "  background-color: var(--sklearn-color-background);\n",
       "  padding-right: 1em;\n",
       "  padding-left: 1em;\n",
       "}\n",
       "\n",
       "\n",
       "/* Toggleable style: style used for estimator/Pipeline/ColumnTransformer box that is\n",
       "clickable and can be expanded/collapsed.\n",
       "- Pipeline and ColumnTransformer use this feature and define the default style\n",
       "- Estimators will overwrite some part of the style using the `sk-estimator` class\n",
       "*/\n",
       "\n",
       "/* Pipeline and ColumnTransformer style (default) */\n",
       "\n",
       "#sk-container-id-3 div.sk-toggleable {\n",
       "  /* Default theme specific background. It is overwritten whether we have a\n",
       "  specific estimator or a Pipeline/ColumnTransformer */\n",
       "  background-color: var(--sklearn-color-background);\n",
       "}\n",
       "\n",
       "/* Toggleable label */\n",
       "#sk-container-id-3 label.sk-toggleable__label {\n",
       "  cursor: pointer;\n",
       "  display: block;\n",
       "  width: 100%;\n",
       "  margin-bottom: 0;\n",
       "  padding: 0.5em;\n",
       "  box-sizing: border-box;\n",
       "  text-align: center;\n",
       "}\n",
       "\n",
       "#sk-container-id-3 label.sk-toggleable__label-arrow:before {\n",
       "  /* Arrow on the left of the label */\n",
       "  content: \"▸\";\n",
       "  float: left;\n",
       "  margin-right: 0.25em;\n",
       "  color: var(--sklearn-color-icon);\n",
       "}\n",
       "\n",
       "#sk-container-id-3 label.sk-toggleable__label-arrow:hover:before {\n",
       "  color: var(--sklearn-color-text);\n",
       "}\n",
       "\n",
       "/* Toggleable content - dropdown */\n",
       "\n",
       "#sk-container-id-3 div.sk-toggleable__content {\n",
       "  max-height: 0;\n",
       "  max-width: 0;\n",
       "  overflow: hidden;\n",
       "  text-align: left;\n",
       "  /* unfitted */\n",
       "  background-color: var(--sklearn-color-unfitted-level-0);\n",
       "}\n",
       "\n",
       "#sk-container-id-3 div.sk-toggleable__content.fitted {\n",
       "  /* fitted */\n",
       "  background-color: var(--sklearn-color-fitted-level-0);\n",
       "}\n",
       "\n",
       "#sk-container-id-3 div.sk-toggleable__content pre {\n",
       "  margin: 0.2em;\n",
       "  border-radius: 0.25em;\n",
       "  color: var(--sklearn-color-text);\n",
       "  /* unfitted */\n",
       "  background-color: var(--sklearn-color-unfitted-level-0);\n",
       "}\n",
       "\n",
       "#sk-container-id-3 div.sk-toggleable__content.fitted pre {\n",
       "  /* unfitted */\n",
       "  background-color: var(--sklearn-color-fitted-level-0);\n",
       "}\n",
       "\n",
       "#sk-container-id-3 input.sk-toggleable__control:checked~div.sk-toggleable__content {\n",
       "  /* Expand drop-down */\n",
       "  max-height: 200px;\n",
       "  max-width: 100%;\n",
       "  overflow: auto;\n",
       "}\n",
       "\n",
       "#sk-container-id-3 input.sk-toggleable__control:checked~label.sk-toggleable__label-arrow:before {\n",
       "  content: \"▾\";\n",
       "}\n",
       "\n",
       "/* Pipeline/ColumnTransformer-specific style */\n",
       "\n",
       "#sk-container-id-3 div.sk-label input.sk-toggleable__control:checked~label.sk-toggleable__label {\n",
       "  color: var(--sklearn-color-text);\n",
       "  background-color: var(--sklearn-color-unfitted-level-2);\n",
       "}\n",
       "\n",
       "#sk-container-id-3 div.sk-label.fitted input.sk-toggleable__control:checked~label.sk-toggleable__label {\n",
       "  background-color: var(--sklearn-color-fitted-level-2);\n",
       "}\n",
       "\n",
       "/* Estimator-specific style */\n",
       "\n",
       "/* Colorize estimator box */\n",
       "#sk-container-id-3 div.sk-estimator input.sk-toggleable__control:checked~label.sk-toggleable__label {\n",
       "  /* unfitted */\n",
       "  background-color: var(--sklearn-color-unfitted-level-2);\n",
       "}\n",
       "\n",
       "#sk-container-id-3 div.sk-estimator.fitted input.sk-toggleable__control:checked~label.sk-toggleable__label {\n",
       "  /* fitted */\n",
       "  background-color: var(--sklearn-color-fitted-level-2);\n",
       "}\n",
       "\n",
       "#sk-container-id-3 div.sk-label label.sk-toggleable__label,\n",
       "#sk-container-id-3 div.sk-label label {\n",
       "  /* The background is the default theme color */\n",
       "  color: var(--sklearn-color-text-on-default-background);\n",
       "}\n",
       "\n",
       "/* On hover, darken the color of the background */\n",
       "#sk-container-id-3 div.sk-label:hover label.sk-toggleable__label {\n",
       "  color: var(--sklearn-color-text);\n",
       "  background-color: var(--sklearn-color-unfitted-level-2);\n",
       "}\n",
       "\n",
       "/* Label box, darken color on hover, fitted */\n",
       "#sk-container-id-3 div.sk-label.fitted:hover label.sk-toggleable__label.fitted {\n",
       "  color: var(--sklearn-color-text);\n",
       "  background-color: var(--sklearn-color-fitted-level-2);\n",
       "}\n",
       "\n",
       "/* Estimator label */\n",
       "\n",
       "#sk-container-id-3 div.sk-label label {\n",
       "  font-family: monospace;\n",
       "  font-weight: bold;\n",
       "  display: inline-block;\n",
       "  line-height: 1.2em;\n",
       "}\n",
       "\n",
       "#sk-container-id-3 div.sk-label-container {\n",
       "  text-align: center;\n",
       "}\n",
       "\n",
       "/* Estimator-specific */\n",
       "#sk-container-id-3 div.sk-estimator {\n",
       "  font-family: monospace;\n",
       "  border: 1px dotted var(--sklearn-color-border-box);\n",
       "  border-radius: 0.25em;\n",
       "  box-sizing: border-box;\n",
       "  margin-bottom: 0.5em;\n",
       "  /* unfitted */\n",
       "  background-color: var(--sklearn-color-unfitted-level-0);\n",
       "}\n",
       "\n",
       "#sk-container-id-3 div.sk-estimator.fitted {\n",
       "  /* fitted */\n",
       "  background-color: var(--sklearn-color-fitted-level-0);\n",
       "}\n",
       "\n",
       "/* on hover */\n",
       "#sk-container-id-3 div.sk-estimator:hover {\n",
       "  /* unfitted */\n",
       "  background-color: var(--sklearn-color-unfitted-level-2);\n",
       "}\n",
       "\n",
       "#sk-container-id-3 div.sk-estimator.fitted:hover {\n",
       "  /* fitted */\n",
       "  background-color: var(--sklearn-color-fitted-level-2);\n",
       "}\n",
       "\n",
       "/* Specification for estimator info (e.g. \"i\" and \"?\") */\n",
       "\n",
       "/* Common style for \"i\" and \"?\" */\n",
       "\n",
       ".sk-estimator-doc-link,\n",
       "a:link.sk-estimator-doc-link,\n",
       "a:visited.sk-estimator-doc-link {\n",
       "  float: right;\n",
       "  font-size: smaller;\n",
       "  line-height: 1em;\n",
       "  font-family: monospace;\n",
       "  background-color: var(--sklearn-color-background);\n",
       "  border-radius: 1em;\n",
       "  height: 1em;\n",
       "  width: 1em;\n",
       "  text-decoration: none !important;\n",
       "  margin-left: 1ex;\n",
       "  /* unfitted */\n",
       "  border: var(--sklearn-color-unfitted-level-1) 1pt solid;\n",
       "  color: var(--sklearn-color-unfitted-level-1);\n",
       "}\n",
       "\n",
       ".sk-estimator-doc-link.fitted,\n",
       "a:link.sk-estimator-doc-link.fitted,\n",
       "a:visited.sk-estimator-doc-link.fitted {\n",
       "  /* fitted */\n",
       "  border: var(--sklearn-color-fitted-level-1) 1pt solid;\n",
       "  color: var(--sklearn-color-fitted-level-1);\n",
       "}\n",
       "\n",
       "/* On hover */\n",
       "div.sk-estimator:hover .sk-estimator-doc-link:hover,\n",
       ".sk-estimator-doc-link:hover,\n",
       "div.sk-label-container:hover .sk-estimator-doc-link:hover,\n",
       ".sk-estimator-doc-link:hover {\n",
       "  /* unfitted */\n",
       "  background-color: var(--sklearn-color-unfitted-level-3);\n",
       "  color: var(--sklearn-color-background);\n",
       "  text-decoration: none;\n",
       "}\n",
       "\n",
       "div.sk-estimator.fitted:hover .sk-estimator-doc-link.fitted:hover,\n",
       ".sk-estimator-doc-link.fitted:hover,\n",
       "div.sk-label-container:hover .sk-estimator-doc-link.fitted:hover,\n",
       ".sk-estimator-doc-link.fitted:hover {\n",
       "  /* fitted */\n",
       "  background-color: var(--sklearn-color-fitted-level-3);\n",
       "  color: var(--sklearn-color-background);\n",
       "  text-decoration: none;\n",
       "}\n",
       "\n",
       "/* Span, style for the box shown on hovering the info icon */\n",
       ".sk-estimator-doc-link span {\n",
       "  display: none;\n",
       "  z-index: 9999;\n",
       "  position: relative;\n",
       "  font-weight: normal;\n",
       "  right: .2ex;\n",
       "  padding: .5ex;\n",
       "  margin: .5ex;\n",
       "  width: min-content;\n",
       "  min-width: 20ex;\n",
       "  max-width: 50ex;\n",
       "  color: var(--sklearn-color-text);\n",
       "  box-shadow: 2pt 2pt 4pt #999;\n",
       "  /* unfitted */\n",
       "  background: var(--sklearn-color-unfitted-level-0);\n",
       "  border: .5pt solid var(--sklearn-color-unfitted-level-3);\n",
       "}\n",
       "\n",
       ".sk-estimator-doc-link.fitted span {\n",
       "  /* fitted */\n",
       "  background: var(--sklearn-color-fitted-level-0);\n",
       "  border: var(--sklearn-color-fitted-level-3);\n",
       "}\n",
       "\n",
       ".sk-estimator-doc-link:hover span {\n",
       "  display: block;\n",
       "}\n",
       "\n",
       "/* \"?\"-specific style due to the `<a>` HTML tag */\n",
       "\n",
       "#sk-container-id-3 a.estimator_doc_link {\n",
       "  float: right;\n",
       "  font-size: 1rem;\n",
       "  line-height: 1em;\n",
       "  font-family: monospace;\n",
       "  background-color: var(--sklearn-color-background);\n",
       "  border-radius: 1rem;\n",
       "  height: 1rem;\n",
       "  width: 1rem;\n",
       "  text-decoration: none;\n",
       "  /* unfitted */\n",
       "  color: var(--sklearn-color-unfitted-level-1);\n",
       "  border: var(--sklearn-color-unfitted-level-1) 1pt solid;\n",
       "}\n",
       "\n",
       "#sk-container-id-3 a.estimator_doc_link.fitted {\n",
       "  /* fitted */\n",
       "  border: var(--sklearn-color-fitted-level-1) 1pt solid;\n",
       "  color: var(--sklearn-color-fitted-level-1);\n",
       "}\n",
       "\n",
       "/* On hover */\n",
       "#sk-container-id-3 a.estimator_doc_link:hover {\n",
       "  /* unfitted */\n",
       "  background-color: var(--sklearn-color-unfitted-level-3);\n",
       "  color: var(--sklearn-color-background);\n",
       "  text-decoration: none;\n",
       "}\n",
       "\n",
       "#sk-container-id-3 a.estimator_doc_link.fitted:hover {\n",
       "  /* fitted */\n",
       "  background-color: var(--sklearn-color-fitted-level-3);\n",
       "}\n",
       "</style><div id=\"sk-container-id-3\" class=\"sk-top-container\"><div class=\"sk-text-repr-fallback\"><pre>MeanShift(bandwidth=0.1)</pre><b>In a Jupyter environment, please rerun this cell to show the HTML representation or trust the notebook. <br />On GitHub, the HTML representation is unable to render, please try loading this page with nbviewer.org.</b></div><div class=\"sk-container\" hidden><div class=\"sk-item\"><div class=\"sk-estimator fitted sk-toggleable\"><input class=\"sk-toggleable__control sk-hidden--visually\" id=\"sk-estimator-id-3\" type=\"checkbox\" checked><label for=\"sk-estimator-id-3\" class=\"sk-toggleable__label fitted sk-toggleable__label-arrow fitted\">&nbsp;&nbsp;MeanShift<a class=\"sk-estimator-doc-link fitted\" rel=\"noreferrer\" target=\"_blank\" href=\"https://scikit-learn.org/1.4/modules/generated/sklearn.cluster.MeanShift.html\">?<span>Documentation for MeanShift</span></a><span class=\"sk-estimator-doc-link fitted\">i<span>Fitted</span></span></label><div class=\"sk-toggleable__content fitted\"><pre>MeanShift(bandwidth=0.1)</pre></div> </div></div></div></div>"
      ],
      "text/plain": [
       "MeanShift(bandwidth=0.1)"
      ]
     },
     "execution_count": 110,
     "metadata": {},
     "output_type": "execute_result"
    }
   ],
   "source": [
    "#meanshift\n",
    "from sklearn.cluster import MeanShift\n",
    "ms = MeanShift(bandwidth=.1)\n",
    "ms.fit(data[disorder_cols])"
   ]
  },
  {
   "cell_type": "code",
   "execution_count": 111,
   "id": "5175cb95-362f-452a-a590-e3712a7fb05b",
   "metadata": {},
   "outputs": [],
   "source": [
    "ms_label_df = pd.DataFrame(ms.labels_,columns=['label'])"
   ]
  },
  {
   "cell_type": "code",
   "execution_count": 112,
   "id": "ecc2b44f-624e-4455-a739-dfb422fe9555",
   "metadata": {},
   "outputs": [
    {
     "data": {
      "text/plain": [
       "label\n",
       "0        1829\n",
       "1        1463\n",
       "2         810\n",
       "3         739\n",
       "4         677\n",
       "         ... \n",
       "134         1\n",
       "135         1\n",
       "136         1\n",
       "138         1\n",
       "159         1\n",
       "Length: 160, dtype: int64"
      ]
     },
     "execution_count": 112,
     "metadata": {},
     "output_type": "execute_result"
    }
   ],
   "source": [
    "ms_label_df.value_counts()"
   ]
  },
  {
   "cell_type": "code",
   "execution_count": 15,
   "id": "25fdb6ff-b720-410e-a582-66d1b4c97074",
   "metadata": {},
   "outputs": [],
   "source": [
    "#perform t-SNE\n",
    "from sklearn.manifold import TSNE"
   ]
  },
  {
   "cell_type": "code",
   "execution_count": 16,
   "id": "d4436c22-5dbb-4d0a-b4f9-b7d5999466de",
   "metadata": {},
   "outputs": [],
   "source": [
    "tsne = TSNE(n_components=2, verbose=1, perplexity=100, n_iter=300)"
   ]
  },
  {
   "cell_type": "code",
   "execution_count": 17,
   "id": "464d51f5-1402-45a3-850e-05e24666ba75",
   "metadata": {},
   "outputs": [
    {
     "name": "stdout",
     "output_type": "stream",
     "text": [
      "[t-SNE] Computing 301 nearest neighbors...\n",
      "[t-SNE] Indexed 10000 samples in 0.009s...\n",
      "[t-SNE] Computed neighbors for 10000 samples in 0.888s...\n",
      "[t-SNE] Computed conditional probabilities for sample 1000 / 10000\n",
      "[t-SNE] Computed conditional probabilities for sample 2000 / 10000\n",
      "[t-SNE] Computed conditional probabilities for sample 3000 / 10000\n",
      "[t-SNE] Computed conditional probabilities for sample 4000 / 10000\n",
      "[t-SNE] Computed conditional probabilities for sample 5000 / 10000\n",
      "[t-SNE] Computed conditional probabilities for sample 6000 / 10000\n",
      "[t-SNE] Computed conditional probabilities for sample 7000 / 10000\n",
      "[t-SNE] Computed conditional probabilities for sample 8000 / 10000\n",
      "[t-SNE] Computed conditional probabilities for sample 9000 / 10000\n",
      "[t-SNE] Computed conditional probabilities for sample 10000 / 10000\n",
      "[t-SNE] Mean sigma: 0.000000\n",
      "[t-SNE] KL divergence after 250 iterations with early exaggeration: 42.580772\n",
      "[t-SNE] KL divergence after 300 iterations: 0.643253\n"
     ]
    }
   ],
   "source": [
    "tsne_results = tsne.fit_transform(data[disorder_cols])"
   ]
  },
  {
   "cell_type": "code",
   "execution_count": 18,
   "id": "b59e12cf-3c1d-4fae-889c-eaab3a304b2a",
   "metadata": {},
   "outputs": [],
   "source": [
    "tsne_df = pd.DataFrame(columns=['tsne-2d-one','tsne-2d-two'])\n",
    "tsne_df['tsne-2d-one'] = tsne_results[:,0]\n",
    "tsne_df['tsne-2d-two'] = tsne_results[:,1]"
   ]
  },
  {
   "cell_type": "code",
   "execution_count": 19,
   "id": "7cf23b6f-3f8c-4eff-9f9c-7cb4663d1795",
   "metadata": {},
   "outputs": [
    {
     "data": {
      "text/plain": [
       "(10000, 2)"
      ]
     },
     "execution_count": 19,
     "metadata": {},
     "output_type": "execute_result"
    }
   ],
   "source": [
    "tsne_df.shape"
   ]
  },
  {
   "cell_type": "code",
   "execution_count": 78,
   "id": "774dac33-3df0-42ce-950c-d95ffc6b2ef0",
   "metadata": {},
   "outputs": [],
   "source": [
    "tsne_results_labeled = db_label_df.merge(tsne_df, left_index=True, right_index=True)"
   ]
  },
  {
   "cell_type": "code",
   "execution_count": 22,
   "id": "6943dd52-5565-49bc-8360-180dfb594246",
   "metadata": {},
   "outputs": [],
   "source": [
    "data_labeled = db_label_df.merge(data[disorder_cols], left_index=True, right_index=True)"
   ]
  },
  {
   "cell_type": "code",
   "execution_count": 98,
   "id": "6f18941d-9108-4acc-b29e-28c4a68de546",
   "metadata": {},
   "outputs": [
    {
     "data": {
      "text/plain": [
       "(-20.0, 20.0)"
      ]
     },
     "execution_count": 98,
     "metadata": {},
     "output_type": "execute_result"
    },
    {
     "data": {
      "image/png": "[encoded data removed]",
      "text/plain": [
       "<Figure size 1600x1000 with 1 Axes>"
      ]
     },
     "metadata": {},
     "output_type": "display_data"
    }
   ],
   "source": [
    "#plot the t-SNE results with diagnostic labels\n",
    "plt.figure(figsize=(16,10))\n",
    "plot = sns.scatterplot(\n",
    "    x=\"tsne-2d-one\", y=\"tsne-2d-two\",\n",
    "    hue=\"label\",\n",
    "    palette=sns.color_palette(\"hls\", NUM_CLUSTERS_DB),\n",
    "    data=tsne_results_labeled,\n",
    "    legend=False,\n",
    "    alpha=0.3\n",
    ")\n",
    "plot.set(title='t-SNE plot with k-means labeling on disorder data only')\n",
    "plt.xlim(-20,20)\n",
    "plt.ylim(-20,20)"
   ]
  },
  {
   "cell_type": "code",
   "execution_count": 72,
   "id": "780f1bd5-2ad5-41c4-94ab-f5d37a640297",
   "metadata": {},
   "outputs": [],
   "source": [
    "#apply elbow method by keeping list kmeans.inertia_ and plotting\n",
    "#can also try silhouette coefficient, sklearn.metrics.silhouette_score"
   ]
  },
  {
   "cell_type": "code",
   "execution_count": 99,
   "id": "1ce4b408-0b67-4817-9a12-bbdb586370a4",
   "metadata": {},
   "outputs": [],
   "source": [
    "fig = plot.get_figure()\n",
    "fig.savefig(\"./plots/tsne-plot_db-scan_data-points=50k_disorder-data-only.png\")"
   ]
  },
  {
   "cell_type": "code",
   "execution_count": null,
   "id": "65a79029-5b5c-4e40-8405-e0048affb405",
   "metadata": {},
   "outputs": [],
   "source": []
  }
 ],
 "metadata": {
  "kernelspec": {
   "display_name": "Python 3 (ipykernel)",
   "language": "python",
   "name": "python3"
  },
  "language_info": {
   "codemirror_mode": {
    "name": "ipython",
    "version": 3
   },
   "file_extension": ".py",
   "mimetype": "text/x-python",
   "name": "python",
   "nbconvert_exporter": "python",
   "pygments_lexer": "ipython3",
   "version": "3.9.6"
  }
 },
 "nbformat": 4,
 "nbformat_minor": 5
}
