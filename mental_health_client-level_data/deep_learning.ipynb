{
 "cells": [
  {
   "cell_type": "code",
   "execution_count": 1,
   "id": "b9043752-701e-475a-b182-f1e72026f92c",
   "metadata": {},
   "outputs": [
    {
     "name": "stdout",
     "output_type": "stream",
     "text": [
      "classifiers_mhcld.ipynb\n",
      "codebook_descriptions.pickle\n",
      "deep_learning.ipynb\n",
      "google_colab_t-sne_mental_health_client-level_data.ipynb\n",
      "mhcld_puf_2021.csv\n",
      "\u001b[34mplots\u001b[m\u001b[m\n",
      "t-sne_k-means_mhcld.ipynb\n",
      "to_do.txt\n",
      "unsupervised_learning.ipynb\n"
     ]
    }
   ],
   "source": [
    "!ls"
   ]
  },
  {
   "cell_type": "code",
   "execution_count": 2,
   "id": "557c56e2-d116-410d-8dd5-4883c4bc4ff1",
   "metadata": {},
   "outputs": [],
   "source": [
    "import pandas as pd\n",
    "import numpy as np\n",
    "import seaborn as sns\n",
    "import matplotlib.pyplot as plt"
   ]
  },
  {
   "cell_type": "code",
   "execution_count": 51,
   "id": "0eb088c4-daac-4689-a828-2f74333d4fc4",
   "metadata": {},
   "outputs": [],
   "source": [
    "NUM_POINTS = 100_000\n",
    "data = pd.read_csv(\"mhcld_puf_2021.csv\")\n",
    "data = data[:NUM_POINTS]"
   ]
  },
  {
   "cell_type": "code",
   "execution_count": 4,
   "id": "020966d1-d164-427b-a1c0-df36b06848b6",
   "metadata": {},
   "outputs": [],
   "source": [
    "# Load data the codebook descriptions\n",
    "import pickle\n",
    "with open('codebook_descriptions.pickle', 'rb') as handle:\n",
    "    codebook_descriptions = pickle.load(handle)\n",
    "assert set(list(data.columns)) == set(list(codebook_descriptions.keys()))"
   ]
  },
  {
   "cell_type": "code",
   "execution_count": 52,
   "id": "46fe2eb7-2ddf-472b-94f5-97775d84a284",
   "metadata": {},
   "outputs": [],
   "source": [
    "#columns to drop. reasoning in t-sne notebook.\n",
    "drop_cols = ['YEAR','CASEID','MH1','MH2','MH3','SMISED','DETNLF','NUMMHS','STATEFIP','REGION','DIVISION']\n",
    "data = data.drop(columns = drop_cols)"
   ]
  },
  {
   "cell_type": "code",
   "execution_count": 54,
   "id": "90892f37-9e08-4add-a51f-dd77c14e889f",
   "metadata": {},
   "outputs": [],
   "source": [
    "#disorder columns. 0/1 binary. these are dignoses for the disorders. 14 total\n",
    "disorder_cols = ['SUB','TRAUSTREFLG','ANXIETYFLG','ADHDFLG','CONDUCTFLG','DELIRDEMFLG','BIPOLARFLG','DEPRESSFLG','ODDFLG','PDDFLG','SCHIZOFLG','PERSONFLG','ALCSUBFLG','OTHERDISFLG']"
   ]
  },
  {
   "cell_type": "code",
   "execution_count": 79,
   "id": "86c7c0a4-36a0-4bfb-bc94-15af9b7de92e",
   "metadata": {},
   "outputs": [],
   "source": [
    "#columns which require a transformation to standardize to 0-1. reasoning in t-sne notebook.\n",
    "transform_cols = ['AGE','EDUC','GENDER','SUB','SPHSERVICE','CMPSERVICE','OPISERVICE','RTCSERVICE','IJSSERVICE','SAP','VETERAN ']\n",
    "max_age = max(data['AGE'])\n",
    "max_educ = max(data['EDUC'])\n",
    "data['AGE'] = data['AGE'].apply(lambda x: x/max_age)\n",
    "data['EDUC'] = data['EDUC'].apply(lambda x: 0 if x==-9 else x/max_educ)\n",
    "data['GENDER'] = data['GENDER'].apply(lambda x: .5 if x==-9 else x-1)\n",
    "data['SUB'] = data['SUB'].apply(lambda x: 0 if x==-9 else 1)\n",
    "data['SAP'] = data['SAP'].apply(lambda x: .5 if x==-9 else x-1)\n",
    "data['VETERAN'] = data['VETERAN'].apply(lambda x: .5 if x==-9 else x-1)\n",
    "data['SPHSERVICE'] = data['SPHSERVICE'].apply(lambda x: x-1)\n",
    "data['CMPSERVICE'] = data['CMPSERVICE'].apply(lambda x: x-1)\n",
    "data['OPISERVICE'] = data['OPISERVICE'].apply(lambda x: x-1)\n",
    "data['RTCSERVICE'] = data['RTCSERVICE'].apply(lambda x: x-1)\n",
    "data['IJSSERVICE'] = data['IJSSERVICE'].apply(lambda x: x-1)"
   ]
  },
  {
   "cell_type": "code",
   "execution_count": 56,
   "id": "6864403b-86c0-4a9e-88e2-b49763f28b79",
   "metadata": {},
   "outputs": [
    {
     "name": "stdout",
     "output_type": "stream",
     "text": [
      "26\n",
      "(100000, 50)\n"
     ]
    }
   ],
   "source": [
    "#categorical columns w/ more than two categorices\n",
    "#encode them with one-hot encoding\n",
    "from sklearn.preprocessing import OneHotEncoder\n",
    "one_hot_cols = ['ETHNIC','RACE','MARSTAT','EMPLOY','LIVARAG']\n",
    "one_hot_enc=OneHotEncoder().fit(data[one_hot_cols])\n",
    "one_hot_categorical_data = one_hot_enc.transform(data[one_hot_cols]).toarray()\n",
    "one_hot_feature_names=list(one_hot_enc.get_feature_names_out(['ETHNIC','RACE','MARSTAT','EMPLOY','LIVARAG']))\n",
    "one_hot_encoded_df = pd.DataFrame(data=one_hot_categorical_data,columns=one_hot_feature_names)\n",
    "print(sum(len(item) for item in one_hot_enc.categories_))\n",
    "data = data.drop(columns=one_hot_cols)\n",
    "data = data.join(one_hot_encoded_df)\n",
    "print(data.shape)"
   ]
  },
  {
   "cell_type": "code",
   "execution_count": 80,
   "id": "b74f4944-4a8d-481a-8f29-d8120ac808d9",
   "metadata": {},
   "outputs": [],
   "source": [
    "import tensorflow as tf\n",
    "from tensorflow.keras.models import Sequential\n",
    "from tensorflow.keras.layers import Dense"
   ]
  },
  {
   "cell_type": "code",
   "execution_count": 81,
   "id": "9989ad5a-75b9-4e0f-926b-f6f8fcdc68c9",
   "metadata": {},
   "outputs": [],
   "source": [
    "model = Sequential()\n",
    "model.add(Dense(10, input_shape=(36,), activation='relu'))\n",
    "model.add(Dense(14, activation='relu'))"
   ]
  },
  {
   "cell_type": "code",
   "execution_count": 82,
   "id": "721dd6fb-5cfb-4a25-972f-8b2c7c592347",
   "metadata": {},
   "outputs": [
    {
     "data": {
      "image/png": "[encoded data removed]",
      "text/plain": [
       "<IPython.core.display.Image object>"
      ]
     },
     "execution_count": 82,
     "metadata": {},
     "output_type": "execute_result"
    }
   ],
   "source": [
    "dot_img_file = '/tmp/model_1.png'\n",
    "tf.keras.utils.plot_model(model, to_file=dot_img_file, show_shapes=True)"
   ]
  },
  {
   "cell_type": "code",
   "execution_count": 83,
   "id": "2f241267-0ca4-4970-b9e4-b329be119a40",
   "metadata": {},
   "outputs": [],
   "source": [
    "model.compile(loss='binary_crossentropy', optimizer='adam', metrics=['accuracy'])"
   ]
  },
  {
   "cell_type": "code",
   "execution_count": 84,
   "id": "0dec6b7c-cac2-4291-9508-1dfa9b0c1196",
   "metadata": {},
   "outputs": [],
   "source": [
    "#drop disorder cols, we are predicting those\n",
    "#use unique_disorder labels\n",
    "X = data.drop(columns=disorder_cols)\n",
    "y = np.squeeze(data[disorder_cols])"
   ]
  },
  {
   "cell_type": "code",
   "execution_count": 85,
   "id": "e5a067ae-971c-4a7f-9921-3993693a8d03",
   "metadata": {},
   "outputs": [
    {
     "name": "stdout",
     "output_type": "stream",
     "text": [
      "(100000, 36) (100000, 14)\n"
     ]
    }
   ],
   "source": [
    "print(X.shape, y.shape)"
   ]
  },
  {
   "cell_type": "code",
   "execution_count": 86,
   "id": "bf244a05-8bcc-4f46-bd11-39cf2af69e33",
   "metadata": {},
   "outputs": [],
   "source": [
    "from sklearn.model_selection import train_test_split"
   ]
  },
  {
   "cell_type": "code",
   "execution_count": 87,
   "id": "2dc39bfc-a675-4fcf-ab7b-37c310d57fc1",
   "metadata": {},
   "outputs": [],
   "source": [
    "# Split the data into training and test sets\n",
    "#stratified k-fold didn't help much\n",
    "X_train, X_test, y_train, y_test = train_test_split(X, y, test_size=0.2)"
   ]
  },
  {
   "cell_type": "code",
   "execution_count": 90,
   "id": "9cbd3de3-5340-4165-9759-bbc8603448a4",
   "metadata": {},
   "outputs": [
    {
     "name": "stdout",
     "output_type": "stream",
     "text": [
      "Epoch 1/2\n",
      "10000/10000 [==============================] - 49s 5ms/step - loss: 0.4074 - accuracy: 0.3180\n",
      "Epoch 2/2\n",
      "10000/10000 [==============================] - 45s 5ms/step - loss: 0.3341 - accuracy: 0.4133\n"
     ]
    },
    {
     "data": {
      "text/plain": [
       "<keras.src.callbacks.History at 0x299e0c850>"
      ]
     },
     "execution_count": 90,
     "metadata": {},
     "output_type": "execute_result"
    }
   ],
   "source": [
    "# fit the keras model on the dataset\n",
    "model.fit(X, y, epochs=2, batch_size=10)"
   ]
  },
  {
   "cell_type": "code",
   "execution_count": 91,
   "id": "c3344c79-0dff-414a-8ce7-f66825ff7035",
   "metadata": {},
   "outputs": [
    {
     "name": "stdout",
     "output_type": "stream",
     "text": [
      "1/1 [==============================] - 0s 28ms/step\n"
     ]
    },
    {
     "data": {
      "text/plain": [
       "array([[0.        , 0.16150793, 0.29977372, 0.        , 0.        ,\n",
       "        0.        , 0.1468912 , 0.46802765, 0.        , 0.        ,\n",
       "        0.05724061, 0.17339405, 0.        , 0.0677651 ]], dtype=float32)"
      ]
     },
     "execution_count": 91,
     "metadata": {},
     "output_type": "execute_result"
    }
   ],
   "source": [
    "model.predict(X_test[:1])"
   ]
  },
  {
   "cell_type": "code",
   "execution_count": 92,
   "id": "4397ac84-5f8c-415c-be0e-f0c941802ca0",
   "metadata": {},
   "outputs": [
    {
     "name": "stdout",
     "output_type": "stream",
     "text": [
      "625/625 [==============================] - 1s 1ms/step\n"
     ]
    }
   ],
   "source": [
    "predictions = model.predict(X_test)\n",
    "predictions_rounded = [[round(i) for i in a] for a in predictions]"
   ]
  },
  {
   "cell_type": "code",
   "execution_count": 93,
   "id": "e4017131-162f-4565-85b6-379227aeabaa",
   "metadata": {},
   "outputs": [
    {
     "data": {
      "text/plain": [
       "0.09829642857142858"
      ]
     },
     "execution_count": 93,
     "metadata": {},
     "output_type": "execute_result"
    }
   ],
   "source": [
    "from sklearn.metrics import hamming_loss, accuracy_score, precision_score\n",
    "hamming_loss(predictions_rounded,y_test)"
   ]
  },
  {
   "cell_type": "code",
   "execution_count": 122,
   "id": "46528f08-3a8e-4482-8d45-fe36a748e43f",
   "metadata": {},
   "outputs": [
    {
     "data": {
      "text/plain": [
       "0.10815"
      ]
     },
     "execution_count": 122,
     "metadata": {},
     "output_type": "execute_result"
    }
   ],
   "source": [
    "#random guess would be 100_000/2^14 = 6.1%\n",
    "#showing ~10.8%\n",
    "#this is just the number of correct predictions. good! as expected\n",
    "accuracy_score(predictions_rounded,y_test)"
   ]
  },
  {
   "cell_type": "code",
   "execution_count": 123,
   "id": "e88628be-f056-4429-946b-dfb77c2c2bbe",
   "metadata": {},
   "outputs": [
    {
     "data": {
      "text/plain": [
       "0.5027130655937028"
      ]
     },
     "execution_count": 123,
     "metadata": {},
     "output_type": "execute_result"
    }
   ],
   "source": [
    "#precision is quite high at 50%\n",
    "#means model is making many 'true positive' classifications\n",
    "#i.e. when it's a \"1\" classification, we can be more confident it's correct\n",
    "precision_score(predictions_rounded,y_test,average='weighted')"
   ]
  },
  {
   "cell_type": "code",
   "execution_count": null,
   "id": "2e7ab5eb-e0c3-4d3e-9ae7-e8e8a4853604",
   "metadata": {},
   "outputs": [],
   "source": []
  }
 ],
 "metadata": {
  "kernelspec": {
   "display_name": "Python 3 (ipykernel)",
   "language": "python",
   "name": "python3"
  },
  "language_info": {
   "codemirror_mode": {
    "name": "ipython",
    "version": 3
   },
   "file_extension": ".py",
   "mimetype": "text/x-python",
   "name": "python",
   "nbconvert_exporter": "python",
   "pygments_lexer": "ipython3",
   "version": "3.9.6"
  }
 },
 "nbformat": 4,
 "nbformat_minor": 5
}
