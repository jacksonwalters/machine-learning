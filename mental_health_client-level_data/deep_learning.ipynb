{
 "cells": [
  {
   "cell_type": "code",
   "execution_count": 1,
   "id": "b9043752-701e-475a-b182-f1e72026f92c",
   "metadata": {},
   "outputs": [
    {
     "name": "stdout",
     "output_type": "stream",
     "text": [
      "classifiers_mhcld.ipynb\n",
      "codebook_descriptions.pickle\n",
      "deep_learning.ipynb\n",
      "google_colab_t-sne_mental_health_client-level_data.ipynb\n",
      "mhcld_puf_2021.csv\n",
      "\u001b[34mplots\u001b[m\u001b[m\n",
      "t-sne_k-means_mhcld.ipynb\n",
      "to_do.txt\n",
      "unsupervised_learning.ipynb\n"
     ]
    }
   ],
   "source": [
    "!ls"
   ]
  },
  {
   "cell_type": "code",
   "execution_count": 2,
   "id": "557c56e2-d116-410d-8dd5-4883c4bc4ff1",
   "metadata": {},
   "outputs": [],
   "source": [
    "import pandas as pd\n",
    "import numpy as np\n",
    "import seaborn as sns\n",
    "import matplotlib.pyplot as plt"
   ]
  },
  {
   "cell_type": "code",
   "execution_count": 3,
   "id": "0eb088c4-daac-4689-a828-2f74333d4fc4",
   "metadata": {},
   "outputs": [],
   "source": [
    "NUM_POINTS = 100_000\n",
    "data = pd.read_csv(\"mhcld_puf_2021.csv\")\n",
    "data = data[:NUM_POINTS]"
   ]
  },
  {
   "cell_type": "code",
   "execution_count": 4,
   "id": "020966d1-d164-427b-a1c0-df36b06848b6",
   "metadata": {},
   "outputs": [],
   "source": [
    "# Load data the codebook descriptions\n",
    "import pickle\n",
    "with open('codebook_descriptions.pickle', 'rb') as handle:\n",
    "    codebook_descriptions = pickle.load(handle)\n",
    "assert set(list(data.columns)) == set(list(codebook_descriptions.keys()))"
   ]
  },
  {
   "cell_type": "code",
   "execution_count": 5,
   "id": "46fe2eb7-2ddf-472b-94f5-97775d84a284",
   "metadata": {},
   "outputs": [],
   "source": [
    "#columns to drop. reasoning in t-sne notebook.\n",
    "drop_cols = ['YEAR','CASEID','SUB','MH1','MH2','MH3','SMISED','DETNLF','NUMMHS','STATEFIP','REGION','DIVISION']\n",
    "data = data.drop(columns = drop_cols)"
   ]
  },
  {
   "cell_type": "code",
   "execution_count": 6,
   "id": "90892f37-9e08-4add-a51f-dd77c14e889f",
   "metadata": {},
   "outputs": [],
   "source": [
    "#disorder columns. 0/1 binary. these are dignoses for the disorders\n",
    "disorder_cols = ['TRAUSTREFLG','ANXIETYFLG','ADHDFLG','CONDUCTFLG','DELIRDEMFLG','BIPOLARFLG','DEPRESSFLG','ODDFLG','PDDFLG','SCHIZOFLG','PERSONFLG','ALCSUBFLG','OTHERDISFLG']"
   ]
  },
  {
   "cell_type": "code",
   "execution_count": 7,
   "id": "86c7c0a4-36a0-4bfb-bc94-15af9b7de92e",
   "metadata": {},
   "outputs": [],
   "source": [
    "#columns which require a transformation to standardize to 0-1. reasoning in t-sne notebook.\n",
    "transform_cols = ['AGE','EDUC','GENDER','SPHSERVICE','CMPSERVICE','OPISERVICE','RTCSERVICE','IJSSERVICE','SAP','VETERAN ']\n",
    "max_age = max(data['AGE'])\n",
    "max_educ = max(data['EDUC'])\n",
    "data['AGE'] = data['AGE'].apply(lambda x: x/max_age)\n",
    "data['EDUC'] = data['EDUC'].apply(lambda x: 0 if x==-9 else x/max_educ)\n",
    "data['GENDER'] = data['GENDER'].apply(lambda x: .5 if x==-9 else x-1)\n",
    "data['SAP'] = data['SAP'].apply(lambda x: .5 if x==-9 else x-1)\n",
    "data['VETERAN'] = data['VETERAN'].apply(lambda x: .5 if x==-9 else x-1)\n",
    "data['SPHSERVICE'] = data['SPHSERVICE'].apply(lambda x: x-1)\n",
    "data['CMPSERVICE'] = data['CMPSERVICE'].apply(lambda x: x-1)\n",
    "data['OPISERVICE'] = data['OPISERVICE'].apply(lambda x: x-1)\n",
    "data['RTCSERVICE'] = data['RTCSERVICE'].apply(lambda x: x-1)\n",
    "data['IJSSERVICE'] = data['IJSSERVICE'].apply(lambda x: x-1)"
   ]
  },
  {
   "cell_type": "code",
   "execution_count": 8,
   "id": "6864403b-86c0-4a9e-88e2-b49763f28b79",
   "metadata": {},
   "outputs": [
    {
     "name": "stdout",
     "output_type": "stream",
     "text": [
      "26\n",
      "(100000, 49)\n"
     ]
    }
   ],
   "source": [
    "#categorical columns w/ more than two categorices\n",
    "#encode them with one-hot encoding\n",
    "from sklearn.preprocessing import OneHotEncoder\n",
    "one_hot_cols = ['ETHNIC','RACE','MARSTAT','EMPLOY','LIVARAG']\n",
    "one_hot_enc=OneHotEncoder().fit(data[one_hot_cols])\n",
    "one_hot_categorical_data = one_hot_enc.transform(data[one_hot_cols]).toarray()\n",
    "one_hot_feature_names=list(one_hot_enc.get_feature_names_out(['ETHNIC','RACE','MARSTAT','EMPLOY','LIVARAG']))\n",
    "one_hot_encoded_df = pd.DataFrame(data=one_hot_categorical_data,columns=one_hot_feature_names)\n",
    "print(sum(len(item) for item in one_hot_enc.categories_))\n",
    "data = data.drop(columns=one_hot_cols)\n",
    "data = data.join(one_hot_encoded_df)\n",
    "print(data.shape)"
   ]
  },
  {
   "cell_type": "code",
   "execution_count": 9,
   "id": "b74f4944-4a8d-481a-8f29-d8120ac808d9",
   "metadata": {},
   "outputs": [],
   "source": [
    "import tensorflow as tf\n",
    "from tensorflow.keras.models import Sequential\n",
    "from tensorflow.keras.layers import Dense"
   ]
  },
  {
   "cell_type": "code",
   "execution_count": 21,
   "id": "9989ad5a-75b9-4e0f-926b-f6f8fcdc68c9",
   "metadata": {},
   "outputs": [],
   "source": [
    "model = Sequential()\n",
    "model.add(Dense(10, input_shape=(36,), activation='relu'))\n",
    "model.add(Dense(13, activation='relu'))"
   ]
  },
  {
   "cell_type": "code",
   "execution_count": 22,
   "id": "721dd6fb-5cfb-4a25-972f-8b2c7c592347",
   "metadata": {},
   "outputs": [
    {
     "data": {
      "image/png": "[encoded data removed]",
      "text/plain": [
       "<IPython.core.display.Image object>"
      ]
     },
     "execution_count": 22,
     "metadata": {},
     "output_type": "execute_result"
    }
   ],
   "source": [
    "dot_img_file = '/tmp/model_1.png'\n",
    "tf.keras.utils.plot_model(model, to_file=dot_img_file, show_shapes=True)"
   ]
  },
  {
   "cell_type": "code",
   "execution_count": 24,
   "id": "2f241267-0ca4-4970-b9e4-b329be119a40",
   "metadata": {},
   "outputs": [],
   "source": [
    "model.compile(loss='binary_crossentropy', optimizer='adam', metrics=['accuracy'])"
   ]
  },
  {
   "cell_type": "code",
   "execution_count": 13,
   "id": "0dec6b7c-cac2-4291-9508-1dfa9b0c1196",
   "metadata": {},
   "outputs": [],
   "source": [
    "#drop disorder cols, we are predicting those\n",
    "#use unique_disorder labels\n",
    "X = data.drop(columns=disorder_cols)\n",
    "y = np.squeeze(data[disorder_cols])"
   ]
  },
  {
   "cell_type": "code",
   "execution_count": 20,
   "id": "e5a067ae-971c-4a7f-9921-3993693a8d03",
   "metadata": {},
   "outputs": [
    {
     "name": "stdout",
     "output_type": "stream",
     "text": [
      "(100000, 36) (100000, 13)\n"
     ]
    }
   ],
   "source": [
    "print(X.shape, y.shape)"
   ]
  },
  {
   "cell_type": "code",
   "execution_count": 16,
   "id": "bf244a05-8bcc-4f46-bd11-39cf2af69e33",
   "metadata": {},
   "outputs": [],
   "source": [
    "from sklearn.model_selection import train_test_split"
   ]
  },
  {
   "cell_type": "code",
   "execution_count": 17,
   "id": "2dc39bfc-a675-4fcf-ab7b-37c310d57fc1",
   "metadata": {},
   "outputs": [],
   "source": [
    "# Split the data into training and test sets\n",
    "#stratified k-fold didn't help much\n",
    "X_train, X_test, y_train, y_test = train_test_split(X, y, test_size=0.2)"
   ]
  },
  {
   "cell_type": "code",
   "execution_count": 26,
   "id": "9cbd3de3-5340-4165-9759-bbc8603448a4",
   "metadata": {},
   "outputs": [
    {
     "name": "stdout",
     "output_type": "stream",
     "text": [
      "Epoch 1/2\n",
      "10000/10000 [==============================] - 46s 5ms/step - loss: 0.3195 - accuracy: 0.3506\n",
      "Epoch 2/2\n",
      "10000/10000 [==============================] - 46s 5ms/step - loss: 0.3192 - accuracy: 0.3526\n"
     ]
    },
    {
     "data": {
      "text/plain": [
       "<keras.src.callbacks.History at 0x295b8bcd0>"
      ]
     },
     "execution_count": 26,
     "metadata": {},
     "output_type": "execute_result"
    }
   ],
   "source": [
    "# fit the keras model on the dataset\n",
    "model.fit(X, y, epochs=2, batch_size=10)"
   ]
  },
  {
   "cell_type": "code",
   "execution_count": 29,
   "id": "c3344c79-0dff-414a-8ce7-f66825ff7035",
   "metadata": {},
   "outputs": [
    {
     "ename": "ValueError",
     "evalue": "in user code:\n\n    File \"/Users/jacksonwalters/venv-metal/lib/python3.9/site-packages/keras/src/engine/training.py\", line 2440, in predict_function  *\n        return step_function(self, iterator)\n    File \"/Users/jacksonwalters/venv-metal/lib/python3.9/site-packages/keras/src/engine/training.py\", line 2425, in step_function  **\n        outputs = model.distribute_strategy.run(run_step, args=(data,))\n    File \"/Users/jacksonwalters/venv-metal/lib/python3.9/site-packages/keras/src/engine/training.py\", line 2413, in run_step  **\n        outputs = model.predict_step(data)\n    File \"/Users/jacksonwalters/venv-metal/lib/python3.9/site-packages/keras/src/engine/training.py\", line 2381, in predict_step\n        return self(x, training=False)\n    File \"/Users/jacksonwalters/venv-metal/lib/python3.9/site-packages/keras/src/utils/traceback_utils.py\", line 70, in error_handler\n        raise e.with_traceback(filtered_tb) from None\n    File \"/Users/jacksonwalters/venv-metal/lib/python3.9/site-packages/keras/src/engine/input_spec.py\", line 280, in assert_input_compatibility\n        raise ValueError(\n\n    ValueError: Exception encountered when calling layer 'sequential_1' (type Sequential).\n    \n    Input 0 of layer \"dense_2\" is incompatible with the layer: expected axis -1 of input shape to have value 36, but received input with shape (None, 1)\n    \n    Call arguments received by layer 'sequential_1' (type Sequential):\n      • inputs=tf.Tensor(shape=(None, 1), dtype=float32)\n      • training=False\n      • mask=None\n",
     "output_type": "error",
     "traceback": [
      "\u001b[0;31m---------------------------------------------------------------------------\u001b[0m",
      "\u001b[0;31mValueError\u001b[0m                                Traceback (most recent call last)",
      "Cell \u001b[0;32mIn[29], line 1\u001b[0m\n\u001b[0;32m----> 1\u001b[0m \u001b[43mmodel\u001b[49m\u001b[38;5;241;43m.\u001b[39;49m\u001b[43mpredict\u001b[49m\u001b[43m(\u001b[49m\u001b[43mX_test\u001b[49m\u001b[38;5;241;43m.\u001b[39;49m\u001b[43miloc\u001b[49m\u001b[43m[\u001b[49m\u001b[38;5;241;43m0\u001b[39;49m\u001b[43m]\u001b[49m\u001b[43m)\u001b[49m\n",
      "File \u001b[0;32m~/venv-metal/lib/python3.9/site-packages/keras/src/utils/traceback_utils.py:70\u001b[0m, in \u001b[0;36mfilter_traceback.<locals>.error_handler\u001b[0;34m(*args, **kwargs)\u001b[0m\n\u001b[1;32m     67\u001b[0m     filtered_tb \u001b[38;5;241m=\u001b[39m _process_traceback_frames(e\u001b[38;5;241m.\u001b[39m__traceback__)\n\u001b[1;32m     68\u001b[0m     \u001b[38;5;66;03m# To get the full stack trace, call:\u001b[39;00m\n\u001b[1;32m     69\u001b[0m     \u001b[38;5;66;03m# `tf.debugging.disable_traceback_filtering()`\u001b[39;00m\n\u001b[0;32m---> 70\u001b[0m     \u001b[38;5;28;01mraise\u001b[39;00m e\u001b[38;5;241m.\u001b[39mwith_traceback(filtered_tb) \u001b[38;5;28;01mfrom\u001b[39;00m \u001b[38;5;28;01mNone\u001b[39;00m\n\u001b[1;32m     71\u001b[0m \u001b[38;5;28;01mfinally\u001b[39;00m:\n\u001b[1;32m     72\u001b[0m     \u001b[38;5;28;01mdel\u001b[39;00m filtered_tb\n",
      "File \u001b[0;32m/var/folders/4d/rp7dhwss6znf18sks0v304d80000gn/T/__autograph_generated_file6_9x1frb.py:15\u001b[0m, in \u001b[0;36mouter_factory.<locals>.inner_factory.<locals>.tf__predict_function\u001b[0;34m(iterator)\u001b[0m\n\u001b[1;32m     13\u001b[0m \u001b[38;5;28;01mtry\u001b[39;00m:\n\u001b[1;32m     14\u001b[0m     do_return \u001b[38;5;241m=\u001b[39m \u001b[38;5;28;01mTrue\u001b[39;00m\n\u001b[0;32m---> 15\u001b[0m     retval_ \u001b[38;5;241m=\u001b[39m ag__\u001b[38;5;241m.\u001b[39mconverted_call(ag__\u001b[38;5;241m.\u001b[39mld(step_function), (ag__\u001b[38;5;241m.\u001b[39mld(\u001b[38;5;28mself\u001b[39m), ag__\u001b[38;5;241m.\u001b[39mld(iterator)), \u001b[38;5;28;01mNone\u001b[39;00m, fscope)\n\u001b[1;32m     16\u001b[0m \u001b[38;5;28;01mexcept\u001b[39;00m:\n\u001b[1;32m     17\u001b[0m     do_return \u001b[38;5;241m=\u001b[39m \u001b[38;5;28;01mFalse\u001b[39;00m\n",
      "\u001b[0;31mValueError\u001b[0m: in user code:\n\n    File \"/Users/jacksonwalters/venv-metal/lib/python3.9/site-packages/keras/src/engine/training.py\", line 2440, in predict_function  *\n        return step_function(self, iterator)\n    File \"/Users/jacksonwalters/venv-metal/lib/python3.9/site-packages/keras/src/engine/training.py\", line 2425, in step_function  **\n        outputs = model.distribute_strategy.run(run_step, args=(data,))\n    File \"/Users/jacksonwalters/venv-metal/lib/python3.9/site-packages/keras/src/engine/training.py\", line 2413, in run_step  **\n        outputs = model.predict_step(data)\n    File \"/Users/jacksonwalters/venv-metal/lib/python3.9/site-packages/keras/src/engine/training.py\", line 2381, in predict_step\n        return self(x, training=False)\n    File \"/Users/jacksonwalters/venv-metal/lib/python3.9/site-packages/keras/src/utils/traceback_utils.py\", line 70, in error_handler\n        raise e.with_traceback(filtered_tb) from None\n    File \"/Users/jacksonwalters/venv-metal/lib/python3.9/site-packages/keras/src/engine/input_spec.py\", line 280, in assert_input_compatibility\n        raise ValueError(\n\n    ValueError: Exception encountered when calling layer 'sequential_1' (type Sequential).\n    \n    Input 0 of layer \"dense_2\" is incompatible with the layer: expected axis -1 of input shape to have value 36, but received input with shape (None, 1)\n    \n    Call arguments received by layer 'sequential_1' (type Sequential):\n      • inputs=tf.Tensor(shape=(None, 1), dtype=float32)\n      • training=False\n      • mask=None\n"
     ]
    }
   ],
   "source": [
    "model.predict(X_test.iloc[0])"
   ]
  },
  {
   "cell_type": "code",
   "execution_count": null,
   "id": "4397ac84-5f8c-415c-be0e-f0c941802ca0",
   "metadata": {},
   "outputs": [],
   "source": []
  }
 ],
 "metadata": {
  "kernelspec": {
   "display_name": "Python 3 (ipykernel)",
   "language": "python",
   "name": "python3"
  },
  "language_info": {
   "codemirror_mode": {
    "name": "ipython",
    "version": 3
   },
   "file_extension": ".py",
   "mimetype": "text/x-python",
   "name": "python",
   "nbconvert_exporter": "python",
   "pygments_lexer": "ipython3",
   "version": "3.9.6"
  }
 },
 "nbformat": 4,
 "nbformat_minor": 5
}
