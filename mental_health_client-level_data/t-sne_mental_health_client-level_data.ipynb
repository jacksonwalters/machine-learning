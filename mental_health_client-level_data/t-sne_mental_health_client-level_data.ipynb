{
 "cells": [
  {
   "cell_type": "code",
   "execution_count": 17,
   "id": "fa9887ca-f539-4667-ac8e-4936fcf613ab",
   "metadata": {},
   "outputs": [],
   "source": [
    "#dataset is Mental Health Client-Level Data from SAMHSA\n",
    "#https://www.datafiles.samhsa.gov/dataset/mental-health-client-level-data-2021-mh-cld-2021-ds0001"
   ]
  },
  {
   "cell_type": "code",
   "execution_count": 2,
   "id": "ca3e540d-abad-48f0-9427-2efffe8ffe70",
   "metadata": {},
   "outputs": [
    {
     "name": "stdout",
     "output_type": "stream",
     "text": [
      "google_colab_t-sne_mental_health_client-level_data.ipynb\n",
      "mhcld_puf_2021.csv\n",
      "\u001b[34mplots\u001b[m\u001b[m\n",
      "t-sne_mental_health_client-level_data.ipynb\n"
     ]
    }
   ],
   "source": [
    "!ls"
   ]
  },
  {
   "cell_type": "code",
   "execution_count": 3,
   "id": "ac640338-e2ba-43c8-8d2f-7321c562f73b",
   "metadata": {},
   "outputs": [],
   "source": [
    "import pandas as pd\n",
    "import numpy as np\n",
    "import seaborn as sns\n",
    "import matplotlib.pyplot as plt"
   ]
  },
  {
   "cell_type": "code",
   "execution_count": 36,
   "id": "2c6c99d9-896b-49cc-b577-3005eba0a843",
   "metadata": {},
   "outputs": [],
   "source": [
    "data = pd.read_csv(\"mhcld_puf_2021.csv\")"
   ]
  },
  {
   "cell_type": "code",
   "execution_count": 28,
   "id": "a0495a42-4105-4cca-8de5-74702d06a9c6",
   "metadata": {},
   "outputs": [],
   "source": [
    "# Load data (deserialize)\n",
    "with open('codebook_descriptions.pickle', 'rb') as handle:\n",
    "    codebook_descriptions = pickle.load(handle)"
   ]
  },
  {
   "cell_type": "code",
   "execution_count": 37,
   "id": "5a17f7b5-c62b-4da3-839b-e7ef0bd2df74",
   "metadata": {},
   "outputs": [
    {
     "data": {
      "text/plain": [
       "Index(['YEAR', 'AGE', 'EDUC', 'ETHNIC', 'RACE', 'GENDER', 'SPHSERVICE',\n",
       "       'CMPSERVICE', 'OPISERVICE', 'RTCSERVICE', 'IJSSERVICE', 'MH1', 'MH2',\n",
       "       'MH3', 'SUB', 'MARSTAT', 'SMISED', 'SAP', 'EMPLOY', 'DETNLF', 'VETERAN',\n",
       "       'LIVARAG', 'NUMMHS', 'TRAUSTREFLG', 'ANXIETYFLG', 'ADHDFLG',\n",
       "       'CONDUCTFLG', 'DELIRDEMFLG', 'BIPOLARFLG', 'DEPRESSFLG', 'ODDFLG',\n",
       "       'PDDFLG', 'PERSONFLG', 'SCHIZOFLG', 'ALCSUBFLG', 'OTHERDISFLG',\n",
       "       'STATEFIP', 'DIVISION', 'REGION', 'CASEID'],\n",
       "      dtype='object')"
      ]
     },
     "execution_count": 37,
     "metadata": {},
     "output_type": "execute_result"
    }
   ],
   "source": [
    "data.columns"
   ]
  },
  {
   "cell_type": "code",
   "execution_count": 38,
   "id": "d0e687a0-cc4d-42c9-9fb1-eb21fef059e5",
   "metadata": {},
   "outputs": [
    {
     "data": {
      "text/plain": [
       "'Conduct disorder reported'"
      ]
     },
     "execution_count": 38,
     "metadata": {},
     "output_type": "execute_result"
    }
   ],
   "source": [
    "codebook_descriptions['CONDUCTFLG']"
   ]
  },
  {
   "cell_type": "code",
   "execution_count": 41,
   "id": "ca5ce407-a108-4144-916e-8df09b0167f5",
   "metadata": {},
   "outputs": [],
   "source": [
    "#for now, only include 0/1 data\n",
    "#these are dignoses for the disorders\n",
    "#need to one-hot encode categorical data\n",
    "disorder_cols = ['TRAUSTREFLG','ANXIETYFLG','ADHDFLG','CONDUCTFLG','DELIRDEMFLG','BIPOLARFLG','DEPRESSFLG','ODDFLG','PDDFLG','PERSONFLG','SCHIZOFLG','PERSONFLG','ALCSUBFLG','OTHERDISFLG']\n",
    "data = data[disorder_cols]"
   ]
  },
  {
   "cell_type": "code",
   "execution_count": 40,
   "id": "7f1ad2ae-b595-4ee1-8626-27c807854ed6",
   "metadata": {},
   "outputs": [
    {
     "data": {
      "text/html": [
       "<div>\n",
       "<style scoped>\n",
       "    .dataframe tbody tr th:only-of-type {\n",
       "        vertical-align: middle;\n",
       "    }\n",
       "\n",
       "    .dataframe tbody tr th {\n",
       "        vertical-align: top;\n",
       "    }\n",
       "\n",
       "    .dataframe thead th {\n",
       "        text-align: right;\n",
       "    }\n",
       "</style>\n",
       "<table border=\"1\" class=\"dataframe\">\n",
       "  <thead>\n",
       "    <tr style=\"text-align: right;\">\n",
       "      <th></th>\n",
       "      <th>TRAUSTREFLG</th>\n",
       "      <th>ANXIETYFLG</th>\n",
       "      <th>ADHDFLG</th>\n",
       "      <th>CONDUCTFLG</th>\n",
       "      <th>DELIRDEMFLG</th>\n",
       "      <th>BIPOLARFLG</th>\n",
       "      <th>DEPRESSFLG</th>\n",
       "      <th>ODDFLG</th>\n",
       "      <th>PDDFLG</th>\n",
       "      <th>PERSONFLG</th>\n",
       "      <th>SCHIZOFLG</th>\n",
       "      <th>PERSONFLG</th>\n",
       "      <th>ALCSUBFLG</th>\n",
       "      <th>OTHERDISFLG</th>\n",
       "    </tr>\n",
       "  </thead>\n",
       "  <tbody>\n",
       "    <tr>\n",
       "      <th>0</th>\n",
       "      <td>0</td>\n",
       "      <td>0</td>\n",
       "      <td>0</td>\n",
       "      <td>0</td>\n",
       "      <td>0</td>\n",
       "      <td>0</td>\n",
       "      <td>1</td>\n",
       "      <td>0</td>\n",
       "      <td>0</td>\n",
       "      <td>0</td>\n",
       "      <td>0</td>\n",
       "      <td>0</td>\n",
       "      <td>0</td>\n",
       "      <td>0</td>\n",
       "    </tr>\n",
       "    <tr>\n",
       "      <th>1</th>\n",
       "      <td>0</td>\n",
       "      <td>0</td>\n",
       "      <td>0</td>\n",
       "      <td>0</td>\n",
       "      <td>0</td>\n",
       "      <td>0</td>\n",
       "      <td>0</td>\n",
       "      <td>0</td>\n",
       "      <td>0</td>\n",
       "      <td>0</td>\n",
       "      <td>1</td>\n",
       "      <td>0</td>\n",
       "      <td>0</td>\n",
       "      <td>0</td>\n",
       "    </tr>\n",
       "    <tr>\n",
       "      <th>2</th>\n",
       "      <td>0</td>\n",
       "      <td>0</td>\n",
       "      <td>0</td>\n",
       "      <td>0</td>\n",
       "      <td>0</td>\n",
       "      <td>0</td>\n",
       "      <td>0</td>\n",
       "      <td>0</td>\n",
       "      <td>0</td>\n",
       "      <td>0</td>\n",
       "      <td>0</td>\n",
       "      <td>0</td>\n",
       "      <td>0</td>\n",
       "      <td>1</td>\n",
       "    </tr>\n",
       "    <tr>\n",
       "      <th>3</th>\n",
       "      <td>0</td>\n",
       "      <td>0</td>\n",
       "      <td>0</td>\n",
       "      <td>0</td>\n",
       "      <td>0</td>\n",
       "      <td>0</td>\n",
       "      <td>0</td>\n",
       "      <td>0</td>\n",
       "      <td>0</td>\n",
       "      <td>0</td>\n",
       "      <td>1</td>\n",
       "      <td>0</td>\n",
       "      <td>0</td>\n",
       "      <td>0</td>\n",
       "    </tr>\n",
       "    <tr>\n",
       "      <th>4</th>\n",
       "      <td>1</td>\n",
       "      <td>1</td>\n",
       "      <td>0</td>\n",
       "      <td>0</td>\n",
       "      <td>0</td>\n",
       "      <td>0</td>\n",
       "      <td>1</td>\n",
       "      <td>0</td>\n",
       "      <td>0</td>\n",
       "      <td>0</td>\n",
       "      <td>0</td>\n",
       "      <td>0</td>\n",
       "      <td>0</td>\n",
       "      <td>0</td>\n",
       "    </tr>\n",
       "  </tbody>\n",
       "</table>\n",
       "</div>"
      ],
      "text/plain": [
       "   TRAUSTREFLG  ANXIETYFLG  ADHDFLG  CONDUCTFLG  DELIRDEMFLG  BIPOLARFLG  \\\n",
       "0            0           0        0           0            0           0   \n",
       "1            0           0        0           0            0           0   \n",
       "2            0           0        0           0            0           0   \n",
       "3            0           0        0           0            0           0   \n",
       "4            1           1        0           0            0           0   \n",
       "\n",
       "   DEPRESSFLG  ODDFLG  PDDFLG  PERSONFLG  SCHIZOFLG  PERSONFLG  ALCSUBFLG  \\\n",
       "0           1       0       0          0          0          0          0   \n",
       "1           0       0       0          0          1          0          0   \n",
       "2           0       0       0          0          0          0          0   \n",
       "3           0       0       0          0          1          0          0   \n",
       "4           1       0       0          0          0          0          0   \n",
       "\n",
       "   OTHERDISFLG  \n",
       "0            0  \n",
       "1            0  \n",
       "2            1  \n",
       "3            0  \n",
       "4            0  "
      ]
     },
     "execution_count": 40,
     "metadata": {},
     "output_type": "execute_result"
    }
   ],
   "source": [
    "data.head()"
   ]
  },
  {
   "cell_type": "code",
   "execution_count": 8,
   "id": "217a9567-bb15-4faf-9a66-8c469948960f",
   "metadata": {},
   "outputs": [
    {
     "name": "stdout",
     "output_type": "stream",
     "text": [
      "<class 'pandas.core.frame.DataFrame'>\n",
      "RangeIndex: 6509025 entries, 0 to 6509024\n",
      "Data columns (total 7 columns):\n",
      " #   Column       Dtype\n",
      "---  ------       -----\n",
      " 0   TRAUSTREFLG  int64\n",
      " 1   ANXIETYFLG   int64\n",
      " 2   ADHDFLG      int64\n",
      " 3   BIPOLARFLG   int64\n",
      " 4   DEPRESSFLG   int64\n",
      " 5   SCHIZOFLG    int64\n",
      " 6   PERSONFLG    int64\n",
      "dtypes: int64(7)\n",
      "memory usage: 347.6 MB\n"
     ]
    }
   ],
   "source": [
    "data.info()"
   ]
  },
  {
   "cell_type": "code",
   "execution_count": 9,
   "id": "08cef81e-82f2-4649-b7ee-8e673fcefb0b",
   "metadata": {},
   "outputs": [],
   "source": [
    "#https://scikit-learn.org/stable/modules/generated/sklearn.decomposition.PCA.html\n",
    "#perform PCA without CAS connection\n",
    "from sklearn import datasets, decomposition\n",
    "#fill missing values\n",
    "#X = data.fillna(data.mean())\n",
    "#drop missing values\n",
    "X = data.dropna()\n",
    "X = X[:10_000]\n",
    "n_samples = X.shape[0]"
   ]
  },
  {
   "cell_type": "code",
   "execution_count": 10,
   "id": "d1583acd-7a81-43d1-a750-aa278245e3a5",
   "metadata": {},
   "outputs": [
    {
     "data": {
      "text/plain": [
       "(10000, 7)"
      ]
     },
     "execution_count": 10,
     "metadata": {},
     "output_type": "execute_result"
    }
   ],
   "source": [
    "pca = decomposition.PCA(n_components=3)\n",
    "pca.fit(X)\n",
    "X.shape"
   ]
  },
  {
   "cell_type": "code",
   "execution_count": 11,
   "id": "94bbef21-2241-44e3-aa1b-c0f44eeb8dbf",
   "metadata": {},
   "outputs": [
    {
     "name": "stdout",
     "output_type": "stream",
     "text": [
      "0.26973314892142325\n",
      "0.26976012493390744\n",
      "0.18026927568040593\n",
      "0.18028730441083893\n",
      "0.15969005408546816\n",
      "0.15970602468793782\n"
     ]
    }
   ],
   "source": [
    "#https://stackoverflow.com/questions/31909945/obtain-eigen-values-and-vectors-from-sklearn-pca\n",
    "# We center the data and compute the sample covariance matrix\n",
    "X_centered = X - np.mean(X, axis=0)\n",
    "cov_matrix = np.dot(X_centered.T, X_centered) / n_samples\n",
    "eigenvalues = pca.explained_variance_\n",
    "for eigenvalue, eigenvector in zip(eigenvalues, pca.components_):    \n",
    "    print(np.dot(eigenvector.T, np.dot(cov_matrix, eigenvector)))\n",
    "    print(eigenvalue)"
   ]
  },
  {
   "cell_type": "code",
   "execution_count": 12,
   "id": "e6c38979-d7fd-44c3-94c1-bf987a52d08a",
   "metadata": {},
   "outputs": [],
   "source": [
    "#create pandas dataframes from label and pca transformed data\n",
    "X_transform = pca.transform(X)\n",
    "transform_df = pd.DataFrame(X_transform,columns=['score0','score1','score2'])"
   ]
  },
  {
   "cell_type": "code",
   "execution_count": 13,
   "id": "a6577e9c-b139-4d2c-ad2d-c4db9b9372f7",
   "metadata": {},
   "outputs": [
    {
     "data": {
      "text/plain": [
       "(10000, 3)"
      ]
     },
     "execution_count": 13,
     "metadata": {},
     "output_type": "execute_result"
    }
   ],
   "source": [
    "X_transform.shape"
   ]
  },
  {
   "cell_type": "code",
   "execution_count": 14,
   "id": "673305b0-bde3-4590-aefa-357615753a02",
   "metadata": {},
   "outputs": [
    {
     "data": {
      "image/png": "[encoded data removed]",
      "text/plain": [
       "<Figure size 500x500 with 1 Axes>"
      ]
     },
     "metadata": {},
     "output_type": "display_data"
    }
   ],
   "source": [
    "# Plot of PCA\n",
    "\n",
    "# Set style of scatterplot\n",
    "sns.set_context(\"notebook\", font_scale=1.1)\n",
    "sns.set_style(\"ticks\")\n",
    "\n",
    "# Create scatterplot of dataframe\n",
    "sns.lmplot(x='score0',\n",
    "           y='score1',\n",
    "           data=transform_df,\n",
    "           fit_reg=False,\n",
    "           legend=True,\n",
    "           #size=9,\n",
    "           #hue='score2',\n",
    "           scatter_kws={\"s\":200, \"alpha\":0.3})\n",
    "\n",
    "plt.title('PCA Results', weight='bold').set_fontsize('14')\n",
    "plt.xlabel('Prin Comp 1', weight='bold').set_fontsize('10')\n",
    "plt.ylabel('Prin Comp 2', weight='bold').set_fontsize('10')\n",
    "plt.savefig('plots/pca_mental-health_client-level.png')"
   ]
  },
  {
   "cell_type": "code",
   "execution_count": 15,
   "id": "e15add4b-7dcd-4dab-a148-3f833f2478a8",
   "metadata": {},
   "outputs": [],
   "source": [
    "from sklearn.manifold import TSNE"
   ]
  },
  {
   "cell_type": "code",
   "execution_count": 91,
   "id": "12e4e0b8-e627-40ab-8d75-9bc9e528af73",
   "metadata": {},
   "outputs": [],
   "source": [
    "tsne = TSNE(n_components=2, verbose=1, perplexity=1000, n_iter=500)"
   ]
  },
  {
   "cell_type": "code",
   "execution_count": 92,
   "id": "27d0481c-b7ca-4956-b5c2-e00d8dd68d70",
   "metadata": {},
   "outputs": [
    {
     "name": "stdout",
     "output_type": "stream",
     "text": [
      "[t-SNE] Computing 3001 nearest neighbors...\n",
      "[t-SNE] Indexed 50000 samples in 0.029s...\n",
      "[t-SNE] Computed neighbors for 50000 samples in 90.409s...\n",
      "[t-SNE] Computed conditional probabilities for sample 1000 / 50000\n",
      "[t-SNE] Computed conditional probabilities for sample 2000 / 50000\n",
      "[t-SNE] Computed conditional probabilities for sample 3000 / 50000\n",
      "[t-SNE] Computed conditional probabilities for sample 4000 / 50000\n",
      "[t-SNE] Computed conditional probabilities for sample 5000 / 50000\n",
      "[t-SNE] Computed conditional probabilities for sample 6000 / 50000\n",
      "[t-SNE] Computed conditional probabilities for sample 7000 / 50000\n",
      "[t-SNE] Computed conditional probabilities for sample 8000 / 50000\n",
      "[t-SNE] Computed conditional probabilities for sample 9000 / 50000\n",
      "[t-SNE] Computed conditional probabilities for sample 10000 / 50000\n",
      "[t-SNE] Computed conditional probabilities for sample 11000 / 50000\n",
      "[t-SNE] Computed conditional probabilities for sample 12000 / 50000\n",
      "[t-SNE] Computed conditional probabilities for sample 13000 / 50000\n",
      "[t-SNE] Computed conditional probabilities for sample 14000 / 50000\n",
      "[t-SNE] Computed conditional probabilities for sample 15000 / 50000\n",
      "[t-SNE] Computed conditional probabilities for sample 16000 / 50000\n",
      "[t-SNE] Computed conditional probabilities for sample 17000 / 50000\n",
      "[t-SNE] Computed conditional probabilities for sample 18000 / 50000\n",
      "[t-SNE] Computed conditional probabilities for sample 19000 / 50000\n",
      "[t-SNE] Computed conditional probabilities for sample 20000 / 50000\n",
      "[t-SNE] Computed conditional probabilities for sample 21000 / 50000\n",
      "[t-SNE] Computed conditional probabilities for sample 22000 / 50000\n",
      "[t-SNE] Computed conditional probabilities for sample 23000 / 50000\n",
      "[t-SNE] Computed conditional probabilities for sample 24000 / 50000\n",
      "[t-SNE] Computed conditional probabilities for sample 25000 / 50000\n",
      "[t-SNE] Computed conditional probabilities for sample 26000 / 50000\n",
      "[t-SNE] Computed conditional probabilities for sample 27000 / 50000\n",
      "[t-SNE] Computed conditional probabilities for sample 28000 / 50000\n",
      "[t-SNE] Computed conditional probabilities for sample 29000 / 50000\n",
      "[t-SNE] Computed conditional probabilities for sample 30000 / 50000\n",
      "[t-SNE] Computed conditional probabilities for sample 31000 / 50000\n",
      "[t-SNE] Computed conditional probabilities for sample 32000 / 50000\n",
      "[t-SNE] Computed conditional probabilities for sample 33000 / 50000\n",
      "[t-SNE] Computed conditional probabilities for sample 34000 / 50000\n",
      "[t-SNE] Computed conditional probabilities for sample 35000 / 50000\n",
      "[t-SNE] Computed conditional probabilities for sample 36000 / 50000\n",
      "[t-SNE] Computed conditional probabilities for sample 37000 / 50000\n",
      "[t-SNE] Computed conditional probabilities for sample 38000 / 50000\n",
      "[t-SNE] Computed conditional probabilities for sample 39000 / 50000\n",
      "[t-SNE] Computed conditional probabilities for sample 40000 / 50000\n",
      "[t-SNE] Computed conditional probabilities for sample 41000 / 50000\n",
      "[t-SNE] Computed conditional probabilities for sample 42000 / 50000\n",
      "[t-SNE] Computed conditional probabilities for sample 43000 / 50000\n",
      "[t-SNE] Computed conditional probabilities for sample 44000 / 50000\n",
      "[t-SNE] Computed conditional probabilities for sample 45000 / 50000\n",
      "[t-SNE] Computed conditional probabilities for sample 46000 / 50000\n",
      "[t-SNE] Computed conditional probabilities for sample 47000 / 50000\n",
      "[t-SNE] Computed conditional probabilities for sample 48000 / 50000\n",
      "[t-SNE] Computed conditional probabilities for sample 49000 / 50000\n",
      "[t-SNE] Computed conditional probabilities for sample 50000 / 50000\n",
      "[t-SNE] Mean sigma: 0.000000\n",
      "[t-SNE] KL divergence after 250 iterations with early exaggeration: 33.883110\n",
      "[t-SNE] KL divergence after 500 iterations: -0.104878\n"
     ]
    }
   ],
   "source": [
    "tsne_results = tsne.fit_transform(X)"
   ]
  },
  {
   "cell_type": "code",
   "execution_count": 93,
   "id": "2533eff5-c1cb-484d-9bdf-49d608009787",
   "metadata": {},
   "outputs": [],
   "source": [
    "tsne_df = pd.DataFrame(columns=['tsne-2d-one','tsne-2d-two'])\n",
    "tsne_df['tsne-2d-one'] = tsne_results[:,0]\n",
    "tsne_df['tsne-2d-two'] = tsne_results[:,1]"
   ]
  },
  {
   "cell_type": "code",
   "execution_count": 94,
   "id": "959b1d9d-0252-4e12-8270-b46e1f57b112",
   "metadata": {},
   "outputs": [
    {
     "data": {
      "text/plain": [
       "(50000, 2)"
      ]
     },
     "execution_count": 94,
     "metadata": {},
     "output_type": "execute_result"
    }
   ],
   "source": [
    "tsne_df.shape"
   ]
  },
  {
   "cell_type": "code",
   "execution_count": 95,
   "id": "57112eb6-6c2a-4a34-aa61-60befc9b55f8",
   "metadata": {},
   "outputs": [
    {
     "data": {
      "text/html": [
       "<div>\n",
       "<style scoped>\n",
       "    .dataframe tbody tr th:only-of-type {\n",
       "        vertical-align: middle;\n",
       "    }\n",
       "\n",
       "    .dataframe tbody tr th {\n",
       "        vertical-align: top;\n",
       "    }\n",
       "\n",
       "    .dataframe thead th {\n",
       "        text-align: right;\n",
       "    }\n",
       "</style>\n",
       "<table border=\"1\" class=\"dataframe\">\n",
       "  <thead>\n",
       "    <tr style=\"text-align: right;\">\n",
       "      <th></th>\n",
       "      <th>tsne-2d-one</th>\n",
       "      <th>tsne-2d-two</th>\n",
       "    </tr>\n",
       "  </thead>\n",
       "  <tbody>\n",
       "    <tr>\n",
       "      <th>0</th>\n",
       "      <td>-13.421678</td>\n",
       "      <td>-8.626776</td>\n",
       "    </tr>\n",
       "    <tr>\n",
       "      <th>1</th>\n",
       "      <td>4.808441</td>\n",
       "      <td>-14.819810</td>\n",
       "    </tr>\n",
       "    <tr>\n",
       "      <th>2</th>\n",
       "      <td>23.367905</td>\n",
       "      <td>-10.942790</td>\n",
       "    </tr>\n",
       "    <tr>\n",
       "      <th>3</th>\n",
       "      <td>4.813694</td>\n",
       "      <td>-15.124291</td>\n",
       "    </tr>\n",
       "    <tr>\n",
       "      <th>4</th>\n",
       "      <td>-22.785217</td>\n",
       "      <td>12.188366</td>\n",
       "    </tr>\n",
       "    <tr>\n",
       "      <th>5</th>\n",
       "      <td>25.426641</td>\n",
       "      <td>-10.471754</td>\n",
       "    </tr>\n",
       "    <tr>\n",
       "      <th>6</th>\n",
       "      <td>-6.021481</td>\n",
       "      <td>14.787683</td>\n",
       "    </tr>\n",
       "    <tr>\n",
       "      <th>7</th>\n",
       "      <td>25.426641</td>\n",
       "      <td>-10.471754</td>\n",
       "    </tr>\n",
       "    <tr>\n",
       "      <th>8</th>\n",
       "      <td>-9.892142</td>\n",
       "      <td>7.200520</td>\n",
       "    </tr>\n",
       "    <tr>\n",
       "      <th>9</th>\n",
       "      <td>-24.554922</td>\n",
       "      <td>1.156588</td>\n",
       "    </tr>\n",
       "  </tbody>\n",
       "</table>\n",
       "</div>"
      ],
      "text/plain": [
       "   tsne-2d-one  tsne-2d-two\n",
       "0   -13.421678    -8.626776\n",
       "1     4.808441   -14.819810\n",
       "2    23.367905   -10.942790\n",
       "3     4.813694   -15.124291\n",
       "4   -22.785217    12.188366\n",
       "5    25.426641   -10.471754\n",
       "6    -6.021481    14.787683\n",
       "7    25.426641   -10.471754\n",
       "8    -9.892142     7.200520\n",
       "9   -24.554922     1.156588"
      ]
     },
     "execution_count": 95,
     "metadata": {},
     "output_type": "execute_result"
    }
   ],
   "source": [
    "#NOTE: \n",
    "#t-SNE depends heavily on perplexity\n",
    "#ensure no id column got mixed in\n",
    "tsne_df.head(10)"
   ]
  },
  {
   "cell_type": "code",
   "execution_count": 96,
   "id": "2ef33f35-f804-4af5-95d0-7f0cbadc4668",
   "metadata": {},
   "outputs": [
    {
     "data": {
      "text/html": [
       "<div>\n",
       "<style scoped>\n",
       "    .dataframe tbody tr th:only-of-type {\n",
       "        vertical-align: middle;\n",
       "    }\n",
       "\n",
       "    .dataframe tbody tr th {\n",
       "        vertical-align: top;\n",
       "    }\n",
       "\n",
       "    .dataframe thead th {\n",
       "        text-align: right;\n",
       "    }\n",
       "</style>\n",
       "<table border=\"1\" class=\"dataframe\">\n",
       "  <thead>\n",
       "    <tr style=\"text-align: right;\">\n",
       "      <th></th>\n",
       "      <th>TRAUSTREFLG</th>\n",
       "      <th>ANXIETYFLG</th>\n",
       "      <th>ADHDFLG</th>\n",
       "      <th>BIPOLARFLG</th>\n",
       "      <th>DEPRESSFLG</th>\n",
       "      <th>SCHIZOFLG</th>\n",
       "      <th>PERSONFLG</th>\n",
       "    </tr>\n",
       "  </thead>\n",
       "  <tbody>\n",
       "    <tr>\n",
       "      <th>0</th>\n",
       "      <td>0</td>\n",
       "      <td>0</td>\n",
       "      <td>0</td>\n",
       "      <td>0</td>\n",
       "      <td>1</td>\n",
       "      <td>0</td>\n",
       "      <td>0</td>\n",
       "    </tr>\n",
       "    <tr>\n",
       "      <th>1</th>\n",
       "      <td>0</td>\n",
       "      <td>0</td>\n",
       "      <td>0</td>\n",
       "      <td>0</td>\n",
       "      <td>0</td>\n",
       "      <td>1</td>\n",
       "      <td>0</td>\n",
       "    </tr>\n",
       "    <tr>\n",
       "      <th>2</th>\n",
       "      <td>0</td>\n",
       "      <td>0</td>\n",
       "      <td>0</td>\n",
       "      <td>0</td>\n",
       "      <td>0</td>\n",
       "      <td>0</td>\n",
       "      <td>0</td>\n",
       "    </tr>\n",
       "    <tr>\n",
       "      <th>3</th>\n",
       "      <td>0</td>\n",
       "      <td>0</td>\n",
       "      <td>0</td>\n",
       "      <td>0</td>\n",
       "      <td>0</td>\n",
       "      <td>1</td>\n",
       "      <td>0</td>\n",
       "    </tr>\n",
       "    <tr>\n",
       "      <th>4</th>\n",
       "      <td>1</td>\n",
       "      <td>1</td>\n",
       "      <td>0</td>\n",
       "      <td>0</td>\n",
       "      <td>1</td>\n",
       "      <td>0</td>\n",
       "      <td>0</td>\n",
       "    </tr>\n",
       "    <tr>\n",
       "      <th>5</th>\n",
       "      <td>0</td>\n",
       "      <td>0</td>\n",
       "      <td>0</td>\n",
       "      <td>0</td>\n",
       "      <td>0</td>\n",
       "      <td>0</td>\n",
       "      <td>0</td>\n",
       "    </tr>\n",
       "    <tr>\n",
       "      <th>6</th>\n",
       "      <td>0</td>\n",
       "      <td>1</td>\n",
       "      <td>1</td>\n",
       "      <td>0</td>\n",
       "      <td>0</td>\n",
       "      <td>0</td>\n",
       "      <td>0</td>\n",
       "    </tr>\n",
       "    <tr>\n",
       "      <th>7</th>\n",
       "      <td>0</td>\n",
       "      <td>0</td>\n",
       "      <td>0</td>\n",
       "      <td>0</td>\n",
       "      <td>0</td>\n",
       "      <td>0</td>\n",
       "      <td>0</td>\n",
       "    </tr>\n",
       "    <tr>\n",
       "      <th>8</th>\n",
       "      <td>0</td>\n",
       "      <td>0</td>\n",
       "      <td>1</td>\n",
       "      <td>0</td>\n",
       "      <td>1</td>\n",
       "      <td>0</td>\n",
       "      <td>0</td>\n",
       "    </tr>\n",
       "    <tr>\n",
       "      <th>9</th>\n",
       "      <td>0</td>\n",
       "      <td>1</td>\n",
       "      <td>0</td>\n",
       "      <td>0</td>\n",
       "      <td>1</td>\n",
       "      <td>0</td>\n",
       "      <td>0</td>\n",
       "    </tr>\n",
       "  </tbody>\n",
       "</table>\n",
       "</div>"
      ],
      "text/plain": [
       "   TRAUSTREFLG  ANXIETYFLG  ADHDFLG  BIPOLARFLG  DEPRESSFLG  SCHIZOFLG  \\\n",
       "0            0           0        0           0           1          0   \n",
       "1            0           0        0           0           0          1   \n",
       "2            0           0        0           0           0          0   \n",
       "3            0           0        0           0           0          1   \n",
       "4            1           1        0           0           1          0   \n",
       "5            0           0        0           0           0          0   \n",
       "6            0           1        1           0           0          0   \n",
       "7            0           0        0           0           0          0   \n",
       "8            0           0        1           0           1          0   \n",
       "9            0           1        0           0           1          0   \n",
       "\n",
       "   PERSONFLG  \n",
       "0          0  \n",
       "1          0  \n",
       "2          0  \n",
       "3          0  \n",
       "4          0  \n",
       "5          0  \n",
       "6          0  \n",
       "7          0  \n",
       "8          0  \n",
       "9          0  "
      ]
     },
     "execution_count": 96,
     "metadata": {},
     "output_type": "execute_result"
    }
   ],
   "source": [
    "data.head(10)"
   ]
  },
  {
   "cell_type": "code",
   "execution_count": 97,
   "id": "c56e2f38-b4aa-4f7a-99b1-832870fccbe5",
   "metadata": {},
   "outputs": [],
   "source": [
    "#create a label for those which are purely 1 for some disorder and 0 for all others. separate category for uncategorized\n",
    "#use this as a hue to color the graph"
   ]
  },
  {
   "cell_type": "code",
   "execution_count": 98,
   "id": "17a4a895-12c3-485d-884b-55979f8913bb",
   "metadata": {},
   "outputs": [
    {
     "name": "stderr",
     "output_type": "stream",
     "text": [
      "/var/folders/4d/rp7dhwss6znf18sks0v304d80000gn/T/ipykernel_1622/1167394705.py:3: UserWarning: Ignoring `palette` because no `hue` variable has been assigned.\n",
      "  plot = sns.scatterplot(\n"
     ]
    },
    {
     "data": {
      "image/png": "[encoded data removed]",
      "text/plain": [
       "<Figure size 1600x1000 with 1 Axes>"
      ]
     },
     "metadata": {},
     "output_type": "display_data"
    }
   ],
   "source": [
    "#plot the t-SNE results\n",
    "plt.figure(figsize=(16,10))\n",
    "plot = sns.scatterplot(\n",
    "    x=\"tsne-2d-one\", y=\"tsne-2d-two\",\n",
    "    #hue=\"y\",\n",
    "    palette=sns.color_palette(\"hls\", 10),\n",
    "    data=tsne_df,\n",
    "    legend=\"full\",\n",
    "    alpha=0.3\n",
    ")"
   ]
  },
  {
   "cell_type": "code",
   "execution_count": 99,
   "id": "da3da534-2e4b-4c54-87c7-dd3b788d1fe7",
   "metadata": {},
   "outputs": [],
   "source": [
    "fig = plot.get_figure()\n",
    "fig.savefig(\"./plots/tsne_plot_mental-health_client-level_data_perplexity=1000_num-data-points=30000_num_iters=500.png\")"
   ]
  },
  {
   "cell_type": "code",
   "execution_count": null,
   "id": "43a5a99a-41f3-4385-95de-29f4d8806a70",
   "metadata": {},
   "outputs": [],
   "source": []
  }
 ],
 "metadata": {
  "kernelspec": {
   "display_name": "Python 3 (ipykernel)",
   "language": "python",
   "name": "python3"
  },
  "language_info": {
   "codemirror_mode": {
    "name": "ipython",
    "version": 3
   },
   "file_extension": ".py",
   "mimetype": "text/x-python",
   "name": "python",
   "nbconvert_exporter": "python",
   "pygments_lexer": "ipython3",
   "version": "3.9.6"
  }
 },
 "nbformat": 4,
 "nbformat_minor": 5
}
