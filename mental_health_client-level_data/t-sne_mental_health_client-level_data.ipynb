{
 "cells": [
  {
   "cell_type": "code",
   "execution_count": 2,
   "id": "ca3e540d-abad-48f0-9427-2efffe8ffe70",
   "metadata": {},
   "outputs": [
    {
     "name": "stdout",
     "output_type": "stream",
     "text": [
      "mhcld_puf_2021.csv\n",
      "t-sne_mental_health_client-level_data.ipynb\n"
     ]
    }
   ],
   "source": [
    "!ls"
   ]
  },
  {
   "cell_type": "code",
   "execution_count": 1,
   "id": "ac640338-e2ba-43c8-8d2f-7321c562f73b",
   "metadata": {},
   "outputs": [],
   "source": [
    "import pandas as pd\n",
    "import numpy as np\n",
    "import seaborn as sns\n",
    "import matplotlib.pyplot as plt"
   ]
  },
  {
   "cell_type": "code",
   "execution_count": 35,
   "id": "2c6c99d9-896b-49cc-b577-3005eba0a843",
   "metadata": {},
   "outputs": [],
   "source": [
    "data = pd.read_csv(\"mhcld_puf_2021.csv\")"
   ]
  },
  {
   "cell_type": "code",
   "execution_count": 36,
   "id": "5a17f7b5-c62b-4da3-839b-e7ef0bd2df74",
   "metadata": {},
   "outputs": [
    {
     "data": {
      "text/plain": [
       "Index(['YEAR', 'AGE', 'EDUC', 'ETHNIC', 'RACE', 'GENDER', 'SPHSERVICE',\n",
       "       'CMPSERVICE', 'OPISERVICE', 'RTCSERVICE', 'IJSSERVICE', 'MH1', 'MH2',\n",
       "       'MH3', 'SUB', 'MARSTAT', 'SMISED', 'SAP', 'EMPLOY', 'DETNLF', 'VETERAN',\n",
       "       'LIVARAG', 'NUMMHS', 'TRAUSTREFLG', 'ANXIETYFLG', 'ADHDFLG',\n",
       "       'CONDUCTFLG', 'DELIRDEMFLG', 'BIPOLARFLG', 'DEPRESSFLG', 'ODDFLG',\n",
       "       'PDDFLG', 'PERSONFLG', 'SCHIZOFLG', 'ALCSUBFLG', 'OTHERDISFLG',\n",
       "       'STATEFIP', 'DIVISION', 'REGION', 'CASEID'],\n",
       "      dtype='object')"
      ]
     },
     "execution_count": 36,
     "metadata": {},
     "output_type": "execute_result"
    }
   ],
   "source": [
    "data.columns"
   ]
  },
  {
   "cell_type": "code",
   "execution_count": 39,
   "id": "ca5ce407-a108-4144-916e-8df09b0167f5",
   "metadata": {},
   "outputs": [],
   "source": [
    "disorder_cols = ['TRAUSTREFLG','ANXIETYFLG','ADHDFLG','BIPOLARFLG','DEPRESSFLG','SCHIZOFLG','PERSONFLG']\n",
    "data = data[disorder_cols]"
   ]
  },
  {
   "cell_type": "code",
   "execution_count": 33,
   "id": "2dbe4823-f3a0-4ba1-85e0-ea38a9eecc32",
   "metadata": {},
   "outputs": [],
   "source": [
    "#drop YEAR since all same\n",
    "#drop CASEID since index column\n",
    "#need to one-hot encode categorical data\n",
    "#data = data.drop(columns=['YEAR','CASEID'])"
   ]
  },
  {
   "cell_type": "code",
   "execution_count": 40,
   "id": "7f1ad2ae-b595-4ee1-8626-27c807854ed6",
   "metadata": {},
   "outputs": [
    {
     "data": {
      "text/html": [
       "<div>\n",
       "<style scoped>\n",
       "    .dataframe tbody tr th:only-of-type {\n",
       "        vertical-align: middle;\n",
       "    }\n",
       "\n",
       "    .dataframe tbody tr th {\n",
       "        vertical-align: top;\n",
       "    }\n",
       "\n",
       "    .dataframe thead th {\n",
       "        text-align: right;\n",
       "    }\n",
       "</style>\n",
       "<table border=\"1\" class=\"dataframe\">\n",
       "  <thead>\n",
       "    <tr style=\"text-align: right;\">\n",
       "      <th></th>\n",
       "      <th>TRAUSTREFLG</th>\n",
       "      <th>ANXIETYFLG</th>\n",
       "      <th>ADHDFLG</th>\n",
       "      <th>BIPOLARFLG</th>\n",
       "      <th>DEPRESSFLG</th>\n",
       "      <th>SCHIZOFLG</th>\n",
       "      <th>PERSONFLG</th>\n",
       "    </tr>\n",
       "  </thead>\n",
       "  <tbody>\n",
       "    <tr>\n",
       "      <th>0</th>\n",
       "      <td>0</td>\n",
       "      <td>0</td>\n",
       "      <td>0</td>\n",
       "      <td>0</td>\n",
       "      <td>1</td>\n",
       "      <td>0</td>\n",
       "      <td>0</td>\n",
       "    </tr>\n",
       "    <tr>\n",
       "      <th>1</th>\n",
       "      <td>0</td>\n",
       "      <td>0</td>\n",
       "      <td>0</td>\n",
       "      <td>0</td>\n",
       "      <td>0</td>\n",
       "      <td>1</td>\n",
       "      <td>0</td>\n",
       "    </tr>\n",
       "    <tr>\n",
       "      <th>2</th>\n",
       "      <td>0</td>\n",
       "      <td>0</td>\n",
       "      <td>0</td>\n",
       "      <td>0</td>\n",
       "      <td>0</td>\n",
       "      <td>0</td>\n",
       "      <td>0</td>\n",
       "    </tr>\n",
       "    <tr>\n",
       "      <th>3</th>\n",
       "      <td>0</td>\n",
       "      <td>0</td>\n",
       "      <td>0</td>\n",
       "      <td>0</td>\n",
       "      <td>0</td>\n",
       "      <td>1</td>\n",
       "      <td>0</td>\n",
       "    </tr>\n",
       "    <tr>\n",
       "      <th>4</th>\n",
       "      <td>1</td>\n",
       "      <td>1</td>\n",
       "      <td>0</td>\n",
       "      <td>0</td>\n",
       "      <td>1</td>\n",
       "      <td>0</td>\n",
       "      <td>0</td>\n",
       "    </tr>\n",
       "  </tbody>\n",
       "</table>\n",
       "</div>"
      ],
      "text/plain": [
       "   TRAUSTREFLG  ANXIETYFLG  ADHDFLG  BIPOLARFLG  DEPRESSFLG  SCHIZOFLG  \\\n",
       "0            0           0        0           0           1          0   \n",
       "1            0           0        0           0           0          1   \n",
       "2            0           0        0           0           0          0   \n",
       "3            0           0        0           0           0          1   \n",
       "4            1           1        0           0           1          0   \n",
       "\n",
       "   PERSONFLG  \n",
       "0          0  \n",
       "1          0  \n",
       "2          0  \n",
       "3          0  \n",
       "4          0  "
      ]
     },
     "execution_count": 40,
     "metadata": {},
     "output_type": "execute_result"
    }
   ],
   "source": [
    "data.head()"
   ]
  },
  {
   "cell_type": "code",
   "execution_count": 41,
   "id": "217a9567-bb15-4faf-9a66-8c469948960f",
   "metadata": {},
   "outputs": [
    {
     "name": "stdout",
     "output_type": "stream",
     "text": [
      "<class 'pandas.core.frame.DataFrame'>\n",
      "RangeIndex: 6509025 entries, 0 to 6509024\n",
      "Data columns (total 7 columns):\n",
      " #   Column       Dtype\n",
      "---  ------       -----\n",
      " 0   TRAUSTREFLG  int64\n",
      " 1   ANXIETYFLG   int64\n",
      " 2   ADHDFLG      int64\n",
      " 3   BIPOLARFLG   int64\n",
      " 4   DEPRESSFLG   int64\n",
      " 5   SCHIZOFLG    int64\n",
      " 6   PERSONFLG    int64\n",
      "dtypes: int64(7)\n",
      "memory usage: 347.6 MB\n"
     ]
    }
   ],
   "source": [
    "data.info()"
   ]
  },
  {
   "cell_type": "code",
   "execution_count": 77,
   "id": "08cef81e-82f2-4649-b7ee-8e673fcefb0b",
   "metadata": {},
   "outputs": [],
   "source": [
    "#https://scikit-learn.org/stable/modules/generated/sklearn.decomposition.PCA.html\n",
    "#perform PCA without CAS connection\n",
    "from sklearn import datasets, decomposition\n",
    "#fill missing values\n",
    "#X = data.fillna(data.mean())\n",
    "#drop missing values\n",
    "X = data.dropna()\n",
    "X = X[:25_000]\n",
    "n_samples = X.shape[0]"
   ]
  },
  {
   "cell_type": "code",
   "execution_count": 79,
   "id": "d1583acd-7a81-43d1-a750-aa278245e3a5",
   "metadata": {},
   "outputs": [
    {
     "data": {
      "text/plain": [
       "(25000, 7)"
      ]
     },
     "execution_count": 79,
     "metadata": {},
     "output_type": "execute_result"
    }
   ],
   "source": [
    "pca = decomposition.PCA(n_components=3)\n",
    "pca.fit(X)\n",
    "X.shape"
   ]
  },
  {
   "cell_type": "code",
   "execution_count": 80,
   "id": "94bbef21-2241-44e3-aa1b-c0f44eeb8dbf",
   "metadata": {},
   "outputs": [
    {
     "name": "stdout",
     "output_type": "stream",
     "text": [
      "0.2692010482528775\n",
      "0.26921181672553907\n",
      "0.17865693263379126\n",
      "0.17866407919696667\n",
      "0.16081123334658184\n",
      "0.16081766605323125\n"
     ]
    }
   ],
   "source": [
    "#https://stackoverflow.com/questions/31909945/obtain-eigen-values-and-vectors-from-sklearn-pca\n",
    "# We center the data and compute the sample covariance matrix\n",
    "X_centered = X - np.mean(X, axis=0)\n",
    "cov_matrix = np.dot(X_centered.T, X_centered) / n_samples\n",
    "eigenvalues = pca.explained_variance_\n",
    "for eigenvalue, eigenvector in zip(eigenvalues, pca.components_):    \n",
    "    print(np.dot(eigenvector.T, np.dot(cov_matrix, eigenvector)))\n",
    "    print(eigenvalue)"
   ]
  },
  {
   "cell_type": "code",
   "execution_count": 81,
   "id": "e6c38979-d7fd-44c3-94c1-bf987a52d08a",
   "metadata": {},
   "outputs": [],
   "source": [
    "#create pandas dataframes from label and pca transformed data\n",
    "X_transform = pca.transform(X)\n",
    "transform_df = pd.DataFrame(X_transform,columns=['score0','score1','score2'])"
   ]
  },
  {
   "cell_type": "code",
   "execution_count": 82,
   "id": "a6577e9c-b139-4d2c-ad2d-c4db9b9372f7",
   "metadata": {},
   "outputs": [
    {
     "data": {
      "text/plain": [
       "(25000, 3)"
      ]
     },
     "execution_count": 82,
     "metadata": {},
     "output_type": "execute_result"
    }
   ],
   "source": [
    "X_transform.shape"
   ]
  },
  {
   "cell_type": "code",
   "execution_count": 83,
   "id": "673305b0-bde3-4590-aefa-357615753a02",
   "metadata": {},
   "outputs": [
    {
     "data": {
      "image/png": "[encoded data removed]",
      "text/plain": [
       "<Figure size 500x500 with 1 Axes>"
      ]
     },
     "metadata": {},
     "output_type": "display_data"
    }
   ],
   "source": [
    "# Plot of PCA\n",
    "\n",
    "# Set style of scatterplot\n",
    "sns.set_context(\"notebook\", font_scale=1.1)\n",
    "sns.set_style(\"ticks\")\n",
    "\n",
    "# Create scatterplot of dataframe\n",
    "sns.lmplot(x='score0',\n",
    "           y='score1',\n",
    "           data=transform_df,\n",
    "           fit_reg=False,\n",
    "           legend=True,\n",
    "           #size=9,\n",
    "           #hue='score2',\n",
    "           scatter_kws={\"s\":200, \"alpha\":0.3})\n",
    "\n",
    "plt.title('PCA Results', weight='bold').set_fontsize('14')\n",
    "plt.xlabel('Prin Comp 1', weight='bold').set_fontsize('10')\n",
    "plt.ylabel('Prin Comp 2', weight='bold').set_fontsize('10')\n",
    "plt.savefig('pca_mental-health_client-level.png')"
   ]
  },
  {
   "cell_type": "code",
   "execution_count": 84,
   "id": "e15add4b-7dcd-4dab-a148-3f833f2478a8",
   "metadata": {},
   "outputs": [],
   "source": [
    "from sklearn.manifold import TSNE"
   ]
  },
  {
   "cell_type": "code",
   "execution_count": 85,
   "id": "12e4e0b8-e627-40ab-8d75-9bc9e528af73",
   "metadata": {},
   "outputs": [],
   "source": [
    "tsne = TSNE(n_components=2, verbose=1, perplexity=100, n_iter=300)"
   ]
  },
  {
   "cell_type": "code",
   "execution_count": 86,
   "id": "27d0481c-b7ca-4956-b5c2-e00d8dd68d70",
   "metadata": {},
   "outputs": [
    {
     "name": "stdout",
     "output_type": "stream",
     "text": [
      "[t-SNE] Computing 301 nearest neighbors...\n",
      "[t-SNE] Indexed 25000 samples in 0.014s...\n",
      "[t-SNE] Computed neighbors for 25000 samples in 1.937s...\n",
      "[t-SNE] Computed conditional probabilities for sample 1000 / 25000\n",
      "[t-SNE] Computed conditional probabilities for sample 2000 / 25000\n",
      "[t-SNE] Computed conditional probabilities for sample 3000 / 25000\n",
      "[t-SNE] Computed conditional probabilities for sample 4000 / 25000\n",
      "[t-SNE] Computed conditional probabilities for sample 5000 / 25000\n",
      "[t-SNE] Computed conditional probabilities for sample 6000 / 25000\n",
      "[t-SNE] Computed conditional probabilities for sample 7000 / 25000\n",
      "[t-SNE] Computed conditional probabilities for sample 8000 / 25000\n",
      "[t-SNE] Computed conditional probabilities for sample 9000 / 25000\n",
      "[t-SNE] Computed conditional probabilities for sample 10000 / 25000\n",
      "[t-SNE] Computed conditional probabilities for sample 11000 / 25000\n",
      "[t-SNE] Computed conditional probabilities for sample 12000 / 25000\n",
      "[t-SNE] Computed conditional probabilities for sample 13000 / 25000\n",
      "[t-SNE] Computed conditional probabilities for sample 14000 / 25000\n",
      "[t-SNE] Computed conditional probabilities for sample 15000 / 25000\n",
      "[t-SNE] Computed conditional probabilities for sample 16000 / 25000\n",
      "[t-SNE] Computed conditional probabilities for sample 17000 / 25000\n",
      "[t-SNE] Computed conditional probabilities for sample 18000 / 25000\n",
      "[t-SNE] Computed conditional probabilities for sample 19000 / 25000\n",
      "[t-SNE] Computed conditional probabilities for sample 20000 / 25000\n",
      "[t-SNE] Computed conditional probabilities for sample 21000 / 25000\n",
      "[t-SNE] Computed conditional probabilities for sample 22000 / 25000\n",
      "[t-SNE] Computed conditional probabilities for sample 23000 / 25000\n",
      "[t-SNE] Computed conditional probabilities for sample 24000 / 25000\n",
      "[t-SNE] Computed conditional probabilities for sample 25000 / 25000\n",
      "[t-SNE] Mean sigma: 0.000000\n",
      "[t-SNE] KL divergence after 250 iterations with early exaggeration: 40.435215\n",
      "[t-SNE] KL divergence after 300 iterations: 0.488052\n"
     ]
    }
   ],
   "source": [
    "tsne_results = tsne.fit_transform(X)"
   ]
  },
  {
   "cell_type": "code",
   "execution_count": 87,
   "id": "2533eff5-c1cb-484d-9bdf-49d608009787",
   "metadata": {},
   "outputs": [],
   "source": [
    "tsne_df = pd.DataFrame(columns=['tsne-2d-one','tsne-2d-two'])\n",
    "tsne_df['tsne-2d-one'] = tsne_results[:,0]\n",
    "tsne_df['tsne-2d-two'] = tsne_results[:,1]"
   ]
  },
  {
   "cell_type": "code",
   "execution_count": 88,
   "id": "959b1d9d-0252-4e12-8270-b46e1f57b112",
   "metadata": {},
   "outputs": [
    {
     "data": {
      "text/plain": [
       "(25000, 2)"
      ]
     },
     "execution_count": 88,
     "metadata": {},
     "output_type": "execute_result"
    }
   ],
   "source": [
    "tsne_df.shape"
   ]
  },
  {
   "cell_type": "code",
   "execution_count": 89,
   "id": "57112eb6-6c2a-4a34-aa61-60befc9b55f8",
   "metadata": {},
   "outputs": [
    {
     "data": {
      "text/html": [
       "<div>\n",
       "<style scoped>\n",
       "    .dataframe tbody tr th:only-of-type {\n",
       "        vertical-align: middle;\n",
       "    }\n",
       "\n",
       "    .dataframe tbody tr th {\n",
       "        vertical-align: top;\n",
       "    }\n",
       "\n",
       "    .dataframe thead th {\n",
       "        text-align: right;\n",
       "    }\n",
       "</style>\n",
       "<table border=\"1\" class=\"dataframe\">\n",
       "  <thead>\n",
       "    <tr style=\"text-align: right;\">\n",
       "      <th></th>\n",
       "      <th>tsne-2d-one</th>\n",
       "      <th>tsne-2d-two</th>\n",
       "    </tr>\n",
       "  </thead>\n",
       "  <tbody>\n",
       "    <tr>\n",
       "      <th>0</th>\n",
       "      <td>-3.772742</td>\n",
       "      <td>5.940350</td>\n",
       "    </tr>\n",
       "    <tr>\n",
       "      <th>1</th>\n",
       "      <td>-1.839417</td>\n",
       "      <td>-1.945863</td>\n",
       "    </tr>\n",
       "    <tr>\n",
       "      <th>2</th>\n",
       "      <td>4.985999</td>\n",
       "      <td>-10.289200</td>\n",
       "    </tr>\n",
       "    <tr>\n",
       "      <th>3</th>\n",
       "      <td>-1.839439</td>\n",
       "      <td>-1.945863</td>\n",
       "    </tr>\n",
       "    <tr>\n",
       "      <th>4</th>\n",
       "      <td>-17.880562</td>\n",
       "      <td>0.553675</td>\n",
       "    </tr>\n",
       "    <tr>\n",
       "      <th>...</th>\n",
       "      <td>...</td>\n",
       "      <td>...</td>\n",
       "    </tr>\n",
       "    <tr>\n",
       "      <th>95</th>\n",
       "      <td>6.905820</td>\n",
       "      <td>-4.221991</td>\n",
       "    </tr>\n",
       "    <tr>\n",
       "      <th>96</th>\n",
       "      <td>-9.789961</td>\n",
       "      <td>9.034397</td>\n",
       "    </tr>\n",
       "    <tr>\n",
       "      <th>97</th>\n",
       "      <td>-8.524238</td>\n",
       "      <td>0.163526</td>\n",
       "    </tr>\n",
       "    <tr>\n",
       "      <th>98</th>\n",
       "      <td>4.986012</td>\n",
       "      <td>-10.289220</td>\n",
       "    </tr>\n",
       "    <tr>\n",
       "      <th>99</th>\n",
       "      <td>5.661768</td>\n",
       "      <td>14.914231</td>\n",
       "    </tr>\n",
       "  </tbody>\n",
       "</table>\n",
       "<p>100 rows × 2 columns</p>\n",
       "</div>"
      ],
      "text/plain": [
       "    tsne-2d-one  tsne-2d-two\n",
       "0     -3.772742     5.940350\n",
       "1     -1.839417    -1.945863\n",
       "2      4.985999   -10.289200\n",
       "3     -1.839439    -1.945863\n",
       "4    -17.880562     0.553675\n",
       "..          ...          ...\n",
       "95     6.905820    -4.221991\n",
       "96    -9.789961     9.034397\n",
       "97    -8.524238     0.163526\n",
       "98     4.986012   -10.289220\n",
       "99     5.661768    14.914231\n",
       "\n",
       "[100 rows x 2 columns]"
      ]
     },
     "execution_count": 89,
     "metadata": {},
     "output_type": "execute_result"
    }
   ],
   "source": [
    "#NOTE: \n",
    "#t-SNE depends heavily on perplexity\n",
    "#ensure no id column got mixed in\n",
    "tsne_df.head(100)"
   ]
  },
  {
   "cell_type": "code",
   "execution_count": 90,
   "id": "17a4a895-12c3-485d-884b-55979f8913bb",
   "metadata": {},
   "outputs": [
    {
     "name": "stderr",
     "output_type": "stream",
     "text": [
      "/var/folders/4d/rp7dhwss6znf18sks0v304d80000gn/T/ipykernel_3561/1167394705.py:3: UserWarning: Ignoring `palette` because no `hue` variable has been assigned.\n",
      "  plot = sns.scatterplot(\n"
     ]
    },
    {
     "data": {
      "image/png": "[encoded data removed]",
      "text/plain": [
       "<Figure size 1600x1000 with 1 Axes>"
      ]
     },
     "metadata": {},
     "output_type": "display_data"
    }
   ],
   "source": [
    "#plot the t-SNE results\n",
    "plt.figure(figsize=(16,10))\n",
    "plot = sns.scatterplot(\n",
    "    x=\"tsne-2d-one\", y=\"tsne-2d-two\",\n",
    "    #hue=\"y\",\n",
    "    palette=sns.color_palette(\"hls\", 10),\n",
    "    data=tsne_df,\n",
    "    legend=\"full\",\n",
    "    alpha=0.3\n",
    ")"
   ]
  },
  {
   "cell_type": "code",
   "execution_count": 91,
   "id": "da3da534-2e4b-4c54-87c7-dd3b788d1fe7",
   "metadata": {},
   "outputs": [],
   "source": [
    "fig = plot.get_figure()\n",
    "fig.savefig(\"tsne_plot_mental-health_client-level_data.png\")"
   ]
  },
  {
   "cell_type": "code",
   "execution_count": null,
   "id": "43a5a99a-41f3-4385-95de-29f4d8806a70",
   "metadata": {},
   "outputs": [],
   "source": []
  }
 ],
 "metadata": {
  "kernelspec": {
   "display_name": "Python 3 (ipykernel)",
   "language": "python",
   "name": "python3"
  },
  "language_info": {
   "codemirror_mode": {
    "name": "ipython",
    "version": 3
   },
   "file_extension": ".py",
   "mimetype": "text/x-python",
   "name": "python",
   "nbconvert_exporter": "python",
   "pygments_lexer": "ipython3",
   "version": "3.9.6"
  }
 },
 "nbformat": 4,
 "nbformat_minor": 5
}
